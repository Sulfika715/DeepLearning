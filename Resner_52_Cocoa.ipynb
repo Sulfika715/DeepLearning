{
  "nbformat": 4,
  "nbformat_minor": 0,
  "metadata": {
    "colab": {
      "name": "Resner_52_Cocoa.ipynb",
      "provenance": [],
      "collapsed_sections": [],
      "authorship_tag": "ABX9TyPf8efRPGU4FeowlckVwX7G",
      "include_colab_link": true
    },
    "kernelspec": {
      "name": "python3",
      "display_name": "Python 3"
    },
    "accelerator": "GPU"
  },
  "cells": [
    {
      "cell_type": "markdown",
      "metadata": {
        "id": "view-in-github",
        "colab_type": "text"
      },
      "source": [
        "<a href=\"https://colab.research.google.com/github/Sulfika715/DeepLearning/blob/master/Resner_52_Cocoa.ipynb\" target=\"_parent\"><img src=\"https://colab.research.google.com/assets/colab-badge.svg\" alt=\"Open In Colab\"/></a>"
      ]
    },
    {
      "cell_type": "code",
      "metadata": {
        "id": "DH-3Xd1sgCtq",
        "colab_type": "code",
        "colab": {
          "base_uri": "https://localhost:8080/",
          "height": 124
        },
        "outputId": "72f36692-cdf0-40d1-81c8-c18217216216"
      },
      "source": [
        "from google.colab import drive\n",
        "drive.mount('/content/drive')"
      ],
      "execution_count": 1,
      "outputs": [
        {
          "output_type": "stream",
          "text": [
            "Go to this URL in a browser: https://accounts.google.com/o/oauth2/auth?client_id=947318989803-6bn6qk8qdgf4n4g3pfee6491hc0brc4i.apps.googleusercontent.com&redirect_uri=urn%3aietf%3awg%3aoauth%3a2.0%3aoob&response_type=code&scope=email%20https%3a%2f%2fwww.googleapis.com%2fauth%2fdocs.test%20https%3a%2f%2fwww.googleapis.com%2fauth%2fdrive%20https%3a%2f%2fwww.googleapis.com%2fauth%2fdrive.photos.readonly%20https%3a%2f%2fwww.googleapis.com%2fauth%2fpeopleapi.readonly\n",
            "\n",
            "Enter your authorization code:\n",
            "··········\n",
            "Mounted at /content/drive\n"
          ],
          "name": "stdout"
        }
      ]
    },
    {
      "cell_type": "code",
      "metadata": {
        "id": "FFzGz4zBgnaD",
        "colab_type": "code",
        "colab": {
          "base_uri": "https://localhost:8080/",
          "height": 34
        },
        "outputId": "16c0e475-7573-4c75-92c4-70a025d26b84"
      },
      "source": [
        "%cd drive/'My Drive'"
      ],
      "execution_count": 2,
      "outputs": [
        {
          "output_type": "stream",
          "text": [
            "/content/drive/My Drive\n"
          ],
          "name": "stdout"
        }
      ]
    },
    {
      "cell_type": "code",
      "metadata": {
        "id": "2hA5ZvPQgrWI",
        "colab_type": "code",
        "colab": {
          "base_uri": "https://localhost:8080/",
          "height": 81
        },
        "outputId": "d8c204c8-0bb7-494a-cd3d-9097587e89aa"
      },
      "source": [
        "import numpy as np\n",
        "import pickle\n",
        "import cv2\n",
        "import keras\n",
        "from os import listdir\n",
        "from sklearn.preprocessing import LabelBinarizer\n",
        "from keras.models import Sequential\n",
        "from keras.layers.normalization import BatchNormalization\n",
        "from keras.layers.convolutional import Conv2D\n",
        "from keras.layers.convolutional import MaxPooling2D\n",
        "from keras.layers.core import Activation, Flatten, Dropout, Dense\n",
        "from keras import backend as K\n",
        "from keras.preprocessing.image import ImageDataGenerator\n",
        "from keras.optimizers import Adam\n",
        "from keras.models import Model\n",
        "from keras.preprocessing import image\n",
        "from keras.preprocessing.image import img_to_array\n",
        "from sklearn.preprocessing import MultiLabelBinarizer\n",
        "from sklearn.model_selection import train_test_split\n",
        "import matplotlib.pyplot as plt\n",
        "\n",
        "\n",
        "from keras.applications.resnet import ResNet152"
      ],
      "execution_count": 3,
      "outputs": [
        {
          "output_type": "stream",
          "text": [
            "Using TensorFlow backend.\n"
          ],
          "name": "stderr"
        },
        {
          "output_type": "display_data",
          "data": {
            "text/html": [
              "<p style=\"color: red;\">\n",
              "The default version of TensorFlow in Colab will soon switch to TensorFlow 2.x.<br>\n",
              "We recommend you <a href=\"https://www.tensorflow.org/guide/migrate\" target=\"_blank\">upgrade</a> now \n",
              "or ensure your notebook will continue to use TensorFlow 1.x via the <code>%tensorflow_version 1.x</code> magic:\n",
              "<a href=\"https://colab.research.google.com/notebooks/tensorflow_version.ipynb\" target=\"_blank\">more info</a>.</p>\n"
            ],
            "text/plain": [
              "<IPython.core.display.HTML object>"
            ]
          },
          "metadata": {
            "tags": []
          }
        }
      ]
    },
    {
      "cell_type": "code",
      "metadata": {
        "id": "Ko534eoKgx7v",
        "colab_type": "code",
        "colab": {}
      },
      "source": [
        "EPOCHS = 50\n",
        "INIT_LR = 1e-3\n",
        "BS = 32\n",
        "default_image_size = tuple((224, 224))\n",
        "image_size = 0\n",
        "directory_root = './Dataset/'\n",
        "width=224\n",
        "height=224\n",
        "depth=3"
      ],
      "execution_count": 0,
      "outputs": []
    },
    {
      "cell_type": "code",
      "metadata": {
        "id": "sI_Hd54XhErd",
        "colab_type": "code",
        "colab": {}
      },
      "source": [
        "def convert_image_to_array(image_dir):\n",
        "    try:\n",
        "        image = cv2.imread(image_dir)\n",
        "        if image is not None :\n",
        "            image = cv2.resize(image, default_image_size)   \n",
        "            return img_to_array(image)\n",
        "        else :\n",
        "            return np.array([])\n",
        "    except Exception as e:\n",
        "        print(f\"Error : {e}\")\n",
        "        return None"
      ],
      "execution_count": 0,
      "outputs": []
    },
    {
      "cell_type": "code",
      "metadata": {
        "id": "3Ql7BQYFhKDO",
        "colab_type": "code",
        "colab": {
          "base_uri": "https://localhost:8080/",
          "height": 156
        },
        "outputId": "96c8852f-0f83-40d6-82e3-bfb4bbf3a5b4"
      },
      "source": [
        "image_list, label_list = [], []\n",
        "try:\n",
        "    print(\"[INFO] Loading images ...\")\n",
        "    root_dir = listdir(directory_root)\n",
        "    for directory in root_dir :\n",
        "        # remove .DS_Store from list\n",
        "        if directory == \".DS_Store\" :\n",
        "            root_dir.remove(directory)\n",
        "\n",
        "    for plant_folder in root_dir :\n",
        "        plant_disease_folder_list = listdir(f\"{directory_root}/{plant_folder}\")\n",
        "        \n",
        "        for disease_folder in plant_disease_folder_list :\n",
        "            # remove .DS_Store from list\n",
        "            if disease_folder == \".DS_Store\" :\n",
        "                plant_disease_folder_list.remove(disease_folder)\n",
        "\n",
        "        for plant_disease_folder in plant_disease_folder_list:\n",
        "            print(f\"[INFO] Processing {plant_disease_folder} ...\")\n",
        "            plant_disease_image_list = listdir(f\"{directory_root}/{plant_folder}/{plant_disease_folder}/\")\n",
        "                \n",
        "            for single_plant_disease_image in plant_disease_image_list :\n",
        "                if single_plant_disease_image == \".DS_Store\" :\n",
        "                    plant_disease_image_list.remove(single_plant_disease_image)\n",
        "\n",
        "            for image in plant_disease_image_list[:200]:\n",
        "                image_directory = f\"{directory_root}/{plant_folder}/{plant_disease_folder}/{image}\"\n",
        "                if image_directory.endswith(\".jpg\") == True or image_directory.endswith(\".JPG\") == True:\n",
        "                    image_list.append(convert_image_to_array(image_directory))\n",
        "                    label_list.append(plant_disease_folder)\n",
        "    print(\"[INFO] Image loading completed\")  \n",
        "except Exception as e:\n",
        "    print(f\"Error : {e}\")"
      ],
      "execution_count": 6,
      "outputs": [
        {
          "output_type": "stream",
          "text": [
            "[INFO] Loading images ...\n",
            "[INFO] Processing Unfermented_Cocoa ...\n",
            "[INFO] Processing Moldy_Cocoa ...\n",
            "[INFO] Processing Whole_Beans_Cocoa ...\n",
            "[INFO] Processing Fermented_Cocoa ...\n",
            "[INFO] Processing Broken_Beans_Cocoa ...\n",
            "[INFO] Processing Bean_Fraction_Cocoa ...\n",
            "[INFO] Image loading completed\n"
          ],
          "name": "stdout"
        }
      ]
    },
    {
      "cell_type": "code",
      "metadata": {
        "id": "RlYSL1Naje2n",
        "colab_type": "code",
        "colab": {}
      },
      "source": [
        "image_size = len(image_list)"
      ],
      "execution_count": 0,
      "outputs": []
    },
    {
      "cell_type": "code",
      "metadata": {
        "id": "KKwiWR2oji_Z",
        "colab_type": "code",
        "colab": {
          "base_uri": "https://localhost:8080/",
          "height": 34
        },
        "outputId": "94a21ebe-dcd5-4732-e5c9-508b2a6f7fb0"
      },
      "source": [
        "print(image_size)"
      ],
      "execution_count": 8,
      "outputs": [
        {
          "output_type": "stream",
          "text": [
            "614\n"
          ],
          "name": "stdout"
        }
      ]
    },
    {
      "cell_type": "code",
      "metadata": {
        "id": "HCLCndYMjljR",
        "colab_type": "code",
        "colab": {}
      },
      "source": [
        "label_binarizer = LabelBinarizer()\n",
        "image_labels = label_binarizer.fit_transform(label_list)\n",
        "pickle.dump(label_binarizer,open('label_transform.pkl', 'wb'))\n",
        "n_classes = len(label_binarizer.classes_)"
      ],
      "execution_count": 0,
      "outputs": []
    },
    {
      "cell_type": "code",
      "metadata": {
        "id": "8TfhQJoyjtRl",
        "colab_type": "code",
        "colab": {
          "base_uri": "https://localhost:8080/",
          "height": 52
        },
        "outputId": "dd871430-58ef-45c0-9cb1-5b75a52e4d0d"
      },
      "source": [
        "print(label_binarizer.classes_)"
      ],
      "execution_count": 10,
      "outputs": [
        {
          "output_type": "stream",
          "text": [
            "['Bean_Fraction_Cocoa' 'Broken_Beans_Cocoa' 'Fermented_Cocoa'\n",
            " 'Moldy_Cocoa' 'Unfermented_Cocoa' 'Whole_Beans_Cocoa']\n"
          ],
          "name": "stdout"
        }
      ]
    },
    {
      "cell_type": "code",
      "metadata": {
        "id": "2hPE_VVEjylH",
        "colab_type": "code",
        "colab": {}
      },
      "source": [
        "np_image_list = np.array(image_list, dtype=np.float16) / 225.0"
      ],
      "execution_count": 0,
      "outputs": []
    },
    {
      "cell_type": "code",
      "metadata": {
        "id": "14IouMAYj3Y3",
        "colab_type": "code",
        "colab": {
          "base_uri": "https://localhost:8080/",
          "height": 34
        },
        "outputId": "90f0c85d-57b8-47f7-d043-a98cef098ba3"
      },
      "source": [
        "print(\"[INFO] Spliting data to train, test\")\n",
        "x_train, x_test, y_train, y_test = train_test_split(np_image_list, image_labels, test_size=0.2, random_state = 42) "
      ],
      "execution_count": 12,
      "outputs": [
        {
          "output_type": "stream",
          "text": [
            "[INFO] Spliting data to train, test\n"
          ],
          "name": "stdout"
        }
      ]
    },
    {
      "cell_type": "code",
      "metadata": {
        "id": "IT5nMrpaj7Gy",
        "colab_type": "code",
        "colab": {}
      },
      "source": [
        "aug = ImageDataGenerator(\n",
        "    rotation_range=25, width_shift_range=0.1,\n",
        "    height_shift_range=0.1, shear_range=0.2, \n",
        "    zoom_range=0.2,horizontal_flip=True, \n",
        "    fill_mode=\"nearest\")"
      ],
      "execution_count": 0,
      "outputs": []
    },
    {
      "cell_type": "code",
      "metadata": {
        "id": "4UEtBC2hj_bg",
        "colab_type": "code",
        "colab": {
          "base_uri": "https://localhost:8080/",
          "height": 574
        },
        "outputId": "014b5069-c376-4423-e7cf-50492c0ce759"
      },
      "source": [
        "input_shape = (height, width, depth)\n",
        "\n",
        "restnet = ResNet152(include_top=False, weights='imagenet', input_shape=(height,width,3))\n",
        "output = restnet.layers[-1].output\n",
        "output = keras.layers.Flatten()(output)\n",
        "restnet = Model(restnet.input, output=output)\n",
        "\n",
        "for layer in restnet.layers:\n",
        "    layer.trainable = False\n",
        "  \n",
        "model = Sequential()\n",
        "model.add(restnet)\n",
        "model.add(Dense(512, activation='relu', input_dim=input_shape))\n",
        "model.add(Dropout(0.3))\n",
        "model.add(Dense(512, activation='relu'))\n",
        "model.add(Dropout(0.3))\n",
        "model.add(Dense(6, activation='softmax'))"
      ],
      "execution_count": 14,
      "outputs": [
        {
          "output_type": "stream",
          "text": [
            "WARNING:tensorflow:From /usr/local/lib/python3.6/dist-packages/keras/backend/tensorflow_backend.py:66: The name tf.get_default_graph is deprecated. Please use tf.compat.v1.get_default_graph instead.\n",
            "\n",
            "WARNING:tensorflow:From /usr/local/lib/python3.6/dist-packages/keras/backend/tensorflow_backend.py:541: The name tf.placeholder is deprecated. Please use tf.compat.v1.placeholder instead.\n",
            "\n",
            "WARNING:tensorflow:From /usr/local/lib/python3.6/dist-packages/keras/backend/tensorflow_backend.py:4432: The name tf.random_uniform is deprecated. Please use tf.random.uniform instead.\n",
            "\n",
            "WARNING:tensorflow:From /usr/local/lib/python3.6/dist-packages/keras/backend/tensorflow_backend.py:190: The name tf.get_default_session is deprecated. Please use tf.compat.v1.get_default_session instead.\n",
            "\n",
            "WARNING:tensorflow:From /usr/local/lib/python3.6/dist-packages/keras/backend/tensorflow_backend.py:197: The name tf.ConfigProto is deprecated. Please use tf.compat.v1.ConfigProto instead.\n",
            "\n",
            "WARNING:tensorflow:From /usr/local/lib/python3.6/dist-packages/keras/backend/tensorflow_backend.py:203: The name tf.Session is deprecated. Please use tf.compat.v1.Session instead.\n",
            "\n",
            "WARNING:tensorflow:From /usr/local/lib/python3.6/dist-packages/keras/backend/tensorflow_backend.py:207: The name tf.global_variables is deprecated. Please use tf.compat.v1.global_variables instead.\n",
            "\n",
            "WARNING:tensorflow:From /usr/local/lib/python3.6/dist-packages/keras/backend/tensorflow_backend.py:216: The name tf.is_variable_initialized is deprecated. Please use tf.compat.v1.is_variable_initialized instead.\n",
            "\n",
            "WARNING:tensorflow:From /usr/local/lib/python3.6/dist-packages/keras/backend/tensorflow_backend.py:223: The name tf.variables_initializer is deprecated. Please use tf.compat.v1.variables_initializer instead.\n",
            "\n",
            "WARNING:tensorflow:From /usr/local/lib/python3.6/dist-packages/keras/backend/tensorflow_backend.py:2041: The name tf.nn.fused_batch_norm is deprecated. Please use tf.compat.v1.nn.fused_batch_norm instead.\n",
            "\n",
            "WARNING:tensorflow:From /usr/local/lib/python3.6/dist-packages/keras/backend/tensorflow_backend.py:148: The name tf.placeholder_with_default is deprecated. Please use tf.compat.v1.placeholder_with_default instead.\n",
            "\n",
            "WARNING:tensorflow:From /usr/local/lib/python3.6/dist-packages/keras/backend/tensorflow_backend.py:4267: The name tf.nn.max_pool is deprecated. Please use tf.nn.max_pool2d instead.\n",
            "\n",
            "Downloading data from https://github.com/keras-team/keras-applications/releases/download/resnet/resnet152_weights_tf_dim_ordering_tf_kernels_notop.h5\n",
            "234700800/234698864 [==============================] - 5s 0us/step\n"
          ],
          "name": "stdout"
        },
        {
          "output_type": "stream",
          "text": [
            "/usr/local/lib/python3.6/dist-packages/ipykernel_launcher.py:6: UserWarning: Update your `Model` call to the Keras 2 API: `Model(Tensor(\"in..., outputs=Tensor(\"fl...)`\n",
            "  \n"
          ],
          "name": "stderr"
        },
        {
          "output_type": "stream",
          "text": [
            "WARNING:tensorflow:From /usr/local/lib/python3.6/dist-packages/keras/backend/tensorflow_backend.py:3733: calling dropout (from tensorflow.python.ops.nn_ops) with keep_prob is deprecated and will be removed in a future version.\n",
            "Instructions for updating:\n",
            "Please use `rate` instead of `keep_prob`. Rate should be set to `rate = 1 - keep_prob`.\n"
          ],
          "name": "stdout"
        }
      ]
    },
    {
      "cell_type": "code",
      "metadata": {
        "id": "gGwrulankPlQ",
        "colab_type": "code",
        "colab": {
          "base_uri": "https://localhost:8080/",
          "height": 381
        },
        "outputId": "aef255e2-d696-48a1-e384-3be8de174eac"
      },
      "source": [
        "print(model.summary())"
      ],
      "execution_count": 15,
      "outputs": [
        {
          "output_type": "stream",
          "text": [
            "Model: \"sequential_1\"\n",
            "_________________________________________________________________\n",
            "Layer (type)                 Output Shape              Param #   \n",
            "=================================================================\n",
            "model_1 (Model)              (None, 100352)            58370944  \n",
            "_________________________________________________________________\n",
            "dense_1 (Dense)              (None, 512)               51380736  \n",
            "_________________________________________________________________\n",
            "dropout_1 (Dropout)          (None, 512)               0         \n",
            "_________________________________________________________________\n",
            "dense_2 (Dense)              (None, 512)               262656    \n",
            "_________________________________________________________________\n",
            "dropout_2 (Dropout)          (None, 512)               0         \n",
            "_________________________________________________________________\n",
            "dense_3 (Dense)              (None, 6)                 3078      \n",
            "=================================================================\n",
            "Total params: 110,017,414\n",
            "Trainable params: 51,646,470\n",
            "Non-trainable params: 58,370,944\n",
            "_________________________________________________________________\n",
            "None\n"
          ],
          "name": "stdout"
        }
      ]
    },
    {
      "cell_type": "code",
      "metadata": {
        "id": "CeMVru8xkUHH",
        "colab_type": "code",
        "colab": {
          "base_uri": "https://localhost:8080/",
          "height": 176
        },
        "outputId": "b029198b-1b45-4c81-8c60-0cff9a5b0dac"
      },
      "source": [
        "opt = Adam(lr=INIT_LR, decay=INIT_LR / EPOCHS)\n",
        "# distribution\n",
        "model.compile(loss=\"binary_crossentropy\", optimizer=opt,metrics=[\"accuracy\"])\n",
        "# train the network\n",
        "print(\"[INFO] training network...\")"
      ],
      "execution_count": 16,
      "outputs": [
        {
          "output_type": "stream",
          "text": [
            "WARNING:tensorflow:From /usr/local/lib/python3.6/dist-packages/keras/optimizers.py:793: The name tf.train.Optimizer is deprecated. Please use tf.compat.v1.train.Optimizer instead.\n",
            "\n",
            "WARNING:tensorflow:From /usr/local/lib/python3.6/dist-packages/keras/backend/tensorflow_backend.py:3657: The name tf.log is deprecated. Please use tf.math.log instead.\n",
            "\n",
            "WARNING:tensorflow:From /tensorflow-1.15.0/python3.6/tensorflow_core/python/ops/nn_impl.py:183: where (from tensorflow.python.ops.array_ops) is deprecated and will be removed in a future version.\n",
            "Instructions for updating:\n",
            "Use tf.where in 2.0, which has the same broadcast rule as np.where\n",
            "[INFO] training network...\n"
          ],
          "name": "stdout"
        }
      ]
    },
    {
      "cell_type": "code",
      "metadata": {
        "id": "dS_OpwgokZ8j",
        "colab_type": "code",
        "colab": {
          "base_uri": "https://localhost:8080/",
          "height": 1000
        },
        "outputId": "508247b0-af26-4d20-e35a-f50d9587efdd"
      },
      "source": [
        "history = model.fit_generator(\n",
        "    aug.flow(x_train, y_train, batch_size=BS),\n",
        "    validation_data=(x_test, y_test),\n",
        "    steps_per_epoch=len(x_train) // BS,\n",
        "    epochs=EPOCHS, verbose=1\n",
        "    )"
      ],
      "execution_count": 17,
      "outputs": [
        {
          "output_type": "stream",
          "text": [
            "WARNING:tensorflow:From /usr/local/lib/python3.6/dist-packages/keras/backend/tensorflow_backend.py:1033: The name tf.assign_add is deprecated. Please use tf.compat.v1.assign_add instead.\n",
            "\n",
            "WARNING:tensorflow:From /usr/local/lib/python3.6/dist-packages/keras/backend/tensorflow_backend.py:1020: The name tf.assign is deprecated. Please use tf.compat.v1.assign instead.\n",
            "\n",
            "Epoch 1/50\n",
            "15/15 [==============================] - 28s 2s/step - loss: 3.5229 - acc: 0.7475 - val_loss: 4.4746 - val_acc: 0.7209\n",
            "Epoch 2/50\n",
            "15/15 [==============================] - 9s 575ms/step - loss: 4.3153 - acc: 0.7264 - val_loss: 4.4746 - val_acc: 0.7209\n",
            "Epoch 3/50\n",
            "15/15 [==============================] - 8s 540ms/step - loss: 4.2058 - acc: 0.7347 - val_loss: 4.3877 - val_acc: 0.7263\n",
            "Epoch 4/50\n",
            "15/15 [==============================] - 8s 510ms/step - loss: 4.3431 - acc: 0.7288 - val_loss: 4.3877 - val_acc: 0.7263\n",
            "Epoch 5/50\n",
            "15/15 [==============================] - 8s 526ms/step - loss: 3.6665 - acc: 0.7704 - val_loss: 2.9155 - val_acc: 0.7263\n",
            "Epoch 6/50\n",
            "15/15 [==============================] - 8s 549ms/step - loss: 3.9497 - acc: 0.7528 - val_loss: 4.3877 - val_acc: 0.7263\n",
            "Epoch 7/50\n",
            "15/15 [==============================] - 8s 514ms/step - loss: 4.0283 - acc: 0.7477 - val_loss: 4.4746 - val_acc: 0.7209\n",
            "Epoch 8/50\n",
            "15/15 [==============================] - 8s 532ms/step - loss: 4.5308 - acc: 0.7174 - val_loss: 4.4746 - val_acc: 0.7209\n",
            "Epoch 9/50\n",
            "15/15 [==============================] - 8s 553ms/step - loss: 4.4751 - acc: 0.7208 - val_loss: 4.4746 - val_acc: 0.7209\n",
            "Epoch 10/50\n",
            "15/15 [==============================] - 8s 520ms/step - loss: 4.3969 - acc: 0.7257 - val_loss: 4.4746 - val_acc: 0.7209\n",
            "Epoch 11/50\n",
            "15/15 [==============================] - 8s 519ms/step - loss: 4.4463 - acc: 0.7226 - val_loss: 4.4746 - val_acc: 0.7209\n",
            "Epoch 12/50\n",
            "15/15 [==============================] - 8s 525ms/step - loss: 4.5308 - acc: 0.7174 - val_loss: 4.4746 - val_acc: 0.7209\n",
            "Epoch 13/50\n",
            "15/15 [==============================] - 8s 512ms/step - loss: 4.4352 - acc: 0.7233 - val_loss: 4.4746 - val_acc: 0.7209\n",
            "Epoch 14/50\n",
            "15/15 [==============================] - 8s 506ms/step - loss: 4.4774 - acc: 0.7207 - val_loss: 4.4746 - val_acc: 0.7209\n",
            "Epoch 15/50\n",
            "15/15 [==============================] - 8s 510ms/step - loss: 4.4974 - acc: 0.7194 - val_loss: 4.4746 - val_acc: 0.7209\n",
            "Epoch 16/50\n",
            "15/15 [==============================] - 8s 504ms/step - loss: 4.4774 - acc: 0.7207 - val_loss: 4.4746 - val_acc: 0.7209\n",
            "Epoch 17/50\n",
            "15/15 [==============================] - 8s 514ms/step - loss: 4.4687 - acc: 0.7212 - val_loss: 4.4746 - val_acc: 0.7209\n",
            "Epoch 18/50\n",
            "15/15 [==============================] - 8s 523ms/step - loss: 4.4194 - acc: 0.7243 - val_loss: 4.4746 - val_acc: 0.7209\n",
            "Epoch 19/50\n",
            "15/15 [==============================] - 8s 544ms/step - loss: 4.3976 - acc: 0.7257 - val_loss: 4.4746 - val_acc: 0.7209\n",
            "Epoch 20/50\n",
            "15/15 [==============================] - 8s 543ms/step - loss: 4.4910 - acc: 0.7198 - val_loss: 4.4746 - val_acc: 0.7209\n",
            "Epoch 21/50\n",
            "15/15 [==============================] - 8s 516ms/step - loss: 4.4017 - acc: 0.7254 - val_loss: 4.4746 - val_acc: 0.7209\n",
            "Epoch 22/50\n",
            "15/15 [==============================] - 8s 535ms/step - loss: 4.4439 - acc: 0.7228 - val_loss: 4.4746 - val_acc: 0.7209\n",
            "Epoch 23/50\n",
            "15/15 [==============================] - 8s 509ms/step - loss: 4.5643 - acc: 0.7153 - val_loss: 4.4746 - val_acc: 0.7209\n",
            "Epoch 24/50\n",
            "15/15 [==============================] - 8s 530ms/step - loss: 4.4640 - acc: 0.7215 - val_loss: 4.4746 - val_acc: 0.7209\n",
            "Epoch 25/50\n",
            "15/15 [==============================] - 8s 515ms/step - loss: 4.5061 - acc: 0.7189 - val_loss: 4.4746 - val_acc: 0.7209\n",
            "Epoch 26/50\n",
            "15/15 [==============================] - 8s 515ms/step - loss: 4.5245 - acc: 0.7178 - val_loss: 4.4746 - val_acc: 0.7209\n",
            "Epoch 27/50\n",
            "15/15 [==============================] - 7s 498ms/step - loss: 4.4549 - acc: 0.7221 - val_loss: 4.4746 - val_acc: 0.7209\n",
            "Epoch 28/50\n",
            "15/15 [==============================] - 8s 521ms/step - loss: 4.4194 - acc: 0.7243 - val_loss: 4.4746 - val_acc: 0.7209\n",
            "Epoch 29/50\n",
            "15/15 [==============================] - 8s 513ms/step - loss: 4.5396 - acc: 0.7168 - val_loss: 4.4746 - val_acc: 0.7209\n",
            "Epoch 30/50\n",
            "15/15 [==============================] - 8s 522ms/step - loss: 4.4639 - acc: 0.7215 - val_loss: 4.4746 - val_acc: 0.7209\n",
            "Epoch 31/50\n",
            "15/15 [==============================] - 8s 507ms/step - loss: 4.4998 - acc: 0.7193 - val_loss: 4.4746 - val_acc: 0.7209\n",
            "Epoch 32/50\n",
            "15/15 [==============================] - 8s 504ms/step - loss: 4.4639 - acc: 0.7215 - val_loss: 4.4746 - val_acc: 0.7209\n",
            "Epoch 33/50\n",
            "15/15 [==============================] - 8s 503ms/step - loss: 4.4974 - acc: 0.7194 - val_loss: 4.4746 - val_acc: 0.7209\n",
            "Epoch 34/50\n",
            "15/15 [==============================] - 8s 504ms/step - loss: 4.4750 - acc: 0.7208 - val_loss: 4.4746 - val_acc: 0.7209\n",
            "Epoch 35/50\n",
            "15/15 [==============================] - 8s 507ms/step - loss: 4.4216 - acc: 0.7242 - val_loss: 4.4746 - val_acc: 0.7209\n",
            "Epoch 36/50\n",
            "15/15 [==============================] - 8s 518ms/step - loss: 4.4041 - acc: 0.7253 - val_loss: 4.4746 - val_acc: 0.7209\n",
            "Epoch 37/50\n",
            "15/15 [==============================] - 8s 534ms/step - loss: 4.5196 - acc: 0.7181 - val_loss: 4.4746 - val_acc: 0.7209\n",
            "Epoch 38/50\n",
            "15/15 [==============================] - 7s 496ms/step - loss: 4.4039 - acc: 0.7253 - val_loss: 4.4746 - val_acc: 0.7209\n",
            "Epoch 39/50\n",
            "15/15 [==============================] - 8s 519ms/step - loss: 4.5444 - acc: 0.7165 - val_loss: 4.4746 - val_acc: 0.7209\n",
            "Epoch 40/50\n",
            "15/15 [==============================] - 8s 542ms/step - loss: 4.4974 - acc: 0.7194 - val_loss: 4.4746 - val_acc: 0.7209\n",
            "Epoch 41/50\n",
            "15/15 [==============================] - 8s 502ms/step - loss: 4.4014 - acc: 0.7254 - val_loss: 4.4746 - val_acc: 0.7209\n",
            "Epoch 42/50\n",
            "15/15 [==============================] - 8s 527ms/step - loss: 4.5753 - acc: 0.7146 - val_loss: 4.4746 - val_acc: 0.7209\n",
            "Epoch 43/50\n",
            "15/15 [==============================] - 7s 495ms/step - loss: 4.3242 - acc: 0.7302 - val_loss: 4.4746 - val_acc: 0.7209\n",
            "Epoch 44/50\n",
            "15/15 [==============================] - 8s 520ms/step - loss: 4.4194 - acc: 0.7243 - val_loss: 4.4746 - val_acc: 0.7209\n",
            "Epoch 45/50\n",
            "15/15 [==============================] - 8s 503ms/step - loss: 4.4910 - acc: 0.7198 - val_loss: 4.4746 - val_acc: 0.7209\n",
            "Epoch 46/50\n",
            "15/15 [==============================] - 8s 503ms/step - loss: 4.5061 - acc: 0.7189 - val_loss: 4.4746 - val_acc: 0.7209\n",
            "Epoch 47/50\n",
            "15/15 [==============================] - 8s 517ms/step - loss: 4.4750 - acc: 0.7208 - val_loss: 4.4746 - val_acc: 0.7209\n",
            "Epoch 48/50\n",
            "15/15 [==============================] - 8s 503ms/step - loss: 4.4463 - acc: 0.7226 - val_loss: 4.4746 - val_acc: 0.7209\n",
            "Epoch 49/50\n",
            "15/15 [==============================] - 8s 501ms/step - loss: 4.4663 - acc: 0.7214 - val_loss: 4.4746 - val_acc: 0.7209\n",
            "Epoch 50/50\n",
            "15/15 [==============================] - 8s 516ms/step - loss: 4.4528 - acc: 0.7222 - val_loss: 4.4746 - val_acc: 0.7209\n"
          ],
          "name": "stdout"
        }
      ]
    },
    {
      "cell_type": "code",
      "metadata": {
        "id": "z9o0TySHmFdS",
        "colab_type": "code",
        "colab": {
          "base_uri": "https://localhost:8080/",
          "height": 545
        },
        "outputId": "687b1021-4ffa-406f-a6b0-c7079b4db46d"
      },
      "source": [
        "acc = history.history['acc']\n",
        "val_acc = history.history['val_acc']\n",
        "loss = history.history['loss']\n",
        "val_loss = history.history['val_loss']\n",
        "epochs = range(1, len(acc) + 1)\n",
        "#Train and validation accuracy\n",
        "plt.plot(epochs, acc, 'b', label='Training accurarcy')\n",
        "plt.plot(epochs, val_acc, 'r', label='Validation accurarcy')\n",
        "plt.title('Training and Validation accurarcy')\n",
        "plt.legend()\n",
        "\n",
        "plt.figure()\n",
        "#Train and validation loss\n",
        "plt.plot(epochs, loss, 'b', label='Training loss')\n",
        "plt.plot(epochs, val_loss, 'r', label='Validation loss')\n",
        "plt.title('Training and Validation loss')\n",
        "plt.legend()\n",
        "plt.show()"
      ],
      "execution_count": 18,
      "outputs": [
        {
          "output_type": "display_data",
          "data": {
            "image/png": "[encoded data removed]",
            "text/plain": [
              "<Figure size 432x288 with 1 Axes>"
            ]
          },
          "metadata": {
            "tags": []
          }
        },
        {
          "output_type": "display_data",
          "data": {
            "image/png": "[encoded data removed]",
            "text/plain": [
              "<Figure size 432x288 with 1 Axes>"
            ]
          },
          "metadata": {
            "tags": []
          }
        }
      ]
    }
  ]
}