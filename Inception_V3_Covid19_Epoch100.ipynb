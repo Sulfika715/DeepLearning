{
  "nbformat": 4,
  "nbformat_minor": 0,
  "metadata": {
    "colab": {
      "name": "Inception_V3_Covid19_Epoch100.ipynb",
      "provenance": [],
      "authorship_tag": "ABX9TyNYXckD0lAuah4rfF3jY+Ix",
      "include_colab_link": true
    },
    "kernelspec": {
      "name": "python3",
      "display_name": "Python 3"
    },
    "accelerator": "GPU"
  },
  "cells": [
    {
      "cell_type": "markdown",
      "metadata": {
        "id": "view-in-github",
        "colab_type": "text"
      },
      "source": [
        "<a href=\"https://colab.research.google.com/github/Sulfika715/DeepLearning/blob/master/Inception_V3_Covid19_Epoch100.ipynb\" target=\"_parent\"><img src=\"https://colab.research.google.com/assets/colab-badge.svg\" alt=\"Open In Colab\"/></a>"
      ]
    },
    {
      "cell_type": "code",
      "metadata": {
        "id": "s8ltp4hfXnmn",
        "colab_type": "code",
        "outputId": "4d7d48d8-e237-4d9d-f9b2-1d060cab67a0",
        "colab": {
          "base_uri": "https://localhost:8080/",
          "height": 50
        }
      },
      "source": [
        "%tensorflow_version 1.x\n",
        "import numpy as np\n",
        "import pickle\n",
        "import cv2\n",
        "import keras\n",
        "\n",
        "from keras.applications.inception_v3 import InceptionV3\n",
        "from keras.preprocessing import image\n",
        "from keras.layers import Conv2D, MaxPooling2D, GlobalAveragePooling2D\n",
        "from keras.layers import Flatten, Dense\n",
        "from keras.models import Model\n",
        "from keras.layers import BatchNormalization\n",
        "\n",
        "from os import listdir\n",
        "from keras import backend as K\n",
        "from keras.layers import Input\n",
        "from keras.optimizers import Adam\n",
        "from keras.preprocessing.image import ImageDataGenerator\n",
        "from keras.preprocessing import image\n",
        "from keras.preprocessing.image import img_to_array\n",
        "from sklearn.preprocessing import MultiLabelBinarizer\n",
        "from sklearn.preprocessing import LabelBinarizer\n",
        "from sklearn.model_selection import train_test_split\n",
        "\n",
        "import matplotlib.pyplot as plt"
      ],
      "execution_count": 1,
      "outputs": [
        {
          "output_type": "stream",
          "text": [
            "TensorFlow 1.x selected.\n"
          ],
          "name": "stdout"
        },
        {
          "output_type": "stream",
          "text": [
            "Using TensorFlow backend.\n"
          ],
          "name": "stderr"
        }
      ]
    },
    {
      "cell_type": "code",
      "metadata": {
        "id": "YKBqa5kQZG6f",
        "colab_type": "code",
        "outputId": "3df0015d-0b2b-4e2e-9348-d95d1694e7ae",
        "colab": {
          "base_uri": "https://localhost:8080/",
          "height": 118
        }
      },
      "source": [
        "from google.colab import drive\n",
        "drive.mount('/content/drive')"
      ],
      "execution_count": 2,
      "outputs": [
        {
          "output_type": "stream",
          "text": [
            "Go to this URL in a browser: https://accounts.google.com/o/oauth2/auth?client_id=947318989803-6bn6qk8qdgf4n4g3pfee6491hc0brc4i.apps.googleusercontent.com&redirect_uri=urn%3aietf%3awg%3aoauth%3a2.0%3aoob&response_type=code&scope=email%20https%3a%2f%2fwww.googleapis.com%2fauth%2fdocs.test%20https%3a%2f%2fwww.googleapis.com%2fauth%2fdrive%20https%3a%2f%2fwww.googleapis.com%2fauth%2fdrive.photos.readonly%20https%3a%2f%2fwww.googleapis.com%2fauth%2fpeopleapi.readonly\n",
            "\n",
            "Enter your authorization code:\n",
            "··········\n",
            "Mounted at /content/drive\n"
          ],
          "name": "stdout"
        }
      ]
    },
    {
      "cell_type": "code",
      "metadata": {
        "id": "Jfqx5yXyaFB2",
        "colab_type": "code",
        "outputId": "31608bc9-6f8b-4408-e016-9e34d12ded8c",
        "colab": {
          "base_uri": "https://localhost:8080/",
          "height": 33
        }
      },
      "source": [
        "%cd drive/'My Drive'"
      ],
      "execution_count": 3,
      "outputs": [
        {
          "output_type": "stream",
          "text": [
            "/content/drive/My Drive\n"
          ],
          "name": "stdout"
        }
      ]
    },
    {
      "cell_type": "code",
      "metadata": {
        "id": "5v2r4lF_aVdp",
        "colab_type": "code",
        "colab": {}
      },
      "source": [
        "EPOCHS = 100\n",
        "INIT_LR = 1e-3\n",
        "BS = 8\n",
        "default_image_size = tuple((299, 299))\n",
        "image_size = 67\n",
        "directory_root = './two/'\n",
        "width=299\n",
        "height=299\n",
        "depth=3"
      ],
      "execution_count": 0,
      "outputs": []
    },
    {
      "cell_type": "code",
      "metadata": {
        "id": "D80AQVTEabrk",
        "colab_type": "code",
        "colab": {}
      },
      "source": [
        "def convert_image_to_array(image_dir):\n",
        "    try:\n",
        "        image = cv2.imread(image_dir)\n",
        "        if image is not None :\n",
        "            image = cv2.resize(image, default_image_size)   \n",
        "            return img_to_array(image)\n",
        "        else :\n",
        "            return np.array([])\n",
        "    except Exception as e:\n",
        "        print(f\"Error : {e}\")\n",
        "        return None"
      ],
      "execution_count": 0,
      "outputs": []
    },
    {
      "cell_type": "code",
      "metadata": {
        "id": "vCNrt362afKb",
        "colab_type": "code",
        "outputId": "d5e7c0e1-1601-4ee6-cbb8-631eae3dfac1",
        "colab": {
          "base_uri": "https://localhost:8080/",
          "height": 147
        }
      },
      "source": [
        "image_list, label_list = [], []\n",
        "try:\n",
        "    print(\"[INFO] Loading images ...\")\n",
        "    root_dir = listdir(directory_root)\n",
        "    for directory in root_dir :\n",
        "        # remove .DS_Store from list\n",
        "        if directory == \".DS_Store\" :\n",
        "            root_dir.remove(directory)\n",
        "\n",
        "    for plant_folder in root_dir :\n",
        "        plant_disease_folder_list = listdir(f\"{directory_root}/{plant_folder}\")\n",
        "        \n",
        "        for disease_folder in plant_disease_folder_list :\n",
        "            # remove .DS_Store from list\n",
        "            if disease_folder == \".DS_Store\" :\n",
        "                plant_disease_folder_list.remove(disease_folder)\n",
        "\n",
        "        for plant_disease_folder in plant_disease_folder_list:\n",
        "            print(f\"[INFO] Processing {plant_disease_folder} ...\")\n",
        "            plant_disease_image_list = listdir(f\"{directory_root}/{plant_folder}/{plant_disease_folder}/\")\n",
        "                \n",
        "            for single_plant_disease_image in plant_disease_image_list :\n",
        "                if single_plant_disease_image == \".DS_Store\" :\n",
        "                    plant_disease_image_list.remove(single_plant_disease_image)\n",
        "\n",
        "            for image in plant_disease_image_list[:200]:\n",
        "                image_directory = f\"{directory_root}/{plant_folder}/{plant_disease_folder}/{image}\"\n",
        "                if image_directory.endswith(\".jpg\") == True or image_directory.endswith(\".JPG\")  == True or image_directory.endswith(\".jpeg\") == True or image_directory.endswith(\".png\") :\n",
        "                    image_list.append(convert_image_to_array(image_directory))\n",
        "                    label_list.append(plant_disease_folder)\n",
        "    %time print(\"[INFO] Image loading completed\")  \n",
        "except Exception as e:\n",
        "    print(f\"Error : {e}\")"
      ],
      "execution_count": 6,
      "outputs": [
        {
          "output_type": "stream",
          "text": [
            "[INFO] Loading images ...\n",
            "[INFO] Processing normal ...\n",
            "[INFO] Processing covid ...\n",
            "[INFO] Processing covid ...\n",
            "[INFO] Processing normal ...\n",
            "[INFO] Image loading completed\n",
            "CPU times: user 94 µs, sys: 0 ns, total: 94 µs\n",
            "Wall time: 97.5 µs\n"
          ],
          "name": "stdout"
        }
      ]
    },
    {
      "cell_type": "code",
      "metadata": {
        "id": "EuK1XTV6al_y",
        "colab_type": "code",
        "outputId": "355c7969-8b46-44f5-fee6-4852037a684a",
        "colab": {
          "base_uri": "https://localhost:8080/",
          "height": 33
        }
      },
      "source": [
        "image_size = len(image_list)\n",
        "image_size"
      ],
      "execution_count": 7,
      "outputs": [
        {
          "output_type": "execute_result",
          "data": {
            "text/plain": [
              "148"
            ]
          },
          "metadata": {
            "tags": []
          },
          "execution_count": 7
        }
      ]
    },
    {
      "cell_type": "code",
      "metadata": {
        "id": "T1XVxh8tapVM",
        "colab_type": "code",
        "colab": {}
      },
      "source": [
        "image_size = len(image_list)\n",
        "label_binarizer = LabelBinarizer()\n",
        "image_labels = label_binarizer.fit_transform(label_list)\n",
        "pickle.dump(label_binarizer,open('label_transform.pkl', 'wb'))\n",
        "n_classes = len(label_binarizer.classes_)"
      ],
      "execution_count": 0,
      "outputs": []
    },
    {
      "cell_type": "code",
      "metadata": {
        "id": "xklNHivhat0L",
        "colab_type": "code",
        "outputId": "395bc577-b20c-44b4-e924-b47c8e7b7cda",
        "colab": {
          "base_uri": "https://localhost:8080/",
          "height": 33
        }
      },
      "source": [
        "print(label_binarizer.classes_)"
      ],
      "execution_count": 9,
      "outputs": [
        {
          "output_type": "stream",
          "text": [
            "['covid' 'normal']\n"
          ],
          "name": "stdout"
        }
      ]
    },
    {
      "cell_type": "code",
      "metadata": {
        "id": "dtUmFqeJa1q5",
        "colab_type": "code",
        "colab": {}
      },
      "source": [
        "np_image_list = np.array(image_list, dtype=np.float16) / 225.0"
      ],
      "execution_count": 0,
      "outputs": []
    },
    {
      "cell_type": "code",
      "metadata": {
        "id": "DXPq03xRa5JI",
        "colab_type": "code",
        "colab": {}
      },
      "source": [
        "x_train, x_test, y_train, y_test = train_test_split(np_image_list, image_labels, test_size=0.2, random_state = 42)"
      ],
      "execution_count": 0,
      "outputs": []
    },
    {
      "cell_type": "code",
      "metadata": {
        "id": "e5MToKSda8Db",
        "colab_type": "code",
        "colab": {}
      },
      "source": [
        "aug = ImageDataGenerator(\n",
        "    rotation_range=25, width_shift_range=0.1,\n",
        "    height_shift_range=0.1, shear_range=0.2, \n",
        "    zoom_range=0.2,horizontal_flip=True, \n",
        "    fill_mode=\"nearest\")"
      ],
      "execution_count": 0,
      "outputs": []
    },
    {
      "cell_type": "code",
      "metadata": {
        "id": "qj5MYCy8a_0l",
        "colab_type": "code",
        "colab": {}
      },
      "source": [
        "base_model = InceptionV3(weights=None, include_top=False, input_tensor=Input(shape = (width, height, depth)))\n",
        "\n",
        "x = base_model.output\n",
        "output = BatchNormalization()(x)\n",
        "x = GlobalAveragePooling2D()(x)\n",
        "x = Dense(1024, activation='relu')(x)\n",
        "predictions = Dense(1, activation='softmax')(x)\n",
        "\n",
        "model = Model(inputs=base_model.input, outputs=predictions)"
      ],
      "execution_count": 0,
      "outputs": []
    },
    {
      "cell_type": "code",
      "metadata": {
        "id": "J3uBNZMxgatv",
        "colab_type": "code",
        "outputId": "270ffafa-654e-40cf-e7ce-eaf4b32cf878",
        "colab": {
          "base_uri": "https://localhost:8080/",
          "height": 33
        }
      },
      "source": [
        "opt = Adam(lr=INIT_LR, decay=INIT_LR / EPOCHS)\n",
        "# distribution\n",
        "model.compile(loss=\"binary_crossentropy\", optimizer=opt,metrics=[\"accuracy\"])\n",
        "# train the network\n",
        "print(\"[INFO] training network...\")"
      ],
      "execution_count": 17,
      "outputs": [
        {
          "output_type": "stream",
          "text": [
            "[INFO] training network...\n"
          ],
          "name": "stdout"
        }
      ]
    },
    {
      "cell_type": "code",
      "metadata": {
        "id": "2fL2wNcvggy-",
        "colab_type": "code",
        "outputId": "85a075af-83ed-4ae3-a9fe-824d2d5e33d7",
        "colab": {
          "base_uri": "https://localhost:8080/",
          "height": 1000
        }
      },
      "source": [
        "#Training Model\n",
        "history = model.fit_generator(\n",
        "    aug.flow(x_train, y_train, batch_size=BS),\n",
        "    validation_data=(x_test, y_test),\n",
        "    steps_per_epoch=len(x_train) // BS,\n",
        "    epochs=EPOCHS, verbose=1\n",
        "    )"
      ],
      "execution_count": 18,
      "outputs": [
        {
          "output_type": "stream",
          "text": [
            "Epoch 1/100\n",
            "14/14 [==============================] - 21s 2s/step - loss: 7.5814 - accuracy: 0.5000 - val_loss: 5.5914 - val_accuracy: 0.6333\n",
            "Epoch 2/100\n",
            "14/14 [==============================] - 3s 202ms/step - loss: 7.6240 - accuracy: 0.5000 - val_loss: 5.5914 - val_accuracy: 0.6333\n",
            "Epoch 3/100\n",
            "14/14 [==============================] - 3s 195ms/step - loss: 6.8961 - accuracy: 0.5455 - val_loss: 5.5914 - val_accuracy: 0.6333\n",
            "Epoch 4/100\n",
            "14/14 [==============================] - 3s 198ms/step - loss: 7.3073 - accuracy: 0.5182 - val_loss: 5.5914 - val_accuracy: 0.6333\n",
            "Epoch 5/100\n",
            "14/14 [==============================] - 3s 199ms/step - loss: 7.5297 - accuracy: 0.5089 - val_loss: 5.5914 - val_accuracy: 0.6333\n",
            "Epoch 6/100\n",
            "14/14 [==============================] - 3s 194ms/step - loss: 8.4475 - accuracy: 0.4444 - val_loss: 5.5914 - val_accuracy: 0.6333\n",
            "Epoch 7/100\n",
            "14/14 [==============================] - 3s 194ms/step - loss: 6.6219 - accuracy: 0.5636 - val_loss: 5.5914 - val_accuracy: 0.6333\n",
            "Epoch 8/100\n",
            "14/14 [==============================] - 3s 191ms/step - loss: 7.4870 - accuracy: 0.5091 - val_loss: 5.5914 - val_accuracy: 0.6333\n",
            "Epoch 9/100\n",
            "14/14 [==============================] - 3s 196ms/step - loss: 8.0773 - accuracy: 0.4732 - val_loss: 5.5914 - val_accuracy: 0.6333\n",
            "Epoch 10/100\n",
            "14/14 [==============================] - 3s 191ms/step - loss: 7.6146 - accuracy: 0.5093 - val_loss: 5.5914 - val_accuracy: 0.6333\n",
            "Epoch 11/100\n",
            "14/14 [==============================] - 3s 195ms/step - loss: 6.8016 - accuracy: 0.5545 - val_loss: 5.5914 - val_accuracy: 0.6333\n",
            "Epoch 12/100\n",
            "14/14 [==============================] - 3s 194ms/step - loss: 7.9404 - accuracy: 0.4821 - val_loss: 5.5914 - val_accuracy: 0.6333\n",
            "Epoch 13/100\n",
            "14/14 [==============================] - 3s 194ms/step - loss: 7.2554 - accuracy: 0.5273 - val_loss: 5.5914 - val_accuracy: 0.6333\n",
            "Epoch 14/100\n",
            "14/14 [==============================] - 3s 194ms/step - loss: 7.9408 - accuracy: 0.4818 - val_loss: 5.5914 - val_accuracy: 0.6333\n",
            "Epoch 15/100\n",
            "14/14 [==============================] - 3s 194ms/step - loss: 7.5295 - accuracy: 0.5091 - val_loss: 5.5914 - val_accuracy: 0.6333\n",
            "Epoch 16/100\n",
            "14/14 [==============================] - 3s 200ms/step - loss: 7.7185 - accuracy: 0.4909 - val_loss: 5.5914 - val_accuracy: 0.6333\n",
            "Epoch 17/100\n",
            "14/14 [==============================] - 3s 200ms/step - loss: 6.8016 - accuracy: 0.5545 - val_loss: 5.5914 - val_accuracy: 0.6333\n",
            "Epoch 18/100\n",
            "14/14 [==============================] - 3s 198ms/step - loss: 8.0773 - accuracy: 0.4732 - val_loss: 5.5914 - val_accuracy: 0.6333\n",
            "Epoch 19/100\n",
            "14/14 [==============================] - 3s 191ms/step - loss: 7.4347 - accuracy: 0.5185 - val_loss: 5.5914 - val_accuracy: 0.6333\n",
            "Epoch 20/100\n",
            "14/14 [==============================] - 3s 194ms/step - loss: 7.6147 - accuracy: 0.5091 - val_loss: 5.5914 - val_accuracy: 0.6333\n",
            "Epoch 21/100\n",
            "14/14 [==============================] - 3s 192ms/step - loss: 7.5297 - accuracy: 0.5089 - val_loss: 5.5914 - val_accuracy: 0.6333\n",
            "Epoch 22/100\n",
            "14/14 [==============================] - 3s 193ms/step - loss: 7.9408 - accuracy: 0.4818 - val_loss: 5.5914 - val_accuracy: 0.6333\n",
            "Epoch 23/100\n",
            "14/14 [==============================] - 3s 190ms/step - loss: 7.6666 - accuracy: 0.5000 - val_loss: 5.5914 - val_accuracy: 0.6333\n",
            "Epoch 24/100\n",
            "14/14 [==============================] - 3s 194ms/step - loss: 7.7092 - accuracy: 0.5000 - val_loss: 5.5914 - val_accuracy: 0.6333\n",
            "Epoch 25/100\n",
            "14/14 [==============================] - 3s 192ms/step - loss: 7.3925 - accuracy: 0.5182 - val_loss: 5.5914 - val_accuracy: 0.6333\n",
            "Epoch 26/100\n",
            "14/14 [==============================] - 3s 198ms/step - loss: 6.8452 - accuracy: 0.5536 - val_loss: 5.5914 - val_accuracy: 0.6333\n",
            "Epoch 27/100\n",
            "14/14 [==============================] - 3s 194ms/step - loss: 8.1204 - accuracy: 0.4727 - val_loss: 5.5914 - val_accuracy: 0.6333\n",
            "Epoch 28/100\n",
            "14/14 [==============================] - 3s 194ms/step - loss: 7.4351 - accuracy: 0.5182 - val_loss: 5.5914 - val_accuracy: 0.6333\n",
            "Epoch 29/100\n",
            "14/14 [==============================] - 3s 193ms/step - loss: 7.3921 - accuracy: 0.5185 - val_loss: 5.5914 - val_accuracy: 0.6333\n",
            "Epoch 30/100\n",
            "14/14 [==============================] - 3s 192ms/step - loss: 7.5297 - accuracy: 0.5089 - val_loss: 5.5914 - val_accuracy: 0.6333\n",
            "Epoch 31/100\n",
            "14/14 [==============================] - 3s 195ms/step - loss: 7.4444 - accuracy: 0.5091 - val_loss: 5.5914 - val_accuracy: 0.6333\n",
            "Epoch 32/100\n",
            "14/14 [==============================] - 3s 202ms/step - loss: 7.6666 - accuracy: 0.5000 - val_loss: 5.5914 - val_accuracy: 0.6333\n",
            "Epoch 33/100\n",
            "14/14 [==============================] - 3s 194ms/step - loss: 7.8985 - accuracy: 0.4815 - val_loss: 5.5914 - val_accuracy: 0.6333\n",
            "Epoch 34/100\n",
            "14/14 [==============================] - 3s 198ms/step - loss: 6.2976 - accuracy: 0.5893 - val_loss: 5.5914 - val_accuracy: 0.6333\n",
            "Epoch 35/100\n",
            "14/14 [==============================] - 3s 195ms/step - loss: 7.9837 - accuracy: 0.4815 - val_loss: 5.5914 - val_accuracy: 0.6333\n",
            "Epoch 36/100\n",
            "14/14 [==============================] - 3s 197ms/step - loss: 7.5297 - accuracy: 0.5089 - val_loss: 5.5914 - val_accuracy: 0.6333\n",
            "Epoch 37/100\n",
            "14/14 [==============================] - 3s 193ms/step - loss: 7.4868 - accuracy: 0.5093 - val_loss: 5.5914 - val_accuracy: 0.6333\n",
            "Epoch 38/100\n",
            "14/14 [==============================] - 3s 195ms/step - loss: 7.9926 - accuracy: 0.4727 - val_loss: 5.5914 - val_accuracy: 0.6333\n",
            "Epoch 39/100\n",
            "14/14 [==============================] - 3s 197ms/step - loss: 7.5297 - accuracy: 0.5089 - val_loss: 5.5914 - val_accuracy: 0.6333\n",
            "Epoch 40/100\n",
            "14/14 [==============================] - 3s 190ms/step - loss: 7.4347 - accuracy: 0.5185 - val_loss: 5.5914 - val_accuracy: 0.6333\n",
            "Epoch 41/100\n",
            "14/14 [==============================] - 3s 196ms/step - loss: 8.0259 - accuracy: 0.4818 - val_loss: 5.5914 - val_accuracy: 0.6333\n",
            "Epoch 42/100\n",
            "14/14 [==============================] - 3s 197ms/step - loss: 7.3925 - accuracy: 0.5182 - val_loss: 5.5914 - val_accuracy: 0.6333\n",
            "Epoch 43/100\n",
            "14/14 [==============================] - 3s 196ms/step - loss: 7.5297 - accuracy: 0.5089 - val_loss: 5.5914 - val_accuracy: 0.6333\n",
            "Epoch 44/100\n",
            "14/14 [==============================] - 3s 192ms/step - loss: 7.3925 - accuracy: 0.5182 - val_loss: 5.5914 - val_accuracy: 0.6333\n",
            "Epoch 45/100\n",
            "14/14 [==============================] - 3s 189ms/step - loss: 7.3925 - accuracy: 0.5182 - val_loss: 5.5914 - val_accuracy: 0.6333\n",
            "Epoch 46/100\n",
            "14/14 [==============================] - 3s 192ms/step - loss: 8.0778 - accuracy: 0.4727 - val_loss: 5.5914 - val_accuracy: 0.6333\n",
            "Epoch 47/100\n",
            "14/14 [==============================] - 3s 199ms/step - loss: 6.7497 - accuracy: 0.5636 - val_loss: 5.5914 - val_accuracy: 0.6333\n",
            "Epoch 48/100\n",
            "14/14 [==============================] - 3s 196ms/step - loss: 7.6666 - accuracy: 0.5000 - val_loss: 5.5914 - val_accuracy: 0.6333\n",
            "Epoch 49/100\n",
            "14/14 [==============================] - 3s 189ms/step - loss: 7.9411 - accuracy: 0.4815 - val_loss: 5.5914 - val_accuracy: 0.6333\n",
            "Epoch 50/100\n",
            "14/14 [==============================] - 3s 195ms/step - loss: 7.5297 - accuracy: 0.5089 - val_loss: 5.5914 - val_accuracy: 0.6333\n",
            "Epoch 51/100\n",
            "14/14 [==============================] - 3s 189ms/step - loss: 7.4868 - accuracy: 0.5093 - val_loss: 5.5914 - val_accuracy: 0.6333\n",
            "Epoch 52/100\n",
            "14/14 [==============================] - 3s 196ms/step - loss: 7.8889 - accuracy: 0.4909 - val_loss: 5.5914 - val_accuracy: 0.6333\n",
            "Epoch 53/100\n",
            "14/14 [==============================] - 3s 196ms/step - loss: 7.1190 - accuracy: 0.5357 - val_loss: 5.5914 - val_accuracy: 0.6333\n",
            "Epoch 54/100\n",
            "14/14 [==============================] - 3s 194ms/step - loss: 7.2554 - accuracy: 0.5273 - val_loss: 5.5914 - val_accuracy: 0.6333\n",
            "Epoch 55/100\n",
            "14/14 [==============================] - 3s 196ms/step - loss: 8.2149 - accuracy: 0.4636 - val_loss: 5.5914 - val_accuracy: 0.6333\n",
            "Epoch 56/100\n",
            "14/14 [==============================] - 3s 192ms/step - loss: 7.2035 - accuracy: 0.5364 - val_loss: 5.5914 - val_accuracy: 0.6333\n",
            "Epoch 57/100\n",
            "14/14 [==============================] - 3s 193ms/step - loss: 7.8889 - accuracy: 0.4909 - val_loss: 5.5914 - val_accuracy: 0.6333\n",
            "Epoch 58/100\n",
            "14/14 [==============================] - 3s 196ms/step - loss: 7.4351 - accuracy: 0.5182 - val_loss: 5.5914 - val_accuracy: 0.6333\n",
            "Epoch 59/100\n",
            "14/14 [==============================] - 3s 194ms/step - loss: 7.3925 - accuracy: 0.5182 - val_loss: 5.5914 - val_accuracy: 0.6333\n",
            "Epoch 60/100\n",
            "14/14 [==============================] - 3s 190ms/step - loss: 7.4018 - accuracy: 0.5091 - val_loss: 5.5914 - val_accuracy: 0.6333\n",
            "Epoch 61/100\n",
            "14/14 [==============================] - 3s 193ms/step - loss: 7.7518 - accuracy: 0.5000 - val_loss: 5.5914 - val_accuracy: 0.6333\n",
            "Epoch 62/100\n",
            "14/14 [==============================] - 3s 197ms/step - loss: 7.1183 - accuracy: 0.5364 - val_loss: 5.5914 - val_accuracy: 0.6333\n",
            "Epoch 63/100\n",
            "14/14 [==============================] - 3s 192ms/step - loss: 8.3520 - accuracy: 0.4545 - val_loss: 5.5914 - val_accuracy: 0.6333\n",
            "Epoch 64/100\n",
            "14/14 [==============================] - 3s 194ms/step - loss: 7.0332 - accuracy: 0.5364 - val_loss: 5.5914 - val_accuracy: 0.6333\n",
            "Epoch 65/100\n",
            "14/14 [==============================] - 3s 195ms/step - loss: 7.0757 - accuracy: 0.5364 - val_loss: 5.5914 - val_accuracy: 0.6333\n",
            "Epoch 66/100\n",
            "14/14 [==============================] - 3s 197ms/step - loss: 8.0773 - accuracy: 0.4732 - val_loss: 5.5914 - val_accuracy: 0.6333\n",
            "Epoch 67/100\n",
            "14/14 [==============================] - 3s 194ms/step - loss: 7.1177 - accuracy: 0.5370 - val_loss: 5.5914 - val_accuracy: 0.6333\n",
            "Epoch 68/100\n",
            "14/14 [==============================] - 3s 192ms/step - loss: 7.4870 - accuracy: 0.5091 - val_loss: 5.5914 - val_accuracy: 0.6333\n",
            "Epoch 69/100\n",
            "14/14 [==============================] - 3s 195ms/step - loss: 7.3499 - accuracy: 0.5182 - val_loss: 5.5914 - val_accuracy: 0.6333\n",
            "Epoch 70/100\n",
            "14/14 [==============================] - 3s 194ms/step - loss: 7.8037 - accuracy: 0.4909 - val_loss: 5.5914 - val_accuracy: 0.6333\n",
            "Epoch 71/100\n",
            "14/14 [==============================] - 3s 200ms/step - loss: 7.8035 - accuracy: 0.4911 - val_loss: 5.5914 - val_accuracy: 0.6333\n",
            "Epoch 72/100\n",
            "14/14 [==============================] - 3s 193ms/step - loss: 7.5721 - accuracy: 0.5091 - val_loss: 5.5914 - val_accuracy: 0.6333\n",
            "Epoch 73/100\n",
            "14/14 [==============================] - 3s 194ms/step - loss: 7.0332 - accuracy: 0.5364 - val_loss: 5.5914 - val_accuracy: 0.6333\n",
            "Epoch 74/100\n",
            "14/14 [==============================] - 3s 193ms/step - loss: 8.0259 - accuracy: 0.4818 - val_loss: 5.5914 - val_accuracy: 0.6333\n",
            "Epoch 75/100\n",
            "14/14 [==============================] - 3s 189ms/step - loss: 7.3925 - accuracy: 0.5182 - val_loss: 5.5914 - val_accuracy: 0.6333\n",
            "Epoch 76/100\n",
            "14/14 [==============================] - 3s 193ms/step - loss: 7.7092 - accuracy: 0.5000 - val_loss: 5.5914 - val_accuracy: 0.6333\n",
            "Epoch 77/100\n",
            "14/14 [==============================] - 3s 198ms/step - loss: 7.4351 - accuracy: 0.5182 - val_loss: 5.5914 - val_accuracy: 0.6333\n",
            "Epoch 78/100\n",
            "14/14 [==============================] - 3s 195ms/step - loss: 8.1204 - accuracy: 0.4727 - val_loss: 5.5914 - val_accuracy: 0.6333\n",
            "Epoch 79/100\n",
            "14/14 [==============================] - 3s 192ms/step - loss: 7.2554 - accuracy: 0.5273 - val_loss: 5.5914 - val_accuracy: 0.6333\n",
            "Epoch 80/100\n",
            "14/14 [==============================] - 3s 195ms/step - loss: 7.1190 - accuracy: 0.5357 - val_loss: 5.5914 - val_accuracy: 0.6333\n",
            "Epoch 81/100\n",
            "14/14 [==============================] - 3s 192ms/step - loss: 7.7092 - accuracy: 0.5000 - val_loss: 5.5914 - val_accuracy: 0.6333\n",
            "Epoch 82/100\n",
            "14/14 [==============================] - 3s 189ms/step - loss: 7.7187 - accuracy: 0.4907 - val_loss: 5.5914 - val_accuracy: 0.6333\n",
            "Epoch 83/100\n",
            "14/14 [==============================] - 3s 195ms/step - loss: 6.9821 - accuracy: 0.5446 - val_loss: 5.5914 - val_accuracy: 0.6333\n",
            "Epoch 84/100\n",
            "14/14 [==============================] - 3s 192ms/step - loss: 7.8982 - accuracy: 0.4818 - val_loss: 5.5914 - val_accuracy: 0.6333\n",
            "Epoch 85/100\n",
            "14/14 [==============================] - 3s 193ms/step - loss: 7.6240 - accuracy: 0.5000 - val_loss: 5.5914 - val_accuracy: 0.6333\n",
            "Epoch 86/100\n",
            "14/14 [==============================] - 3s 192ms/step - loss: 7.5295 - accuracy: 0.5091 - val_loss: 5.5914 - val_accuracy: 0.6333\n",
            "Epoch 87/100\n",
            "14/14 [==============================] - 3s 193ms/step - loss: 7.4351 - accuracy: 0.5182 - val_loss: 5.5914 - val_accuracy: 0.6333\n",
            "Epoch 88/100\n",
            "14/14 [==============================] - 3s 187ms/step - loss: 7.3401 - accuracy: 0.5278 - val_loss: 5.5914 - val_accuracy: 0.6333\n",
            "Epoch 89/100\n",
            "14/14 [==============================] - 3s 192ms/step - loss: 7.8035 - accuracy: 0.4911 - val_loss: 5.5914 - val_accuracy: 0.6333\n",
            "Epoch 90/100\n",
            "14/14 [==============================] - 3s 190ms/step - loss: 7.5295 - accuracy: 0.5091 - val_loss: 5.5914 - val_accuracy: 0.6333\n",
            "Epoch 91/100\n",
            "14/14 [==============================] - 3s 191ms/step - loss: 7.2980 - accuracy: 0.5273 - val_loss: 5.5914 - val_accuracy: 0.6333\n",
            "Epoch 92/100\n",
            "14/14 [==============================] - 3s 200ms/step - loss: 7.8037 - accuracy: 0.4909 - val_loss: 5.5914 - val_accuracy: 0.6333\n",
            "Epoch 93/100\n",
            "14/14 [==============================] - 3s 196ms/step - loss: 7.7518 - accuracy: 0.5000 - val_loss: 5.5914 - val_accuracy: 0.6333\n",
            "Epoch 94/100\n",
            "14/14 [==============================] - 3s 194ms/step - loss: 6.8442 - accuracy: 0.5545 - val_loss: 5.5914 - val_accuracy: 0.6333\n",
            "Epoch 95/100\n",
            "14/14 [==============================] - 3s 195ms/step - loss: 7.9408 - accuracy: 0.4818 - val_loss: 5.5914 - val_accuracy: 0.6333\n",
            "Epoch 96/100\n",
            "14/14 [==============================] - 3s 193ms/step - loss: 8.0778 - accuracy: 0.4727 - val_loss: 5.5914 - val_accuracy: 0.6333\n",
            "Epoch 97/100\n",
            "14/14 [==============================] - 3s 197ms/step - loss: 6.9821 - accuracy: 0.5446 - val_loss: 5.5914 - val_accuracy: 0.6333\n",
            "Epoch 98/100\n",
            "14/14 [==============================] - 3s 191ms/step - loss: 7.5295 - accuracy: 0.5091 - val_loss: 5.5914 - val_accuracy: 0.6333\n",
            "Epoch 99/100\n",
            "14/14 [==============================] - 3s 191ms/step - loss: 8.2149 - accuracy: 0.4636 - val_loss: 5.5914 - val_accuracy: 0.6333\n",
            "Epoch 100/100\n",
            "14/14 [==============================] - 3s 192ms/step - loss: 6.8868 - accuracy: 0.5545 - val_loss: 5.5914 - val_accuracy: 0.6333\n"
          ],
          "name": "stdout"
        }
      ]
    },
    {
      "cell_type": "code",
      "metadata": {
        "id": "r_rZfy3ih7vH",
        "colab_type": "code",
        "colab": {
          "base_uri": "https://localhost:8080/",
          "height": 545
        },
        "outputId": "56ca6754-2de8-4c3d-872f-acc31bfad883"
      },
      "source": [
        "acc = history.history['accuracy']\n",
        "val_acc = history.history['val_accuracy']\n",
        "loss = history.history['loss']\n",
        "val_loss = history.history['val_loss']\n",
        "epochs = range(1, len(acc) + 1)\n",
        "#Train and validation accuracy\n",
        "plt.plot(epochs, acc, 'b', label='Training accurarcy')\n",
        "plt.plot(epochs, val_acc, 'r', label='Validation accurarcy')\n",
        "plt.title('Training and Validation accurarcy')\n",
        "plt.legend()\n",
        "\n",
        "plt.figure()\n",
        "#Train and validation loss\n",
        "plt.plot(epochs, loss, 'b', label='Training loss')\n",
        "plt.plot(epochs, val_loss, 'r', label='Validation loss')\n",
        "plt.title('Training and Validation loss')\n",
        "plt.legend()\n",
        "plt.show()"
      ],
      "execution_count": 23,
      "outputs": [
        {
          "output_type": "display_data",
          "data": {
            "image/png": "[encoded data removed]",
            "text/plain": [
              "<Figure size 432x288 with 1 Axes>"
            ]
          },
          "metadata": {
            "tags": [],
            "needs_background": "light"
          }
        },
        {
          "output_type": "display_data",
          "data": {
            "image/png": "[encoded data removed]",
            "text/plain": [
              "<Figure size 432x288 with 1 Axes>"
            ]
          },
          "metadata": {
            "tags": [],
            "needs_background": "light"
          }
        }
      ]
    },
    {
      "cell_type": "code",
      "metadata": {
        "id": "BB_N8fHHi74R",
        "colab_type": "code",
        "colab": {
          "base_uri": "https://localhost:8080/",
          "height": 50
        },
        "outputId": "9dea4d55-78ab-4296-c2d7-f540a6be6bfd"
      },
      "source": [
        "scores = model.evaluate(x_test, y_test)\n",
        "print(f\"Test Accuracy: {scores[1]*100}\")"
      ],
      "execution_count": 24,
      "outputs": [
        {
          "output_type": "stream",
          "text": [
            "\r30/30 [==============================] - 0s 4ms/step\n",
            "Test Accuracy: 63.333332538604736\n"
          ],
          "name": "stdout"
        }
      ]
    }
  ]
}