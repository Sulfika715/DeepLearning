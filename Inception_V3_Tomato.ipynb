{
  "nbformat": 4,
  "nbformat_minor": 0,
  "metadata": {
    "colab": {
      "name": "Inception_V3_Tomato.ipynb",
      "provenance": [],
      "authorship_tag": "ABX9TyPY+TOuGFNgHCT8bpODi/uS",
      "include_colab_link": true
    },
    "kernelspec": {
      "name": "python3",
      "display_name": "Python 3"
    },
    "accelerator": "GPU"
  },
  "cells": [
    {
      "cell_type": "markdown",
      "metadata": {
        "id": "view-in-github",
        "colab_type": "text"
      },
      "source": [
        "<a href=\"https://colab.research.google.com/github/Sulfika715/DeepLearning/blob/master/Inception_V3_Tomato.ipynb\" target=\"_parent\"><img src=\"https://colab.research.google.com/assets/colab-badge.svg\" alt=\"Open In Colab\"/></a>"
      ]
    },
    {
      "cell_type": "code",
      "metadata": {
        "id": "lgINIKpTtsz9",
        "colab_type": "code",
        "outputId": "b7df61b9-029f-479e-cc48-0a9d00a24ba6",
        "colab": {
          "base_uri": "https://localhost:8080/",
          "height": 52
        }
      },
      "source": [
        "%tensorflow_version 1.x\n",
        "import numpy as np\n",
        "import pickle\n",
        "import cv2\n",
        "from os import listdir\n",
        "from sklearn.preprocessing import LabelBinarizer\n",
        "import warnings\n",
        "from keras.models import Sequential\n",
        "from keras.applications.inception_v3 import InceptionV3\n",
        "from keras.layers.normalization import BatchNormalization\n",
        "from keras.layers.convolutional import Conv2D\n",
        "from keras.layers.convolutional import MaxPooling2D,Convolution2D,AveragePooling2D\n",
        "from keras.layers import GlobalAveragePooling2D\n",
        "from keras.layers import Input\n",
        "from keras.layers.core import Activation, Flatten, Dropout, Dense\n",
        "from keras.layers.merge import concatenate\n",
        "from keras.models import Model\n",
        "from keras import regularizers\n",
        "from keras import initializers\n",
        "from keras import backend as K\n",
        "from keras.utils.layer_utils import convert_all_kernels_in_model\n",
        "from keras.utils.data_utils import get_file\n",
        "from keras.preprocessing.image import ImageDataGenerator\n",
        "from keras.optimizers import Adam\n",
        "from keras.preprocessing import image\n",
        "from keras.preprocessing.image import img_to_array\n",
        "from sklearn.preprocessing import MultiLabelBinarizer\n",
        "from sklearn.model_selection import train_test_split\n",
        "import matplotlib.pyplot as plt"
      ],
      "execution_count": 0,
      "outputs": [
        {
          "output_type": "stream",
          "text": [
            "TensorFlow 1.x selected.\n"
          ],
          "name": "stdout"
        },
        {
          "output_type": "stream",
          "text": [
            "Using TensorFlow backend.\n"
          ],
          "name": "stderr"
        }
      ]
    },
    {
      "cell_type": "code",
      "metadata": {
        "id": "-1auCdzXt3Qd",
        "colab_type": "code",
        "outputId": "40fd66c1-6430-4b67-f15f-016dc88369a7",
        "colab": {
          "base_uri": "https://localhost:8080/",
          "height": 126
        }
      },
      "source": [
        "from google.colab import drive\n",
        "drive.mount('/content/drive')"
      ],
      "execution_count": 0,
      "outputs": [
        {
          "output_type": "stream",
          "text": [
            "Go to this URL in a browser: https://accounts.google.com/o/oauth2/auth?client_id=947318989803-6bn6qk8qdgf4n4g3pfee6491hc0brc4i.apps.googleusercontent.com&redirect_uri=urn%3aietf%3awg%3aoauth%3a2.0%3aoob&response_type=code&scope=email%20https%3a%2f%2fwww.googleapis.com%2fauth%2fdocs.test%20https%3a%2f%2fwww.googleapis.com%2fauth%2fdrive%20https%3a%2f%2fwww.googleapis.com%2fauth%2fdrive.photos.readonly%20https%3a%2f%2fwww.googleapis.com%2fauth%2fpeopleapi.readonly\n",
            "\n",
            "Enter your authorization code:\n",
            "··········\n",
            "Mounted at /content/drive\n"
          ],
          "name": "stdout"
        }
      ]
    },
    {
      "cell_type": "code",
      "metadata": {
        "id": "LmHnPSEuuGSi",
        "colab_type": "code",
        "outputId": "2aefebd0-cc37-4fd7-87ea-0212d4176eef",
        "colab": {
          "base_uri": "https://localhost:8080/",
          "height": 34
        }
      },
      "source": [
        "%cd drive/'My Drive'"
      ],
      "execution_count": 0,
      "outputs": [
        {
          "output_type": "stream",
          "text": [
            "/content/drive/My Drive\n"
          ],
          "name": "stdout"
        }
      ]
    },
    {
      "cell_type": "code",
      "metadata": {
        "id": "vBDEd3xcuJ-v",
        "colab_type": "code",
        "colab": {}
      },
      "source": [
        "EPOCHS = 100\n",
        "INIT_LR = 1e-3\n",
        "BS = 32\n",
        "default_image_size = tuple((299, 299))\n",
        "image_size = 0\n",
        "directory_root = './dataset/'\n",
        "width=299\n",
        "height=299\n",
        "depth=3"
      ],
      "execution_count": 0,
      "outputs": []
    },
    {
      "cell_type": "code",
      "metadata": {
        "id": "iIzkMDScuNZT",
        "colab_type": "code",
        "colab": {}
      },
      "source": [
        "def convert_image_to_array(image_dir):\n",
        "    try:\n",
        "        image = cv2.imread(image_dir)\n",
        "        if image is not None :\n",
        "            image = cv2.resize(image, default_image_size)   \n",
        "            return img_to_array(image)\n",
        "        else :\n",
        "            return np.array([])\n",
        "    except Exception as e:\n",
        "        print(f\"Error : {e}\")\n",
        "        return None"
      ],
      "execution_count": 0,
      "outputs": []
    },
    {
      "cell_type": "code",
      "metadata": {
        "id": "So-RvpDpuQbm",
        "colab_type": "code",
        "outputId": "80ffe628-c5ae-4d3e-8138-111749013e23",
        "colab": {
          "base_uri": "https://localhost:8080/",
          "height": 196
        }
      },
      "source": [
        "image_list, label_list = [], []\n",
        "try:\n",
        "    print(\"[INFO] Loading images ...\")\n",
        "    root_dir = listdir(directory_root)\n",
        "    for directory in root_dir :\n",
        "        # remove .DS_Store from list\n",
        "        if directory == \".DS_Store\" :\n",
        "            root_dir.remove(directory)\n",
        "\n",
        "    for plant_folder in root_dir :\n",
        "        plant_disease_folder_list = listdir(f\"{directory_root}/{plant_folder}\")\n",
        "        \n",
        "        for disease_folder in plant_disease_folder_list :\n",
        "            # remove .DS_Store from list\n",
        "            if disease_folder == \".DS_Store\" :\n",
        "                plant_disease_folder_list.remove(disease_folder)\n",
        "\n",
        "        for plant_disease_folder in plant_disease_folder_list:\n",
        "            print(f\"[INFO] Processing {plant_disease_folder} ...\")\n",
        "            plant_disease_image_list = listdir(f\"{directory_root}/{plant_folder}/{plant_disease_folder}/\")\n",
        "                \n",
        "            for single_plant_disease_image in plant_disease_image_list :\n",
        "                if single_plant_disease_image == \".DS_Store\" :\n",
        "                    plant_disease_image_list.remove(single_plant_disease_image)\n",
        "\n",
        "            for image in plant_disease_image_list[:200]:\n",
        "                image_directory = f\"{directory_root}/{plant_folder}/{plant_disease_folder}/{image}\"\n",
        "                if image_directory.endswith(\".jpg\") == True or image_directory.endswith(\".JPG\") == True:\n",
        "                    image_list.append(convert_image_to_array(image_directory))\n",
        "                    label_list.append(plant_disease_folder)\n",
        "    %time print(\"[INFO] Image loading completed\")  \n",
        "except Exception as e:\n",
        "    print(f\"Error : {e}\")"
      ],
      "execution_count": 0,
      "outputs": [
        {
          "output_type": "stream",
          "text": [
            "[INFO] Loading images ...\n",
            "[INFO] Processing Tomato___Bacterial_spot ...\n",
            "[INFO] Processing Tomato___Early_blight ...\n",
            "[INFO] Processing Tomato___Late_blight ...\n",
            "[INFO] Processing Tomato___Leaf_Mold ...\n",
            "[INFO] Processing Tomato___Septoria_leaf_spot ...\n",
            "[INFO] Processing Tomato___Tomato_Yellow_Leaf_Curl_Virus ...\n",
            "[INFO] Image loading completed\n",
            "CPU times: user 97 µs, sys: 26 µs, total: 123 µs\n",
            "Wall time: 126 µs\n"
          ],
          "name": "stdout"
        }
      ]
    },
    {
      "cell_type": "code",
      "metadata": {
        "id": "1kVIbSSTxGZ-",
        "colab_type": "code",
        "outputId": "f72f25d8-cd6d-4925-d945-decb86adbf2c",
        "colab": {
          "base_uri": "https://localhost:8080/",
          "height": 34
        }
      },
      "source": [
        "image_size = len(image_list)\n",
        "image_size"
      ],
      "execution_count": 0,
      "outputs": [
        {
          "output_type": "execute_result",
          "data": {
            "text/plain": [
              "1200"
            ]
          },
          "metadata": {
            "tags": []
          },
          "execution_count": 7
        }
      ]
    },
    {
      "cell_type": "code",
      "metadata": {
        "id": "UEJ4bP-XxO7s",
        "colab_type": "code",
        "colab": {}
      },
      "source": [
        "image_size = len(image_list)\n",
        "label_binarizer = LabelBinarizer()\n",
        "image_labels = label_binarizer.fit_transform(label_list)\n",
        "pickle.dump(label_binarizer,open('label_transform.pkl', 'wb'))\n",
        "n_classes = len(label_binarizer.classes_)"
      ],
      "execution_count": 0,
      "outputs": []
    },
    {
      "cell_type": "code",
      "metadata": {
        "id": "vvvDlqQ5xaXa",
        "colab_type": "code",
        "outputId": "dbfb1c4b-9e26-42f9-dce7-80a208007572",
        "colab": {
          "base_uri": "https://localhost:8080/",
          "height": 70
        }
      },
      "source": [
        "print(label_binarizer.classes_)"
      ],
      "execution_count": 0,
      "outputs": [
        {
          "output_type": "stream",
          "text": [
            "['Tomato___Bacterial_spot' 'Tomato___Early_blight' 'Tomato___Late_blight'\n",
            " 'Tomato___Leaf_Mold' 'Tomato___Septoria_leaf_spot'\n",
            " 'Tomato___Tomato_Yellow_Leaf_Curl_Virus']\n"
          ],
          "name": "stdout"
        }
      ]
    },
    {
      "cell_type": "code",
      "metadata": {
        "id": "pSNk2Ba7yVAY",
        "colab_type": "code",
        "colab": {}
      },
      "source": [
        "np_image_list = np.array(image_list, dtype=np.float16) / 225.0"
      ],
      "execution_count": 0,
      "outputs": []
    },
    {
      "cell_type": "code",
      "metadata": {
        "id": "JbB5MeKoyY_G",
        "colab_type": "code",
        "colab": {}
      },
      "source": [
        "x_train, x_test, y_train, y_test = train_test_split(np_image_list, image_labels, test_size=0.2, random_state = 42)"
      ],
      "execution_count": 0,
      "outputs": []
    },
    {
      "cell_type": "code",
      "metadata": {
        "id": "dJHWCn2Ayhvv",
        "colab_type": "code",
        "colab": {}
      },
      "source": [
        "aug = ImageDataGenerator(\n",
        "    rotation_range=25, width_shift_range=0.1,\n",
        "    height_shift_range=0.1, shear_range=0.2, \n",
        "    zoom_range=0.2,horizontal_flip=True, \n",
        "    fill_mode=\"nearest\")"
      ],
      "execution_count": 0,
      "outputs": []
    },
    {
      "cell_type": "code",
      "metadata": {
        "id": "hJskRnwEymUK",
        "colab_type": "code",
        "outputId": "02a5930a-dfe2-4e88-8b9d-9b0bacdb449a",
        "colab": {
          "base_uri": "https://localhost:8080/",
          "height": 484
        }
      },
      "source": [
        "base_model = InceptionV3(weights=None, include_top=False, input_tensor=Input(shape = (width, height, depth)))\n",
        "\n",
        "x = base_model.output\n",
        "output = BatchNormalization()(x)\n",
        "x = GlobalAveragePooling2D()(x)\n",
        "x = Dense(1024, activation='relu')(x)\n",
        "predictions = Dense(n_classes, activation='softmax')(x)\n",
        "\n",
        "model = Model(inputs=base_model.input, outputs=predictions)"
      ],
      "execution_count": 0,
      "outputs": [
        {
          "output_type": "stream",
          "text": [
            "WARNING:tensorflow:From /usr/local/lib/python3.6/dist-packages/keras/backend/tensorflow_backend.py:66: The name tf.get_default_graph is deprecated. Please use tf.compat.v1.get_default_graph instead.\n",
            "\n",
            "WARNING:tensorflow:From /usr/local/lib/python3.6/dist-packages/keras/backend/tensorflow_backend.py:541: The name tf.placeholder is deprecated. Please use tf.compat.v1.placeholder instead.\n",
            "\n",
            "WARNING:tensorflow:From /usr/local/lib/python3.6/dist-packages/keras/backend/tensorflow_backend.py:4432: The name tf.random_uniform is deprecated. Please use tf.random.uniform instead.\n",
            "\n",
            "WARNING:tensorflow:From /usr/local/lib/python3.6/dist-packages/keras/backend/tensorflow_backend.py:190: The name tf.get_default_session is deprecated. Please use tf.compat.v1.get_default_session instead.\n",
            "\n",
            "WARNING:tensorflow:From /usr/local/lib/python3.6/dist-packages/keras/backend/tensorflow_backend.py:197: The name tf.ConfigProto is deprecated. Please use tf.compat.v1.ConfigProto instead.\n",
            "\n",
            "WARNING:tensorflow:From /usr/local/lib/python3.6/dist-packages/keras/backend/tensorflow_backend.py:203: The name tf.Session is deprecated. Please use tf.compat.v1.Session instead.\n",
            "\n",
            "WARNING:tensorflow:From /usr/local/lib/python3.6/dist-packages/keras/backend/tensorflow_backend.py:207: The name tf.global_variables is deprecated. Please use tf.compat.v1.global_variables instead.\n",
            "\n",
            "WARNING:tensorflow:From /usr/local/lib/python3.6/dist-packages/keras/backend/tensorflow_backend.py:216: The name tf.is_variable_initialized is deprecated. Please use tf.compat.v1.is_variable_initialized instead.\n",
            "\n",
            "WARNING:tensorflow:From /usr/local/lib/python3.6/dist-packages/keras/backend/tensorflow_backend.py:223: The name tf.variables_initializer is deprecated. Please use tf.compat.v1.variables_initializer instead.\n",
            "\n",
            "WARNING:tensorflow:From /usr/local/lib/python3.6/dist-packages/keras/backend/tensorflow_backend.py:2041: The name tf.nn.fused_batch_norm is deprecated. Please use tf.compat.v1.nn.fused_batch_norm instead.\n",
            "\n",
            "WARNING:tensorflow:From /usr/local/lib/python3.6/dist-packages/keras/backend/tensorflow_backend.py:148: The name tf.placeholder_with_default is deprecated. Please use tf.compat.v1.placeholder_with_default instead.\n",
            "\n",
            "WARNING:tensorflow:From /usr/local/lib/python3.6/dist-packages/keras/backend/tensorflow_backend.py:4267: The name tf.nn.max_pool is deprecated. Please use tf.nn.max_pool2d instead.\n",
            "\n",
            "WARNING:tensorflow:From /usr/local/lib/python3.6/dist-packages/keras/backend/tensorflow_backend.py:4271: The name tf.nn.avg_pool is deprecated. Please use tf.nn.avg_pool2d instead.\n",
            "\n"
          ],
          "name": "stdout"
        }
      ]
    },
    {
      "cell_type": "code",
      "metadata": {
        "id": "yzJH88EhyvPk",
        "colab_type": "code",
        "outputId": "fa18f08c-746e-4cff-e221-d8c00a5c4be4",
        "colab": {
          "base_uri": "https://localhost:8080/",
          "height": 160
        }
      },
      "source": [
        "opt = Adam(lr=INIT_LR, decay=INIT_LR / EPOCHS)\n",
        "# distribution\n",
        "model.compile(loss=\"binary_crossentropy\", optimizer=opt,metrics=[\"accuracy\"])\n",
        "# train the network\n",
        "print(\"[INFO] training network...\")"
      ],
      "execution_count": 0,
      "outputs": [
        {
          "output_type": "stream",
          "text": [
            "WARNING:tensorflow:From /usr/local/lib/python3.6/dist-packages/keras/optimizers.py:793: The name tf.train.Optimizer is deprecated. Please use tf.compat.v1.train.Optimizer instead.\n",
            "\n",
            "WARNING:tensorflow:From /usr/local/lib/python3.6/dist-packages/keras/backend/tensorflow_backend.py:3657: The name tf.log is deprecated. Please use tf.math.log instead.\n",
            "\n",
            "WARNING:tensorflow:From /tensorflow-1.15.2/python3.6/tensorflow_core/python/ops/nn_impl.py:183: where (from tensorflow.python.ops.array_ops) is deprecated and will be removed in a future version.\n",
            "Instructions for updating:\n",
            "Use tf.where in 2.0, which has the same broadcast rule as np.where\n",
            "[INFO] training network...\n"
          ],
          "name": "stdout"
        }
      ]
    },
    {
      "cell_type": "code",
      "metadata": {
        "id": "-IN6IgIey0eZ",
        "colab_type": "code",
        "outputId": "4015aadd-0c18-4dab-c105-1a63a6f4a8d7",
        "colab": {
          "base_uri": "https://localhost:8080/",
          "height": 1000
        }
      },
      "source": [
        "#Training Model\n",
        "history = model.fit_generator(\n",
        "    aug.flow(x_train, y_train, batch_size=BS),\n",
        "    validation_data=(x_test, y_test),\n",
        "    steps_per_epoch=len(x_train) // BS,\n",
        "    epochs=EPOCHS, verbose=1\n",
        "    )"
      ],
      "execution_count": 0,
      "outputs": [
        {
          "output_type": "stream",
          "text": [
            "Epoch 1/100\n",
            "30/30 [==============================] - 20s 677ms/step - loss: 0.0425 - acc: 0.9832 - val_loss: 0.1852 - val_acc: 0.9451\n",
            "Epoch 2/100\n",
            "30/30 [==============================] - 20s 661ms/step - loss: 0.0376 - acc: 0.9858 - val_loss: 0.2621 - val_acc: 0.9313\n",
            "Epoch 3/100\n",
            "30/30 [==============================] - 20s 663ms/step - loss: 0.0345 - acc: 0.9872 - val_loss: 0.1981 - val_acc: 0.9382\n",
            "Epoch 4/100\n",
            "30/30 [==============================] - 20s 660ms/step - loss: 0.0309 - acc: 0.9889 - val_loss: 0.2211 - val_acc: 0.9340\n",
            "Epoch 5/100\n",
            "30/30 [==============================] - 20s 659ms/step - loss: 0.0390 - acc: 0.9875 - val_loss: 0.4094 - val_acc: 0.8972\n",
            "Epoch 6/100\n",
            "30/30 [==============================] - 20s 661ms/step - loss: 0.0280 - acc: 0.9910 - val_loss: 0.2871 - val_acc: 0.9368\n",
            "Epoch 7/100\n",
            "30/30 [==============================] - 20s 655ms/step - loss: 0.0285 - acc: 0.9891 - val_loss: 0.3275 - val_acc: 0.9257\n",
            "Epoch 8/100\n",
            "30/30 [==============================] - 20s 655ms/step - loss: 0.0337 - acc: 0.9891 - val_loss: 0.4513 - val_acc: 0.8924\n",
            "Epoch 9/100\n",
            "30/30 [==============================] - 20s 653ms/step - loss: 0.0331 - acc: 0.9863 - val_loss: 0.3040 - val_acc: 0.9292\n",
            "Epoch 10/100\n",
            "30/30 [==============================] - 19s 649ms/step - loss: 0.0462 - acc: 0.9832 - val_loss: 0.3940 - val_acc: 0.9118\n",
            "Epoch 11/100\n",
            "30/30 [==============================] - 20s 663ms/step - loss: 0.0347 - acc: 0.9870 - val_loss: 0.0943 - val_acc: 0.9708\n",
            "Epoch 12/100\n",
            "30/30 [==============================] - 20s 652ms/step - loss: 0.0286 - acc: 0.9885 - val_loss: 0.4490 - val_acc: 0.9090\n",
            "Epoch 13/100\n",
            "30/30 [==============================] - 20s 652ms/step - loss: 0.0161 - acc: 0.9941 - val_loss: 0.1830 - val_acc: 0.9465\n",
            "Epoch 14/100\n",
            "30/30 [==============================] - 20s 652ms/step - loss: 0.0246 - acc: 0.9920 - val_loss: 0.6989 - val_acc: 0.8660\n",
            "Epoch 15/100\n",
            "30/30 [==============================] - 20s 650ms/step - loss: 0.0258 - acc: 0.9906 - val_loss: 0.2778 - val_acc: 0.9319\n",
            "Epoch 16/100\n",
            "30/30 [==============================] - 20s 655ms/step - loss: 0.0294 - acc: 0.9911 - val_loss: 0.1225 - val_acc: 0.9681\n",
            "Epoch 17/100\n",
            "30/30 [==============================] - 20s 655ms/step - loss: 0.0432 - acc: 0.9870 - val_loss: 0.2894 - val_acc: 0.9278\n",
            "Epoch 18/100\n",
            "30/30 [==============================] - 19s 647ms/step - loss: 0.0306 - acc: 0.9905 - val_loss: 0.4789 - val_acc: 0.8938\n",
            "Epoch 19/100\n",
            "30/30 [==============================] - 19s 650ms/step - loss: 0.0300 - acc: 0.9896 - val_loss: 0.2959 - val_acc: 0.9063\n",
            "Epoch 20/100\n",
            "30/30 [==============================] - 20s 657ms/step - loss: 0.0343 - acc: 0.9866 - val_loss: 0.1867 - val_acc: 0.9417\n",
            "Epoch 21/100\n",
            "30/30 [==============================] - 20s 659ms/step - loss: 0.0385 - acc: 0.9872 - val_loss: 0.4117 - val_acc: 0.9069\n",
            "Epoch 22/100\n",
            "30/30 [==============================] - 20s 658ms/step - loss: 0.0287 - acc: 0.9898 - val_loss: 0.2381 - val_acc: 0.9236\n",
            "Epoch 23/100\n",
            "30/30 [==============================] - 20s 660ms/step - loss: 0.0233 - acc: 0.9901 - val_loss: 0.2847 - val_acc: 0.9319\n",
            "Epoch 24/100\n",
            "30/30 [==============================] - 20s 652ms/step - loss: 0.0374 - acc: 0.9865 - val_loss: 0.1772 - val_acc: 0.9458\n",
            "Epoch 25/100\n",
            "30/30 [==============================] - 20s 650ms/step - loss: 0.0342 - acc: 0.9885 - val_loss: 0.1126 - val_acc: 0.9764\n",
            "Epoch 26/100\n",
            "30/30 [==============================] - 19s 645ms/step - loss: 0.0317 - acc: 0.9870 - val_loss: 0.0892 - val_acc: 0.9694\n",
            "Epoch 27/100\n",
            "30/30 [==============================] - 20s 652ms/step - loss: 0.0379 - acc: 0.9868 - val_loss: 0.1535 - val_acc: 0.9535\n",
            "Epoch 28/100\n",
            "30/30 [==============================] - 19s 644ms/step - loss: 0.0247 - acc: 0.9906 - val_loss: 0.1722 - val_acc: 0.9639\n",
            "Epoch 29/100\n",
            "30/30 [==============================] - 19s 647ms/step - loss: 0.0380 - acc: 0.9854 - val_loss: 0.6905 - val_acc: 0.8910\n",
            "Epoch 30/100\n",
            "30/30 [==============================] - 19s 643ms/step - loss: 0.0265 - acc: 0.9898 - val_loss: 0.1413 - val_acc: 0.9556\n",
            "Epoch 31/100\n",
            "30/30 [==============================] - 19s 644ms/step - loss: 0.0347 - acc: 0.9882 - val_loss: 0.4748 - val_acc: 0.9049\n",
            "Epoch 32/100\n",
            "30/30 [==============================] - 19s 641ms/step - loss: 0.0244 - acc: 0.9917 - val_loss: 0.4610 - val_acc: 0.8924\n",
            "Epoch 33/100\n",
            "30/30 [==============================] - 19s 647ms/step - loss: 0.0315 - acc: 0.9885 - val_loss: 1.1796 - val_acc: 0.8201\n",
            "Epoch 34/100\n",
            "30/30 [==============================] - 19s 646ms/step - loss: 0.0271 - acc: 0.9903 - val_loss: 0.2192 - val_acc: 0.9396\n",
            "Epoch 35/100\n",
            "30/30 [==============================] - 19s 642ms/step - loss: 0.0255 - acc: 0.9906 - val_loss: 0.2009 - val_acc: 0.9569\n",
            "Epoch 36/100\n",
            "30/30 [==============================] - 19s 644ms/step - loss: 0.0260 - acc: 0.9892 - val_loss: 0.4825 - val_acc: 0.8854\n",
            "Epoch 37/100\n",
            "30/30 [==============================] - 19s 650ms/step - loss: 0.0261 - acc: 0.9905 - val_loss: 0.4631 - val_acc: 0.8715\n",
            "Epoch 38/100\n",
            "30/30 [==============================] - 19s 641ms/step - loss: 0.0358 - acc: 0.9852 - val_loss: 1.0828 - val_acc: 0.8576\n",
            "Epoch 39/100\n",
            "30/30 [==============================] - 19s 646ms/step - loss: 0.0171 - acc: 0.9944 - val_loss: 0.3633 - val_acc: 0.9028\n",
            "Epoch 40/100\n",
            "30/30 [==============================] - 19s 642ms/step - loss: 0.0277 - acc: 0.9901 - val_loss: 0.2835 - val_acc: 0.9354\n",
            "Epoch 41/100\n",
            "30/30 [==============================] - 19s 645ms/step - loss: 0.0335 - acc: 0.9877 - val_loss: 0.2486 - val_acc: 0.9382\n",
            "Epoch 42/100\n",
            "30/30 [==============================] - 19s 641ms/step - loss: 0.0323 - acc: 0.9906 - val_loss: 0.3229 - val_acc: 0.9354\n",
            "Epoch 43/100\n",
            "30/30 [==============================] - 20s 653ms/step - loss: 0.0383 - acc: 0.9868 - val_loss: 0.2661 - val_acc: 0.9306\n",
            "Epoch 44/100\n",
            "30/30 [==============================] - 19s 643ms/step - loss: 0.0269 - acc: 0.9905 - val_loss: 0.0447 - val_acc: 0.9826\n",
            "Epoch 45/100\n",
            "30/30 [==============================] - 19s 643ms/step - loss: 0.0256 - acc: 0.9918 - val_loss: 0.2562 - val_acc: 0.9431\n",
            "Epoch 46/100\n",
            "30/30 [==============================] - 19s 646ms/step - loss: 0.0237 - acc: 0.9918 - val_loss: 0.0991 - val_acc: 0.9688\n",
            "Epoch 47/100\n",
            "30/30 [==============================] - 19s 646ms/step - loss: 0.0191 - acc: 0.9948 - val_loss: 0.1206 - val_acc: 0.9792\n",
            "Epoch 48/100\n",
            "30/30 [==============================] - 19s 644ms/step - loss: 0.0280 - acc: 0.9898 - val_loss: 0.2304 - val_acc: 0.9319\n",
            "Epoch 49/100\n",
            "30/30 [==============================] - 19s 640ms/step - loss: 0.0274 - acc: 0.9903 - val_loss: 0.3068 - val_acc: 0.9285\n",
            "Epoch 50/100\n",
            "30/30 [==============================] - 19s 644ms/step - loss: 0.0298 - acc: 0.9915 - val_loss: 0.5095 - val_acc: 0.9160\n",
            "Epoch 51/100\n",
            "30/30 [==============================] - 19s 642ms/step - loss: 0.0234 - acc: 0.9917 - val_loss: 0.1796 - val_acc: 0.9514\n",
            "Epoch 52/100\n",
            "30/30 [==============================] - 19s 644ms/step - loss: 0.0116 - acc: 0.9964 - val_loss: 0.1170 - val_acc: 0.9653\n",
            "Epoch 53/100\n",
            "30/30 [==============================] - 19s 648ms/step - loss: 0.0157 - acc: 0.9953 - val_loss: 0.0905 - val_acc: 0.9757\n",
            "Epoch 54/100\n",
            "30/30 [==============================] - 19s 647ms/step - loss: 0.0108 - acc: 0.9960 - val_loss: 0.5343 - val_acc: 0.8903\n",
            "Epoch 55/100\n",
            "30/30 [==============================] - 19s 641ms/step - loss: 0.0189 - acc: 0.9925 - val_loss: 0.1267 - val_acc: 0.9556\n",
            "Epoch 56/100\n",
            "30/30 [==============================] - 19s 643ms/step - loss: 0.0210 - acc: 0.9918 - val_loss: 0.0621 - val_acc: 0.9757\n",
            "Epoch 57/100\n",
            "30/30 [==============================] - 19s 645ms/step - loss: 0.0168 - acc: 0.9939 - val_loss: 0.1121 - val_acc: 0.9681\n",
            "Epoch 58/100\n",
            "30/30 [==============================] - 19s 642ms/step - loss: 0.0259 - acc: 0.9915 - val_loss: 0.0898 - val_acc: 0.9722\n",
            "Epoch 59/100\n",
            "30/30 [==============================] - 19s 648ms/step - loss: 0.0307 - acc: 0.9903 - val_loss: 0.2623 - val_acc: 0.9319\n",
            "Epoch 60/100\n",
            "30/30 [==============================] - 19s 643ms/step - loss: 0.0235 - acc: 0.9927 - val_loss: 0.4056 - val_acc: 0.9062\n",
            "Epoch 61/100\n",
            "30/30 [==============================] - 19s 642ms/step - loss: 0.0291 - acc: 0.9896 - val_loss: 0.2649 - val_acc: 0.9472\n",
            "Epoch 62/100\n",
            "30/30 [==============================] - 19s 649ms/step - loss: 0.0134 - acc: 0.9950 - val_loss: 0.1630 - val_acc: 0.9611\n",
            "Epoch 63/100\n",
            "30/30 [==============================] - 19s 641ms/step - loss: 0.0097 - acc: 0.9960 - val_loss: 0.0942 - val_acc: 0.9688\n",
            "Epoch 64/100\n",
            "30/30 [==============================] - 19s 640ms/step - loss: 0.0359 - acc: 0.9889 - val_loss: 0.2414 - val_acc: 0.9465\n",
            "Epoch 65/100\n",
            "30/30 [==============================] - 19s 645ms/step - loss: 0.0209 - acc: 0.9925 - val_loss: 0.1153 - val_acc: 0.9688\n",
            "Epoch 66/100\n",
            "30/30 [==============================] - 19s 644ms/step - loss: 0.0332 - acc: 0.9877 - val_loss: 0.3369 - val_acc: 0.9208\n",
            "Epoch 67/100\n",
            "30/30 [==============================] - 19s 644ms/step - loss: 0.0431 - acc: 0.9858 - val_loss: 0.1611 - val_acc: 0.9576\n",
            "Epoch 68/100\n",
            "30/30 [==============================] - 19s 647ms/step - loss: 0.0260 - acc: 0.9908 - val_loss: 0.3300 - val_acc: 0.9313\n",
            "Epoch 69/100\n",
            "30/30 [==============================] - 19s 642ms/step - loss: 0.0287 - acc: 0.9899 - val_loss: 0.2066 - val_acc: 0.9542\n",
            "Epoch 70/100\n",
            "30/30 [==============================] - 19s 648ms/step - loss: 0.0239 - acc: 0.9910 - val_loss: 0.5712 - val_acc: 0.8958\n",
            "Epoch 71/100\n",
            "30/30 [==============================] - 19s 643ms/step - loss: 0.0330 - acc: 0.9896 - val_loss: 0.8215 - val_acc: 0.8250\n",
            "Epoch 72/100\n",
            "30/30 [==============================] - 19s 638ms/step - loss: 0.0177 - acc: 0.9948 - val_loss: 0.1352 - val_acc: 0.9618\n",
            "Epoch 73/100\n",
            "30/30 [==============================] - 19s 645ms/step - loss: 0.0181 - acc: 0.9943 - val_loss: 0.0594 - val_acc: 0.9799\n",
            "Epoch 74/100\n",
            "30/30 [==============================] - 19s 642ms/step - loss: 0.0267 - acc: 0.9896 - val_loss: 0.0400 - val_acc: 0.9833\n",
            "Epoch 75/100\n",
            "30/30 [==============================] - 20s 652ms/step - loss: 0.0218 - acc: 0.9927 - val_loss: 0.0916 - val_acc: 0.9736\n",
            "Epoch 76/100\n",
            "30/30 [==============================] - 19s 643ms/step - loss: 0.0202 - acc: 0.9931 - val_loss: 0.3850 - val_acc: 0.9153\n",
            "Epoch 77/100\n",
            "30/30 [==============================] - 19s 644ms/step - loss: 0.0163 - acc: 0.9950 - val_loss: 0.2468 - val_acc: 0.9368\n",
            "Epoch 78/100\n",
            "30/30 [==============================] - 19s 638ms/step - loss: 0.0170 - acc: 0.9934 - val_loss: 0.2445 - val_acc: 0.9472\n",
            "Epoch 79/100\n",
            "30/30 [==============================] - 19s 646ms/step - loss: 0.0183 - acc: 0.9920 - val_loss: 0.0674 - val_acc: 0.9799\n",
            "Epoch 80/100\n",
            "30/30 [==============================] - 19s 641ms/step - loss: 0.0175 - acc: 0.9936 - val_loss: 0.1736 - val_acc: 0.9410\n",
            "Epoch 81/100\n",
            "30/30 [==============================] - 19s 646ms/step - loss: 0.0119 - acc: 0.9951 - val_loss: 0.2487 - val_acc: 0.9347\n",
            "Epoch 82/100\n",
            "30/30 [==============================] - 19s 638ms/step - loss: 0.0110 - acc: 0.9967 - val_loss: 0.1431 - val_acc: 0.9688\n",
            "Epoch 83/100\n",
            "30/30 [==============================] - 19s 643ms/step - loss: 0.0116 - acc: 0.9965 - val_loss: 0.0852 - val_acc: 0.9708\n",
            "Epoch 84/100\n",
            "30/30 [==============================] - 19s 646ms/step - loss: 0.0181 - acc: 0.9936 - val_loss: 0.1567 - val_acc: 0.9500\n",
            "Epoch 85/100\n",
            "30/30 [==============================] - 19s 642ms/step - loss: 0.0208 - acc: 0.9929 - val_loss: 0.1182 - val_acc: 0.9590\n",
            "Epoch 86/100\n",
            "30/30 [==============================] - 19s 640ms/step - loss: 0.0178 - acc: 0.9939 - val_loss: 0.2381 - val_acc: 0.9424\n",
            "Epoch 87/100\n",
            "30/30 [==============================] - 19s 642ms/step - loss: 0.0264 - acc: 0.9920 - val_loss: 0.6891 - val_acc: 0.8833\n",
            "Epoch 88/100\n",
            "30/30 [==============================] - 19s 640ms/step - loss: 0.0309 - acc: 0.9892 - val_loss: 0.1963 - val_acc: 0.9563\n",
            "Epoch 89/100\n",
            "30/30 [==============================] - 19s 642ms/step - loss: 0.0441 - acc: 0.9861 - val_loss: 0.4487 - val_acc: 0.9097\n",
            "Epoch 90/100\n",
            "30/30 [==============================] - 19s 643ms/step - loss: 0.0243 - acc: 0.9910 - val_loss: 0.3244 - val_acc: 0.9160\n",
            "Epoch 91/100\n",
            "30/30 [==============================] - 19s 648ms/step - loss: 0.0137 - acc: 0.9950 - val_loss: 0.2765 - val_acc: 0.9104\n",
            "Epoch 92/100\n",
            "30/30 [==============================] - 19s 639ms/step - loss: 0.0132 - acc: 0.9957 - val_loss: 0.1001 - val_acc: 0.9736\n",
            "Epoch 93/100\n",
            "30/30 [==============================] - 19s 640ms/step - loss: 0.0220 - acc: 0.9924 - val_loss: 0.1475 - val_acc: 0.9611\n",
            "Epoch 94/100\n",
            "30/30 [==============================] - 19s 641ms/step - loss: 0.0195 - acc: 0.9924 - val_loss: 0.1081 - val_acc: 0.9583\n",
            "Epoch 95/100\n",
            "30/30 [==============================] - 19s 643ms/step - loss: 0.0139 - acc: 0.9948 - val_loss: 0.1200 - val_acc: 0.9611\n",
            "Epoch 96/100\n",
            "30/30 [==============================] - 19s 640ms/step - loss: 0.0095 - acc: 0.9976 - val_loss: 0.1101 - val_acc: 0.9639\n",
            "Epoch 97/100\n",
            "30/30 [==============================] - 19s 641ms/step - loss: 0.0086 - acc: 0.9965 - val_loss: 0.1136 - val_acc: 0.9646\n",
            "Epoch 98/100\n",
            "30/30 [==============================] - 19s 641ms/step - loss: 0.0060 - acc: 0.9984 - val_loss: 0.0617 - val_acc: 0.9764\n",
            "Epoch 99/100\n",
            "30/30 [==============================] - 19s 643ms/step - loss: 0.0071 - acc: 0.9977 - val_loss: 0.0428 - val_acc: 0.9840\n",
            "Epoch 100/100\n",
            "30/30 [==============================] - 20s 652ms/step - loss: 0.0167 - acc: 0.9950 - val_loss: 0.1177 - val_acc: 0.9639\n"
          ],
          "name": "stdout"
        }
      ]
    },
    {
      "cell_type": "code",
      "metadata": {
        "id": "MOTxYqh-B_YR",
        "colab_type": "code",
        "outputId": "0e4df3c5-a194-465d-98e9-7a56c3f4e8dc",
        "colab": {
          "base_uri": "https://localhost:8080/",
          "height": 544
        }
      },
      "source": [
        "acc = history.history['acc']\n",
        "val_acc = history.history['val_acc']\n",
        "loss = history.history['loss']\n",
        "val_loss = history.history['val_loss']\n",
        "epochs = range(1, len(acc) + 1)\n",
        "#Train and validation accuracy\n",
        "plt.plot(epochs, acc, 'b', label='Training accurarcy')\n",
        "plt.plot(epochs, val_acc, 'r', label='Validation accurarcy')\n",
        "plt.title('Training and Validation accurarcy')\n",
        "plt.legend()\n",
        "\n",
        "plt.figure()\n",
        "#Train and validation loss\n",
        "plt.plot(epochs, loss, 'b', label='Training loss')\n",
        "plt.plot(epochs, val_loss, 'r', label='Validation loss')\n",
        "plt.title('Training and Validation loss')\n",
        "plt.legend()\n",
        "plt.show()"
      ],
      "execution_count": 0,
      "outputs": [
        {
          "output_type": "display_data",
          "data": {
            "image/png": "[encoded data removed]",
            "text/plain": [
              "<Figure size 432x288 with 1 Axes>"
            ]
          },
          "metadata": {
            "tags": []
          }
        },
        {
          "output_type": "display_data",
          "data": {
            "image/png": "[encoded data removed]",
            "text/plain": [
              "<Figure size 432x288 with 1 Axes>"
            ]
          },
          "metadata": {
            "tags": []
          }
        }
      ]
    },
    {
      "cell_type": "code",
      "metadata": {
        "id": "ZT6Mp9w_CK6c",
        "colab_type": "code",
        "outputId": "c3e193b2-a4ce-40c7-9f0a-df4762bafaa1",
        "colab": {
          "base_uri": "https://localhost:8080/",
          "height": 52
        }
      },
      "source": [
        "scores = model.evaluate(x_test, y_test)\n",
        "print(f\"Test Accuracy: {scores[1]*100}\")"
      ],
      "execution_count": 0,
      "outputs": [
        {
          "output_type": "stream",
          "text": [
            "240/240 [==============================] - 1s 4ms/step\n",
            "Test Accuracy: 96.38888994852702\n"
          ],
          "name": "stdout"
        }
      ]
    }
  ]
}