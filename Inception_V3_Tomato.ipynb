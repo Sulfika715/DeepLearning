{
  "nbformat": 4,
  "nbformat_minor": 0,
  "metadata": {
    "colab": {
      "name": "Inception_V3_Tomato.ipynb",
      "provenance": [],
      "authorship_tag": "ABX9TyMF7noXR0P1jTzetjCdDBzE",
      "include_colab_link": true
    },
    "kernelspec": {
      "name": "python3",
      "display_name": "Python 3"
    },
    "accelerator": "GPU"
  },
  "cells": [
    {
      "cell_type": "markdown",
      "metadata": {
        "id": "view-in-github",
        "colab_type": "text"
      },
      "source": [
        "<a href=\"https://colab.research.google.com/github/Sulfika715/DeepLearning/blob/master/Inception_V3_Tomato.ipynb\" target=\"_parent\"><img src=\"https://colab.research.google.com/assets/colab-badge.svg\" alt=\"Open In Colab\"/></a>"
      ]
    },
    {
      "cell_type": "code",
      "metadata": {
        "id": "utSQc0Zf6sys",
        "colab_type": "code",
        "outputId": "81d76d9f-477a-4468-ac3e-9c3ffcfeb607",
        "colab": {
          "base_uri": "https://localhost:8080/",
          "height": 52
        }
      },
      "source": [
        "%tensorflow_version 1.x\n",
        "import numpy as np\n",
        "import pickle\n",
        "import cv2\n",
        "from os import listdir\n",
        "from sklearn.preprocessing import LabelBinarizer\n",
        "import warnings\n",
        "from keras.models import Sequential\n",
        "from keras.applications.inception_v3 import InceptionV3\n",
        "from keras.layers.normalization import BatchNormalization\n",
        "from keras.layers.convolutional import Conv2D\n",
        "from keras.layers.convolutional import MaxPooling2D,Convolution2D,AveragePooling2D\n",
        "from keras.layers import GlobalAveragePooling2D\n",
        "from keras.layers import Input\n",
        "from keras.layers.core import Activation, Flatten, Dropout, Dense\n",
        "from keras.layers.merge import concatenate\n",
        "from keras.models import Model\n",
        "from keras import regularizers\n",
        "from keras import initializers\n",
        "from keras import backend as K\n",
        "from keras.utils.layer_utils import convert_all_kernels_in_model\n",
        "from keras.utils.data_utils import get_file\n",
        "from keras.preprocessing.image import ImageDataGenerator\n",
        "from keras.optimizers import Adam\n",
        "from keras.preprocessing import image\n",
        "from keras.preprocessing.image import img_to_array\n",
        "from sklearn.preprocessing import MultiLabelBinarizer\n",
        "from sklearn.model_selection import train_test_split\n",
        "import matplotlib.pyplot as plt"
      ],
      "execution_count": 0,
      "outputs": [
        {
          "output_type": "stream",
          "text": [
            "TensorFlow 1.x selected.\n"
          ],
          "name": "stdout"
        },
        {
          "output_type": "stream",
          "text": [
            "Using TensorFlow backend.\n"
          ],
          "name": "stderr"
        }
      ]
    },
    {
      "cell_type": "code",
      "metadata": {
        "id": "WdX3PZkv7LU0",
        "colab_type": "code",
        "outputId": "5d25ccd0-84e7-46e9-9b62-b79445c3ef5c",
        "colab": {
          "base_uri": "https://localhost:8080/",
          "height": 126
        }
      },
      "source": [
        "from google.colab import drive\n",
        "drive.mount('/content/drive')"
      ],
      "execution_count": 0,
      "outputs": [
        {
          "output_type": "stream",
          "text": [
            "Go to this URL in a browser: https://accounts.google.com/o/oauth2/auth?client_id=947318989803-6bn6qk8qdgf4n4g3pfee6491hc0brc4i.apps.googleusercontent.com&redirect_uri=urn%3aietf%3awg%3aoauth%3a2.0%3aoob&response_type=code&scope=email%20https%3a%2f%2fwww.googleapis.com%2fauth%2fdocs.test%20https%3a%2f%2fwww.googleapis.com%2fauth%2fdrive%20https%3a%2f%2fwww.googleapis.com%2fauth%2fdrive.photos.readonly%20https%3a%2f%2fwww.googleapis.com%2fauth%2fpeopleapi.readonly\n",
            "\n",
            "Enter your authorization code:\n",
            "··········\n",
            "Mounted at /content/drive\n"
          ],
          "name": "stdout"
        }
      ]
    },
    {
      "cell_type": "code",
      "metadata": {
        "id": "p2l_R9Iw71nA",
        "colab_type": "code",
        "outputId": "207706c6-d8bb-44f5-dbf3-4ae2bcb5058e",
        "colab": {
          "base_uri": "https://localhost:8080/",
          "height": 34
        }
      },
      "source": [
        "%cd drive/'My Drive'"
      ],
      "execution_count": 0,
      "outputs": [
        {
          "output_type": "stream",
          "text": [
            "/content/drive/My Drive\n"
          ],
          "name": "stdout"
        }
      ]
    },
    {
      "cell_type": "code",
      "metadata": {
        "id": "Z2-F717S8Mwf",
        "colab_type": "code",
        "colab": {}
      },
      "source": [
        "EPOCHS = 100\n",
        "INIT_LR = 1e-3\n",
        "BS = 32\n",
        "default_image_size = tuple((299, 299))\n",
        "image_size = 0\n",
        "directory_root = './dataset/'\n",
        "width=299\n",
        "height=299\n",
        "depth=3"
      ],
      "execution_count": 0,
      "outputs": []
    },
    {
      "cell_type": "code",
      "metadata": {
        "id": "oGI6uBFJ8WLM",
        "colab_type": "code",
        "colab": {}
      },
      "source": [
        "def convert_image_to_array(image_dir):\n",
        "    try:\n",
        "        image = cv2.imread(image_dir)\n",
        "        if image is not None :\n",
        "            image = cv2.resize(image, default_image_size)   \n",
        "            return img_to_array(image)\n",
        "        else :\n",
        "            return np.array([])\n",
        "    except Exception as e:\n",
        "        print(f\"Error : {e}\")\n",
        "        return None"
      ],
      "execution_count": 0,
      "outputs": []
    },
    {
      "cell_type": "code",
      "metadata": {
        "id": "TN2j5de88Zxd",
        "colab_type": "code",
        "outputId": "74d1a005-abc7-4615-eeb0-903a2615dbe8",
        "colab": {
          "base_uri": "https://localhost:8080/",
          "height": 196
        }
      },
      "source": [
        "image_list, label_list = [], []\n",
        "try:\n",
        "    print(\"[INFO] Loading images ...\")\n",
        "    root_dir = listdir(directory_root)\n",
        "    for directory in root_dir :\n",
        "        # remove .DS_Store from list\n",
        "        if directory == \".DS_Store\" :\n",
        "            root_dir.remove(directory)\n",
        "\n",
        "    for plant_folder in root_dir :\n",
        "        plant_disease_folder_list = listdir(f\"{directory_root}/{plant_folder}\")\n",
        "        \n",
        "        for disease_folder in plant_disease_folder_list :\n",
        "            # remove .DS_Store from list\n",
        "            if disease_folder == \".DS_Store\" :\n",
        "                plant_disease_folder_list.remove(disease_folder)\n",
        "\n",
        "        for plant_disease_folder in plant_disease_folder_list:\n",
        "            print(f\"[INFO] Processing {plant_disease_folder} ...\")\n",
        "            plant_disease_image_list = listdir(f\"{directory_root}/{plant_folder}/{plant_disease_folder}/\")\n",
        "                \n",
        "            for single_plant_disease_image in plant_disease_image_list :\n",
        "                if single_plant_disease_image == \".DS_Store\" :\n",
        "                    plant_disease_image_list.remove(single_plant_disease_image)\n",
        "\n",
        "            for image in plant_disease_image_list[:200]:\n",
        "                image_directory = f\"{directory_root}/{plant_folder}/{plant_disease_folder}/{image}\"\n",
        "                if image_directory.endswith(\".jpg\") == True or image_directory.endswith(\".JPG\") == True:\n",
        "                    image_list.append(convert_image_to_array(image_directory))\n",
        "                    label_list.append(plant_disease_folder)\n",
        "    %time print(\"[INFO] Image loading completed\")  \n",
        "except Exception as e:\n",
        "    print(f\"Error : {e}\")"
      ],
      "execution_count": 0,
      "outputs": [
        {
          "output_type": "stream",
          "text": [
            "[INFO] Loading images ...\n",
            "[INFO] Processing Tomato___Bacterial_spot ...\n",
            "[INFO] Processing Tomato___Early_blight ...\n",
            "[INFO] Processing Tomato___Late_blight ...\n",
            "[INFO] Processing Tomato___Leaf_Mold ...\n",
            "[INFO] Processing Tomato___Septoria_leaf_spot ...\n",
            "[INFO] Processing Tomato___Tomato_Yellow_Leaf_Curl_Virus ...\n",
            "[INFO] Image loading completed\n",
            "CPU times: user 529 µs, sys: 0 ns, total: 529 µs\n",
            "Wall time: 692 µs\n"
          ],
          "name": "stdout"
        }
      ]
    },
    {
      "cell_type": "code",
      "metadata": {
        "id": "sp0_0G6r_IiX",
        "colab_type": "code",
        "colab": {}
      },
      "source": [
        "image_size = len(image_list)\n",
        "label_binarizer = LabelBinarizer()\n",
        "image_labels = label_binarizer.fit_transform(label_list)\n",
        "pickle.dump(label_binarizer,open('label_transform.pkl', 'wb'))\n",
        "n_classes = len(label_binarizer.classes_)"
      ],
      "execution_count": 0,
      "outputs": []
    },
    {
      "cell_type": "code",
      "metadata": {
        "id": "kJmmBk1D_MK4",
        "colab_type": "code",
        "colab": {}
      },
      "source": [
        "np_image_list = np.array(image_list, dtype=np.float16) / 225.0"
      ],
      "execution_count": 0,
      "outputs": []
    },
    {
      "cell_type": "code",
      "metadata": {
        "id": "YVAjdvRcARBu",
        "colab_type": "code",
        "colab": {}
      },
      "source": [
        "x_train, x_test, y_train, y_test = train_test_split(np_image_list, image_labels, test_size=0.2, random_state = 42) "
      ],
      "execution_count": 0,
      "outputs": []
    },
    {
      "cell_type": "code",
      "metadata": {
        "id": "iPKCYD1iAUdL",
        "colab_type": "code",
        "colab": {}
      },
      "source": [
        "aug = ImageDataGenerator(\n",
        "    rotation_range=25, width_shift_range=0.1,\n",
        "    height_shift_range=0.1, shear_range=0.2, \n",
        "    zoom_range=0.2,horizontal_flip=True, \n",
        "    fill_mode=\"nearest\")"
      ],
      "execution_count": 0,
      "outputs": []
    },
    {
      "cell_type": "code",
      "metadata": {
        "id": "rDlb9F3zAYLv",
        "colab_type": "code",
        "outputId": "a3aa4aa2-8e69-45ea-81c4-30813fe5fe2b",
        "colab": {
          "base_uri": "https://localhost:8080/",
          "height": 484
        }
      },
      "source": [
        "base_model = InceptionV3(weights=None, include_top=False, input_tensor=Input(shape = (width, height, depth)))\n",
        "\n",
        "x = base_model.output\n",
        "output = BatchNormalization()(x)\n",
        "x = GlobalAveragePooling2D()(x)\n",
        "x = Dense(1024, activation='relu')(x)\n",
        "predictions = Dense(n_classes, activation='softmax')(x)\n",
        "\n",
        "model = Model(inputs=base_model.input, outputs=predictions)"
      ],
      "execution_count": 0,
      "outputs": [
        {
          "output_type": "stream",
          "text": [
            "WARNING:tensorflow:From /usr/local/lib/python3.6/dist-packages/keras/backend/tensorflow_backend.py:66: The name tf.get_default_graph is deprecated. Please use tf.compat.v1.get_default_graph instead.\n",
            "\n",
            "WARNING:tensorflow:From /usr/local/lib/python3.6/dist-packages/keras/backend/tensorflow_backend.py:541: The name tf.placeholder is deprecated. Please use tf.compat.v1.placeholder instead.\n",
            "\n",
            "WARNING:tensorflow:From /usr/local/lib/python3.6/dist-packages/keras/backend/tensorflow_backend.py:4432: The name tf.random_uniform is deprecated. Please use tf.random.uniform instead.\n",
            "\n",
            "WARNING:tensorflow:From /usr/local/lib/python3.6/dist-packages/keras/backend/tensorflow_backend.py:190: The name tf.get_default_session is deprecated. Please use tf.compat.v1.get_default_session instead.\n",
            "\n",
            "WARNING:tensorflow:From /usr/local/lib/python3.6/dist-packages/keras/backend/tensorflow_backend.py:197: The name tf.ConfigProto is deprecated. Please use tf.compat.v1.ConfigProto instead.\n",
            "\n",
            "WARNING:tensorflow:From /usr/local/lib/python3.6/dist-packages/keras/backend/tensorflow_backend.py:203: The name tf.Session is deprecated. Please use tf.compat.v1.Session instead.\n",
            "\n",
            "WARNING:tensorflow:From /usr/local/lib/python3.6/dist-packages/keras/backend/tensorflow_backend.py:207: The name tf.global_variables is deprecated. Please use tf.compat.v1.global_variables instead.\n",
            "\n",
            "WARNING:tensorflow:From /usr/local/lib/python3.6/dist-packages/keras/backend/tensorflow_backend.py:216: The name tf.is_variable_initialized is deprecated. Please use tf.compat.v1.is_variable_initialized instead.\n",
            "\n",
            "WARNING:tensorflow:From /usr/local/lib/python3.6/dist-packages/keras/backend/tensorflow_backend.py:223: The name tf.variables_initializer is deprecated. Please use tf.compat.v1.variables_initializer instead.\n",
            "\n",
            "WARNING:tensorflow:From /usr/local/lib/python3.6/dist-packages/keras/backend/tensorflow_backend.py:2041: The name tf.nn.fused_batch_norm is deprecated. Please use tf.compat.v1.nn.fused_batch_norm instead.\n",
            "\n",
            "WARNING:tensorflow:From /usr/local/lib/python3.6/dist-packages/keras/backend/tensorflow_backend.py:148: The name tf.placeholder_with_default is deprecated. Please use tf.compat.v1.placeholder_with_default instead.\n",
            "\n",
            "WARNING:tensorflow:From /usr/local/lib/python3.6/dist-packages/keras/backend/tensorflow_backend.py:4267: The name tf.nn.max_pool is deprecated. Please use tf.nn.max_pool2d instead.\n",
            "\n",
            "WARNING:tensorflow:From /usr/local/lib/python3.6/dist-packages/keras/backend/tensorflow_backend.py:4271: The name tf.nn.avg_pool is deprecated. Please use tf.nn.avg_pool2d instead.\n",
            "\n"
          ],
          "name": "stdout"
        }
      ]
    },
    {
      "cell_type": "code",
      "metadata": {
        "id": "SpMszq-0Amkz",
        "colab_type": "code",
        "outputId": "ca54c0bc-4500-4433-a5cc-90d54e09a179",
        "colab": {
          "base_uri": "https://localhost:8080/",
          "height": 160
        }
      },
      "source": [
        "opt = Adam(lr=INIT_LR, decay=INIT_LR / EPOCHS)\n",
        "# distribution\n",
        "model.compile(loss=\"binary_crossentropy\", optimizer=opt,metrics=[\"accuracy\"])\n",
        "# train the network\n",
        "print(\"[INFO] training network...\")"
      ],
      "execution_count": 0,
      "outputs": [
        {
          "output_type": "stream",
          "text": [
            "WARNING:tensorflow:From /usr/local/lib/python3.6/dist-packages/keras/optimizers.py:793: The name tf.train.Optimizer is deprecated. Please use tf.compat.v1.train.Optimizer instead.\n",
            "\n",
            "WARNING:tensorflow:From /usr/local/lib/python3.6/dist-packages/keras/backend/tensorflow_backend.py:3657: The name tf.log is deprecated. Please use tf.math.log instead.\n",
            "\n",
            "WARNING:tensorflow:From /tensorflow-1.15.2/python3.6/tensorflow_core/python/ops/nn_impl.py:183: where (from tensorflow.python.ops.array_ops) is deprecated and will be removed in a future version.\n",
            "Instructions for updating:\n",
            "Use tf.where in 2.0, which has the same broadcast rule as np.where\n",
            "[INFO] training network...\n"
          ],
          "name": "stdout"
        }
      ]
    },
    {
      "cell_type": "code",
      "metadata": {
        "id": "Fe6-MzyhA8xK",
        "colab_type": "code",
        "outputId": "b64f9b0b-aa25-41ec-a13c-6a62af9aa0e8",
        "colab": {
          "base_uri": "https://localhost:8080/",
          "height": 1000
        }
      },
      "source": [
        "history = model.fit_generator(\n",
        "    aug.flow(x_train, y_train, batch_size=BS),\n",
        "    validation_data=(x_test, y_test),\n",
        "    steps_per_epoch=len(x_train) // BS,\n",
        "    epochs=EPOCHS, verbose=1\n",
        "    )"
      ],
      "execution_count": 0,
      "outputs": [
        {
          "output_type": "stream",
          "text": [
            "WARNING:tensorflow:From /usr/local/lib/python3.6/dist-packages/keras/backend/tensorflow_backend.py:1033: The name tf.assign_add is deprecated. Please use tf.compat.v1.assign_add instead.\n",
            "\n",
            "WARNING:tensorflow:From /usr/local/lib/python3.6/dist-packages/keras/backend/tensorflow_backend.py:1020: The name tf.assign is deprecated. Please use tf.compat.v1.assign instead.\n",
            "\n",
            "Epoch 1/100\n",
            "30/30 [==============================] - 49s 2s/step - loss: 0.6144 - acc: 0.8210 - val_loss: 4.5512 - val_acc: 0.7146\n",
            "Epoch 2/100\n",
            "30/30 [==============================] - 21s 694ms/step - loss: 0.5760 - acc: 0.8332 - val_loss: 4.5642 - val_acc: 0.7153\n",
            "Epoch 3/100\n",
            "30/30 [==============================] - 22s 749ms/step - loss: 0.6069 - acc: 0.8217 - val_loss: 4.4974 - val_acc: 0.7194\n",
            "Epoch 4/100\n",
            "30/30 [==============================] - 22s 749ms/step - loss: 0.5383 - acc: 0.8250 - val_loss: 4.4974 - val_acc: 0.7194\n",
            "Epoch 5/100\n",
            "30/30 [==============================] - 22s 749ms/step - loss: 0.4343 - acc: 0.8332 - val_loss: 4.4865 - val_acc: 0.7194\n",
            "Epoch 6/100\n",
            "30/30 [==============================] - 22s 747ms/step - loss: 0.3964 - acc: 0.8389 - val_loss: 4.4652 - val_acc: 0.7201\n",
            "Epoch 7/100\n",
            "30/30 [==============================] - 22s 748ms/step - loss: 0.4143 - acc: 0.8375 - val_loss: 0.5487 - val_acc: 0.8326\n",
            "Epoch 8/100\n",
            "30/30 [==============================] - 22s 747ms/step - loss: 0.4124 - acc: 0.8252 - val_loss: 0.4718 - val_acc: 0.8153\n",
            "Epoch 9/100\n",
            "30/30 [==============================] - 22s 746ms/step - loss: 0.3791 - acc: 0.8351 - val_loss: 0.4185 - val_acc: 0.8181\n",
            "Epoch 10/100\n",
            "30/30 [==============================] - 22s 746ms/step - loss: 0.3627 - acc: 0.8425 - val_loss: 0.4073 - val_acc: 0.8319\n",
            "Epoch 11/100\n",
            "30/30 [==============================] - 22s 745ms/step - loss: 0.3385 - acc: 0.8559 - val_loss: 0.4311 - val_acc: 0.8090\n",
            "Epoch 12/100\n",
            "30/30 [==============================] - 23s 758ms/step - loss: 0.3254 - acc: 0.8576 - val_loss: 0.4513 - val_acc: 0.8181\n",
            "Epoch 13/100\n",
            "30/30 [==============================] - 23s 753ms/step - loss: 0.3182 - acc: 0.8628 - val_loss: 0.7386 - val_acc: 0.7736\n",
            "Epoch 14/100\n",
            "30/30 [==============================] - 23s 759ms/step - loss: 0.2954 - acc: 0.8703 - val_loss: 0.5499 - val_acc: 0.8139\n",
            "Epoch 15/100\n",
            "30/30 [==============================] - 23s 760ms/step - loss: 0.2946 - acc: 0.8700 - val_loss: 0.3588 - val_acc: 0.8431\n",
            "Epoch 16/100\n",
            "30/30 [==============================] - 23s 759ms/step - loss: 0.2881 - acc: 0.8729 - val_loss: 0.7113 - val_acc: 0.7660\n",
            "Epoch 17/100\n",
            "30/30 [==============================] - 23s 751ms/step - loss: 0.2855 - acc: 0.8724 - val_loss: 0.3952 - val_acc: 0.8479\n",
            "Epoch 18/100\n",
            "30/30 [==============================] - 23s 751ms/step - loss: 0.2667 - acc: 0.8868 - val_loss: 0.4907 - val_acc: 0.8396\n",
            "Epoch 19/100\n",
            "30/30 [==============================] - 22s 746ms/step - loss: 0.2451 - acc: 0.9003 - val_loss: 0.4209 - val_acc: 0.8431\n",
            "Epoch 20/100\n",
            "30/30 [==============================] - 23s 752ms/step - loss: 0.2485 - acc: 0.8983 - val_loss: 0.4170 - val_acc: 0.8472\n",
            "Epoch 21/100\n",
            "30/30 [==============================] - 23s 752ms/step - loss: 0.2254 - acc: 0.9050 - val_loss: 0.5199 - val_acc: 0.8243\n",
            "Epoch 22/100\n",
            "30/30 [==============================] - 22s 749ms/step - loss: 0.2336 - acc: 0.9040 - val_loss: 0.5780 - val_acc: 0.7972\n",
            "Epoch 23/100\n",
            "30/30 [==============================] - 22s 749ms/step - loss: 0.2118 - acc: 0.9080 - val_loss: 0.5587 - val_acc: 0.8097\n",
            "Epoch 24/100\n",
            "30/30 [==============================] - 22s 748ms/step - loss: 0.2250 - acc: 0.9069 - val_loss: 0.3802 - val_acc: 0.8563\n",
            "Epoch 25/100\n",
            "30/30 [==============================] - 22s 749ms/step - loss: 0.2051 - acc: 0.9148 - val_loss: 0.3863 - val_acc: 0.8569\n",
            "Epoch 26/100\n",
            "30/30 [==============================] - 22s 743ms/step - loss: 0.2032 - acc: 0.9186 - val_loss: 0.3426 - val_acc: 0.8715\n",
            "Epoch 27/100\n",
            "30/30 [==============================] - 22s 741ms/step - loss: 0.1846 - acc: 0.9269 - val_loss: 0.3971 - val_acc: 0.8507\n",
            "Epoch 28/100\n",
            "30/30 [==============================] - 22s 741ms/step - loss: 0.2038 - acc: 0.9165 - val_loss: 0.6129 - val_acc: 0.8021\n",
            "Epoch 29/100\n",
            "30/30 [==============================] - 22s 738ms/step - loss: 0.1859 - acc: 0.9212 - val_loss: 0.6926 - val_acc: 0.8285\n",
            "Epoch 30/100\n",
            "30/30 [==============================] - 22s 735ms/step - loss: 0.1515 - acc: 0.9436 - val_loss: 0.6320 - val_acc: 0.8458\n",
            "Epoch 31/100\n",
            "30/30 [==============================] - 22s 734ms/step - loss: 0.1650 - acc: 0.9326 - val_loss: 0.5286 - val_acc: 0.8535\n",
            "Epoch 32/100\n",
            "30/30 [==============================] - 22s 736ms/step - loss: 0.1690 - acc: 0.9344 - val_loss: 0.4372 - val_acc: 0.8840\n",
            "Epoch 33/100\n",
            "30/30 [==============================] - 22s 735ms/step - loss: 0.1631 - acc: 0.9401 - val_loss: 0.4642 - val_acc: 0.8611\n",
            "Epoch 34/100\n",
            "30/30 [==============================] - 22s 736ms/step - loss: 0.1781 - acc: 0.9304 - val_loss: 0.6490 - val_acc: 0.8319\n",
            "Epoch 35/100\n",
            "30/30 [==============================] - 22s 734ms/step - loss: 0.1529 - acc: 0.9420 - val_loss: 0.7290 - val_acc: 0.8222\n",
            "Epoch 36/100\n",
            "30/30 [==============================] - 22s 735ms/step - loss: 0.1477 - acc: 0.9446 - val_loss: 0.4951 - val_acc: 0.8514\n",
            "Epoch 37/100\n",
            "30/30 [==============================] - 22s 738ms/step - loss: 0.1516 - acc: 0.9434 - val_loss: 0.3101 - val_acc: 0.8903\n",
            "Epoch 38/100\n",
            "30/30 [==============================] - 22s 733ms/step - loss: 0.1217 - acc: 0.9547 - val_loss: 0.7398 - val_acc: 0.8090\n",
            "Epoch 39/100\n",
            "30/30 [==============================] - 22s 735ms/step - loss: 0.1518 - acc: 0.9436 - val_loss: 0.5022 - val_acc: 0.8451\n",
            "Epoch 40/100\n",
            "30/30 [==============================] - 22s 729ms/step - loss: 0.1515 - acc: 0.9377 - val_loss: 0.6594 - val_acc: 0.8201\n",
            "Epoch 41/100\n",
            "30/30 [==============================] - 22s 733ms/step - loss: 0.1360 - acc: 0.9483 - val_loss: 0.5213 - val_acc: 0.8278\n",
            "Epoch 42/100\n",
            "30/30 [==============================] - 22s 738ms/step - loss: 0.1579 - acc: 0.9370 - val_loss: 0.6574 - val_acc: 0.8653\n",
            "Epoch 43/100\n",
            "30/30 [==============================] - 22s 738ms/step - loss: 0.1236 - acc: 0.9491 - val_loss: 0.5173 - val_acc: 0.8792\n",
            "Epoch 44/100\n",
            "30/30 [==============================] - 22s 737ms/step - loss: 0.1307 - acc: 0.9486 - val_loss: 0.7228 - val_acc: 0.8403\n",
            "Epoch 45/100\n",
            "30/30 [==============================] - 22s 739ms/step - loss: 0.1181 - acc: 0.9545 - val_loss: 0.3848 - val_acc: 0.8639\n",
            "Epoch 46/100\n",
            "30/30 [==============================] - 22s 728ms/step - loss: 0.1315 - acc: 0.9531 - val_loss: 0.5807 - val_acc: 0.8319\n",
            "Epoch 47/100\n",
            "30/30 [==============================] - 22s 742ms/step - loss: 0.1075 - acc: 0.9604 - val_loss: 0.2963 - val_acc: 0.9000\n",
            "Epoch 48/100\n",
            "30/30 [==============================] - 22s 731ms/step - loss: 0.1081 - acc: 0.9595 - val_loss: 0.4768 - val_acc: 0.8660\n",
            "Epoch 49/100\n",
            "30/30 [==============================] - 22s 735ms/step - loss: 0.1150 - acc: 0.9542 - val_loss: 0.1658 - val_acc: 0.9458\n",
            "Epoch 50/100\n",
            "30/30 [==============================] - 22s 735ms/step - loss: 0.0987 - acc: 0.9637 - val_loss: 0.4041 - val_acc: 0.8771\n",
            "Epoch 51/100\n",
            "30/30 [==============================] - 22s 735ms/step - loss: 0.0890 - acc: 0.9630 - val_loss: 0.5310 - val_acc: 0.8556\n",
            "Epoch 52/100\n",
            "30/30 [==============================] - 22s 733ms/step - loss: 0.1048 - acc: 0.9592 - val_loss: 0.1557 - val_acc: 0.9569\n",
            "Epoch 53/100\n",
            "30/30 [==============================] - 22s 736ms/step - loss: 0.1060 - acc: 0.9602 - val_loss: 0.5282 - val_acc: 0.8236\n",
            "Epoch 54/100\n",
            "30/30 [==============================] - 22s 729ms/step - loss: 0.1023 - acc: 0.9609 - val_loss: 0.2324 - val_acc: 0.9132\n",
            "Epoch 55/100\n",
            "30/30 [==============================] - 22s 732ms/step - loss: 0.0877 - acc: 0.9672 - val_loss: 0.6433 - val_acc: 0.8444\n",
            "Epoch 56/100\n",
            "30/30 [==============================] - 22s 734ms/step - loss: 0.1089 - acc: 0.9575 - val_loss: 0.4000 - val_acc: 0.8799\n",
            "Epoch 57/100\n",
            "30/30 [==============================] - 22s 728ms/step - loss: 0.0954 - acc: 0.9630 - val_loss: 0.4544 - val_acc: 0.8625\n",
            "Epoch 58/100\n",
            "30/30 [==============================] - 22s 730ms/step - loss: 0.1064 - acc: 0.9595 - val_loss: 0.3100 - val_acc: 0.9035\n",
            "Epoch 59/100\n",
            "30/30 [==============================] - 22s 735ms/step - loss: 0.0946 - acc: 0.9634 - val_loss: 0.4780 - val_acc: 0.8729\n",
            "Epoch 60/100\n",
            "30/30 [==============================] - 22s 732ms/step - loss: 0.1209 - acc: 0.9528 - val_loss: 0.6842 - val_acc: 0.8576\n",
            "Epoch 61/100\n",
            "30/30 [==============================] - 22s 733ms/step - loss: 0.0880 - acc: 0.9679 - val_loss: 0.3230 - val_acc: 0.9042\n",
            "Epoch 62/100\n",
            "30/30 [==============================] - 22s 732ms/step - loss: 0.0712 - acc: 0.9722 - val_loss: 0.5693 - val_acc: 0.8618\n",
            "Epoch 63/100\n",
            "30/30 [==============================] - 22s 726ms/step - loss: 0.1061 - acc: 0.9583 - val_loss: 0.9010 - val_acc: 0.7944\n",
            "Epoch 64/100\n",
            "30/30 [==============================] - 22s 732ms/step - loss: 0.0700 - acc: 0.9733 - val_loss: 0.2858 - val_acc: 0.9097\n",
            "Epoch 65/100\n",
            "30/30 [==============================] - 22s 732ms/step - loss: 0.0862 - acc: 0.9689 - val_loss: 0.2127 - val_acc: 0.9347\n",
            "Epoch 66/100\n",
            "30/30 [==============================] - 22s 730ms/step - loss: 0.0864 - acc: 0.9712 - val_loss: 0.3490 - val_acc: 0.8944\n",
            "Epoch 67/100\n",
            "30/30 [==============================] - 22s 739ms/step - loss: 0.0888 - acc: 0.9672 - val_loss: 0.3319 - val_acc: 0.9076\n",
            "Epoch 68/100\n",
            "30/30 [==============================] - 22s 741ms/step - loss: 0.0723 - acc: 0.9719 - val_loss: 0.3509 - val_acc: 0.8979\n",
            "Epoch 69/100\n",
            "30/30 [==============================] - 22s 736ms/step - loss: 0.0953 - acc: 0.9653 - val_loss: 0.9217 - val_acc: 0.8257\n",
            "Epoch 70/100\n",
            "30/30 [==============================] - 22s 739ms/step - loss: 0.1055 - acc: 0.9611 - val_loss: 0.5979 - val_acc: 0.8722\n",
            "Epoch 71/100\n",
            "30/30 [==============================] - 22s 736ms/step - loss: 0.0783 - acc: 0.9717 - val_loss: 0.5905 - val_acc: 0.8681\n",
            "Epoch 72/100\n",
            "30/30 [==============================] - 22s 741ms/step - loss: 0.0624 - acc: 0.9748 - val_loss: 0.3952 - val_acc: 0.8903\n",
            "Epoch 73/100\n",
            "30/30 [==============================] - 22s 739ms/step - loss: 0.0642 - acc: 0.9745 - val_loss: 0.3443 - val_acc: 0.9104\n",
            "Epoch 74/100\n",
            "30/30 [==============================] - 22s 733ms/step - loss: 0.0510 - acc: 0.9807 - val_loss: 0.1961 - val_acc: 0.9410\n",
            "Epoch 75/100\n",
            "30/30 [==============================] - 22s 737ms/step - loss: 0.0701 - acc: 0.9740 - val_loss: 0.1330 - val_acc: 0.9535\n",
            "Epoch 76/100\n",
            "30/30 [==============================] - 22s 736ms/step - loss: 0.0702 - acc: 0.9708 - val_loss: 0.5209 - val_acc: 0.8764\n",
            "Epoch 77/100\n",
            "30/30 [==============================] - 22s 731ms/step - loss: 0.0702 - acc: 0.9733 - val_loss: 0.2784 - val_acc: 0.9229\n",
            "Epoch 78/100\n",
            "30/30 [==============================] - 22s 730ms/step - loss: 0.0943 - acc: 0.9648 - val_loss: 0.4003 - val_acc: 0.8847\n",
            "Epoch 79/100\n",
            "30/30 [==============================] - 22s 738ms/step - loss: 0.0491 - acc: 0.9804 - val_loss: 0.1516 - val_acc: 0.9583\n",
            "Epoch 80/100\n",
            "30/30 [==============================] - 22s 741ms/step - loss: 0.0587 - acc: 0.9780 - val_loss: 0.1735 - val_acc: 0.9472\n",
            "Epoch 81/100\n",
            "30/30 [==============================] - 22s 736ms/step - loss: 0.0504 - acc: 0.9821 - val_loss: 0.1537 - val_acc: 0.9507\n",
            "Epoch 82/100\n",
            "30/30 [==============================] - 22s 739ms/step - loss: 0.0539 - acc: 0.9825 - val_loss: 0.1969 - val_acc: 0.9313\n",
            "Epoch 83/100\n",
            "30/30 [==============================] - 22s 737ms/step - loss: 0.0699 - acc: 0.9727 - val_loss: 0.6028 - val_acc: 0.8833\n",
            "Epoch 84/100\n",
            "30/30 [==============================] - 22s 734ms/step - loss: 0.0807 - acc: 0.9688 - val_loss: 0.1699 - val_acc: 0.9528\n",
            "Epoch 85/100\n",
            "30/30 [==============================] - 22s 739ms/step - loss: 0.0673 - acc: 0.9752 - val_loss: 0.2976 - val_acc: 0.9174\n",
            "Epoch 86/100\n",
            "30/30 [==============================] - 22s 737ms/step - loss: 0.0562 - acc: 0.9788 - val_loss: 0.4091 - val_acc: 0.9132\n",
            "Epoch 87/100\n",
            "30/30 [==============================] - 22s 744ms/step - loss: 0.0886 - acc: 0.9698 - val_loss: 0.8255 - val_acc: 0.8444\n",
            "Epoch 88/100\n",
            "30/30 [==============================] - 22s 742ms/step - loss: 0.0766 - acc: 0.9727 - val_loss: 0.4350 - val_acc: 0.8646\n",
            "Epoch 89/100\n",
            "30/30 [==============================] - 22s 740ms/step - loss: 0.0572 - acc: 0.9795 - val_loss: 0.2578 - val_acc: 0.9201\n",
            "Epoch 90/100\n",
            "30/30 [==============================] - 22s 741ms/step - loss: 0.0685 - acc: 0.9760 - val_loss: 0.3394 - val_acc: 0.8910\n",
            "Epoch 91/100\n",
            "30/30 [==============================] - 22s 742ms/step - loss: 0.0642 - acc: 0.9767 - val_loss: 0.4785 - val_acc: 0.8819\n",
            "Epoch 92/100\n",
            "30/30 [==============================] - 22s 740ms/step - loss: 0.0494 - acc: 0.9804 - val_loss: 0.1836 - val_acc: 0.9465\n",
            "Epoch 93/100\n",
            "30/30 [==============================] - 22s 742ms/step - loss: 0.0476 - acc: 0.9823 - val_loss: 0.1893 - val_acc: 0.9389\n",
            "Epoch 94/100\n",
            "30/30 [==============================] - 22s 740ms/step - loss: 0.0451 - acc: 0.9826 - val_loss: 0.6280 - val_acc: 0.8694\n",
            "Epoch 95/100\n",
            "30/30 [==============================] - 22s 744ms/step - loss: 0.0813 - acc: 0.9700 - val_loss: 0.3850 - val_acc: 0.8951\n",
            "Epoch 96/100\n",
            "30/30 [==============================] - 22s 744ms/step - loss: 0.0512 - acc: 0.9821 - val_loss: 0.4414 - val_acc: 0.8882\n",
            "Epoch 97/100\n",
            "30/30 [==============================] - 22s 741ms/step - loss: 0.0590 - acc: 0.9795 - val_loss: 0.4159 - val_acc: 0.8882\n",
            "Epoch 98/100\n",
            "30/30 [==============================] - 22s 738ms/step - loss: 0.0548 - acc: 0.9806 - val_loss: 0.3174 - val_acc: 0.9069\n",
            "Epoch 99/100\n",
            "30/30 [==============================] - 22s 745ms/step - loss: 0.0461 - acc: 0.9840 - val_loss: 0.1415 - val_acc: 0.9500\n",
            "Epoch 100/100\n",
            "30/30 [==============================] - 22s 743ms/step - loss: 0.0457 - acc: 0.9823 - val_loss: 0.1831 - val_acc: 0.9382\n"
          ],
          "name": "stdout"
        }
      ]
    },
    {
      "cell_type": "code",
      "metadata": {
        "id": "eGFSYnCxLwfF",
        "colab_type": "code",
        "outputId": "46b5f891-cfa6-4ac0-ee06-1cc4b778a5d8",
        "colab": {
          "base_uri": "https://localhost:8080/",
          "height": 544
        }
      },
      "source": [
        "acc = history.history['acc']\n",
        "val_acc = history.history['val_acc']\n",
        "loss = history.history['loss']\n",
        "val_loss = history.history['val_loss']\n",
        "epochs = range(1, len(acc) + 1)\n",
        "#Train and validation accuracy\n",
        "plt.plot(epochs, acc, 'b', label='Training accurarcy')\n",
        "plt.plot(epochs, val_acc, 'r', label='Validation accurarcy')\n",
        "plt.title('Training and Validation accurarcy')\n",
        "plt.legend()\n",
        "\n",
        "plt.figure()\n",
        "#Train and validation loss\n",
        "plt.plot(epochs, loss, 'b', label='Training loss')\n",
        "plt.plot(epochs, val_loss, 'r', label='Validation loss')\n",
        "plt.title('Training and Validation loss')\n",
        "plt.legend()\n",
        "plt.show()"
      ],
      "execution_count": 0,
      "outputs": [
        {
          "output_type": "display_data",
          "data": {
            "image/png": "[encoded data removed]",
            "text/plain": [
              "<Figure size 432x288 with 1 Axes>"
            ]
          },
          "metadata": {
            "tags": []
          }
        },
        {
          "output_type": "display_data",
          "data": {
            "image/png": "[encoded data removed]",
            "text/plain": [
              "<Figure size 432x288 with 1 Axes>"
            ]
          },
          "metadata": {
            "tags": []
          }
        }
      ]
    },
    {
      "cell_type": "code",
      "metadata": {
        "id": "JInFAxGUL0yZ",
        "colab_type": "code",
        "outputId": "ce34e2a2-0e4c-41a9-8112-b09ab3783e21",
        "colab": {
          "base_uri": "https://localhost:8080/",
          "height": 52
        }
      },
      "source": [
        "scores = model.evaluate(x_test, y_test)\n",
        "print(f\"Test Accuracy: {scores[1]*100}\")"
      ],
      "execution_count": 0,
      "outputs": [
        {
          "output_type": "stream",
          "text": [
            "240/240 [==============================] - 1s 4ms/step\n",
            "Test Accuracy: 93.8194461663564\n"
          ],
          "name": "stdout"
        }
      ]
    }
  ]
}