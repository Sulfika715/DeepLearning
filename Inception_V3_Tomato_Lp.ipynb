{
  "nbformat": 4,
  "nbformat_minor": 0,
  "metadata": {
    "colab": {
      "name": "Inception_V3_Tomato_Lp.ipynb",
      "provenance": [],
      "authorship_tag": "ABX9TyNyk7MK+0gXPIz3mHnu/T0n",
      "include_colab_link": true
    },
    "kernelspec": {
      "name": "python3",
      "display_name": "Python 3"
    },
    "accelerator": "GPU"
  },
  "cells": [
    {
      "cell_type": "markdown",
      "metadata": {
        "id": "view-in-github",
        "colab_type": "text"
      },
      "source": [
        "<a href=\"https://colab.research.google.com/github/Sulfika715/DeepLearning/blob/master/Inception_V3_Tomato_Lp.ipynb\" target=\"_parent\"><img src=\"https://colab.research.google.com/assets/colab-badge.svg\" alt=\"Open In Colab\"/></a>"
      ]
    },
    {
      "cell_type": "code",
      "metadata": {
        "id": "HPtBFEwR0t8f",
        "colab_type": "code",
        "colab": {}
      },
      "source": [
        "%tensorflow_version 1.x\n",
        "import numpy as np\n",
        "import pickle\n",
        "import cv2\n",
        "from os import listdir\n",
        "from sklearn.preprocessing import LabelBinarizer\n",
        "import warnings\n",
        "from keras.models import Sequential\n",
        "from keras.applications.inception_v3 import InceptionV3\n",
        "from keras.layers.normalization import BatchNormalization\n",
        "from keras.layers.convolutional import Conv2D\n",
        "from keras.layers.convolutional import MaxPooling2D,Convolution2D,AveragePooling2D\n",
        "from keras.layers import GlobalAveragePooling2D\n",
        "from keras.layers import Input\n",
        "from keras.layers.core import Activation, Flatten, Dropout, Dense\n",
        "from keras.layers.merge import concatenate\n",
        "from keras.models import Model\n",
        "from keras import regularizers\n",
        "from keras import initializers\n",
        "from keras import backend as K\n",
        "from keras.utils.layer_utils import convert_all_kernels_in_model\n",
        "from keras.utils.data_utils import get_file\n",
        "from keras.preprocessing.image import ImageDataGenerator\n",
        "from keras.optimizers import Adam\n",
        "from keras.preprocessing import image\n",
        "from keras.preprocessing.image import img_to_array\n",
        "from sklearn.preprocessing import MultiLabelBinarizer\n",
        "from sklearn.model_selection import train_test_split\n",
        "import matplotlib.pyplot as plt\n",
        "from collections import namedtuple\n",
        "import warnings\n",
        "import torch\n",
        "import torch.nn as nn\n",
        "import torch.nn.functional as F\n",
        "from torch.jit.annotations import Optional\n",
        "from torch import Tensor\n"
      ],
      "execution_count": 0,
      "outputs": []
    },
    {
      "cell_type": "code",
      "metadata": {
        "id": "o0SPGBad49-G",
        "colab_type": "code",
        "colab": {
          "base_uri": "https://localhost:8080/",
          "height": 126
        },
        "outputId": "57a91e20-6f0b-4c83-b1d1-102cc7f58f69"
      },
      "source": [
        "from google.colab import drive\n",
        "drive.mount('/content/drive')"
      ],
      "execution_count": 3,
      "outputs": [
        {
          "output_type": "stream",
          "text": [
            "Go to this URL in a browser: https://accounts.google.com/o/oauth2/auth?client_id=947318989803-6bn6qk8qdgf4n4g3pfee6491hc0brc4i.apps.googleusercontent.com&redirect_uri=urn%3aietf%3awg%3aoauth%3a2.0%3aoob&response_type=code&scope=email%20https%3a%2f%2fwww.googleapis.com%2fauth%2fdocs.test%20https%3a%2f%2fwww.googleapis.com%2fauth%2fdrive%20https%3a%2f%2fwww.googleapis.com%2fauth%2fdrive.photos.readonly%20https%3a%2f%2fwww.googleapis.com%2fauth%2fpeopleapi.readonly\n",
            "\n",
            "Enter your authorization code:\n",
            "··········\n",
            "Mounted at /content/drive\n"
          ],
          "name": "stdout"
        }
      ]
    },
    {
      "cell_type": "code",
      "metadata": {
        "id": "sEIq6FFL5O4N",
        "colab_type": "code",
        "colab": {
          "base_uri": "https://localhost:8080/",
          "height": 34
        },
        "outputId": "7b8dc8a2-2d99-41c0-8343-de47091d8f5d"
      },
      "source": [
        "%cd drive/'My Drive'"
      ],
      "execution_count": 4,
      "outputs": [
        {
          "output_type": "stream",
          "text": [
            "/content/drive/My Drive\n"
          ],
          "name": "stdout"
        }
      ]
    },
    {
      "cell_type": "code",
      "metadata": {
        "id": "16A1WVir5S1A",
        "colab_type": "code",
        "colab": {}
      },
      "source": [
        "EPOCHS = 50\n",
        "INIT_LR = 1e-3\n",
        "BS = 32\n",
        "default_image_size = tuple((299, 299))\n",
        "image_size = 0\n",
        "directory_root = './dataset/'\n",
        "width=299\n",
        "height=299\n",
        "depth=3"
      ],
      "execution_count": 0,
      "outputs": []
    },
    {
      "cell_type": "code",
      "metadata": {
        "id": "3fvS50BL6WFj",
        "colab_type": "code",
        "colab": {}
      },
      "source": [
        "def convert_image_to_array(image_dir):\n",
        "    try:\n",
        "        image = cv2.imread(image_dir)\n",
        "        if image is not None :\n",
        "            image = cv2.resize(image, default_image_size,interpolation=cv2.INTER_AREA)   \n",
        "            return img_to_array(image)\n",
        "        else :\n",
        "            return np.array([])\n",
        "    except Exception as e:\n",
        "        print(f\"Error : {e}\")\n",
        "        return None"
      ],
      "execution_count": 0,
      "outputs": []
    },
    {
      "cell_type": "code",
      "metadata": {
        "id": "8NCJBB_56dUf",
        "colab_type": "code",
        "colab": {
          "base_uri": "https://localhost:8080/",
          "height": 196
        },
        "outputId": "9fd5f8b9-39b8-47bb-9468-2e38695f8a39"
      },
      "source": [
        "image_list, label_list = [], []\n",
        "try:\n",
        "    print(\"[INFO] Loading images ...\")\n",
        "    root_dir = listdir(directory_root)\n",
        "    for directory in root_dir :\n",
        "        # remove .DS_Store from list\n",
        "        if directory == \".DS_Store\" :\n",
        "            root_dir.remove(directory)\n",
        "\n",
        "    for plant_folder in root_dir :\n",
        "        plant_disease_folder_list = listdir(f\"{directory_root}/{plant_folder}\")\n",
        "        \n",
        "        for disease_folder in plant_disease_folder_list :\n",
        "            # remove .DS_Store from list\n",
        "            if disease_folder == \".DS_Store\" :\n",
        "                plant_disease_folder_list.remove(disease_folder)\n",
        "\n",
        "        for plant_disease_folder in plant_disease_folder_list:\n",
        "            print(f\"[INFO] Processing {plant_disease_folder} ...\")\n",
        "            plant_disease_image_list = listdir(f\"{directory_root}/{plant_folder}/{plant_disease_folder}/\")\n",
        "                \n",
        "            for single_plant_disease_image in plant_disease_image_list :\n",
        "                if single_plant_disease_image == \".DS_Store\" :\n",
        "                    plant_disease_image_list.remove(single_plant_disease_image)\n",
        "\n",
        "            for image in plant_disease_image_list[:200]:\n",
        "                image_directory = f\"{directory_root}/{plant_folder}/{plant_disease_folder}/{image}\"\n",
        "                if image_directory.endswith(\".jpg\") == True or image_directory.endswith(\".JPG\") == True:\n",
        "                    image_list.append(convert_image_to_array(image_directory))\n",
        "                    label_list.append(plant_disease_folder)\n",
        "    %time print(\"[INFO] Image loading completed\")  \n",
        "except Exception as e:\n",
        "    print(f\"Error : {e}\")"
      ],
      "execution_count": 7,
      "outputs": [
        {
          "output_type": "stream",
          "text": [
            "[INFO] Loading images ...\n",
            "[INFO] Processing Tomato___Bacterial_spot ...\n",
            "[INFO] Processing Tomato___Early_blight ...\n",
            "[INFO] Processing Tomato___Late_blight ...\n",
            "[INFO] Processing Tomato___Leaf_Mold ...\n",
            "[INFO] Processing Tomato___Septoria_leaf_spot ...\n",
            "[INFO] Processing Tomato___Tomato_Yellow_Leaf_Curl_Virus ...\n",
            "[INFO] Image loading completed\n",
            "CPU times: user 83 µs, sys: 23 µs, total: 106 µs\n",
            "Wall time: 109 µs\n"
          ],
          "name": "stdout"
        }
      ]
    },
    {
      "cell_type": "code",
      "metadata": {
        "id": "j6DdHZQZejiE",
        "colab_type": "code",
        "colab": {
          "base_uri": "https://localhost:8080/",
          "height": 34
        },
        "outputId": "c3c56d5c-42d2-4034-a2de-8384dfe99379"
      },
      "source": [
        "image_size = len(image_list)\n",
        "image_size"
      ],
      "execution_count": 8,
      "outputs": [
        {
          "output_type": "execute_result",
          "data": {
            "text/plain": [
              "1200"
            ]
          },
          "metadata": {
            "tags": []
          },
          "execution_count": 8
        }
      ]
    },
    {
      "cell_type": "code",
      "metadata": {
        "id": "YtLzywdMe3fu",
        "colab_type": "code",
        "colab": {}
      },
      "source": [
        "image_size = len(image_list)\n",
        "label_binarizer = LabelBinarizer()\n",
        "image_labels = label_binarizer.fit_transform(label_list)\n",
        "pickle.dump(label_binarizer,open('label_transform.pkl', 'wb'))\n",
        "n_classes = len(label_binarizer.classes_)"
      ],
      "execution_count": 0,
      "outputs": []
    },
    {
      "cell_type": "code",
      "metadata": {
        "id": "NgImhiWWe8na",
        "colab_type": "code",
        "colab": {
          "base_uri": "https://localhost:8080/",
          "height": 70
        },
        "outputId": "8fa64727-f6c2-441f-dbd6-9de1aa5a5054"
      },
      "source": [
        "print(label_binarizer.classes_)"
      ],
      "execution_count": 10,
      "outputs": [
        {
          "output_type": "stream",
          "text": [
            "['Tomato___Bacterial_spot' 'Tomato___Early_blight' 'Tomato___Late_blight'\n",
            " 'Tomato___Leaf_Mold' 'Tomato___Septoria_leaf_spot'\n",
            " 'Tomato___Tomato_Yellow_Leaf_Curl_Virus']\n"
          ],
          "name": "stdout"
        }
      ]
    },
    {
      "cell_type": "code",
      "metadata": {
        "id": "SajhrWndfJEH",
        "colab_type": "code",
        "colab": {}
      },
      "source": [
        "np_image_list = np.array(image_list, dtype=np.float16) / 225.0"
      ],
      "execution_count": 0,
      "outputs": []
    },
    {
      "cell_type": "code",
      "metadata": {
        "id": "Gua6RSTmfRAF",
        "colab_type": "code",
        "colab": {}
      },
      "source": [
        "x_train, x_test, y_train, y_test = train_test_split(np_image_list, image_labels, test_size=0.2, random_state = 42)"
      ],
      "execution_count": 0,
      "outputs": []
    },
    {
      "cell_type": "code",
      "metadata": {
        "id": "x2jqtuxi8dU8",
        "colab_type": "code",
        "colab": {}
      },
      "source": [
        "aug = ImageDataGenerator(\n",
        "    rotation_range=25, width_shift_range=0.1,\n",
        "    height_shift_range=0.1, shear_range=0.2, \n",
        "    zoom_range=0.2,horizontal_flip=True, \n",
        "    fill_mode=\"nearest\")"
      ],
      "execution_count": 0,
      "outputs": []
    },
    {
      "cell_type": "code",
      "metadata": {
        "id": "DhOq8Gf_PirO",
        "colab_type": "code",
        "colab": {}
      },
      "source": [
        "__all__ = ['Inception3', 'inception_v3', 'InceptionOutputs', '_InceptionOutputs']\n",
        "\n",
        "\n",
        "model_urls = {\n",
        "    # Inception v3 ported from TensorFlow\n",
        "    'inception_v3_google': 'https://download.pytorch.org/models/inception_v3_google-1a9a5a14.pth',\n",
        "}\n",
        "\n",
        "InceptionOutputs = namedtuple('InceptionOutputs', ['logits', 'aux_logits'])\n",
        "InceptionOutputs.__annotations__ = {'logits': torch.Tensor, 'aux_logits': Optional[torch.Tensor]}\n",
        "\n",
        "# Script annotations failed with _GoogleNetOutputs = namedtuple ...\n",
        "# _InceptionOutputs set here for backwards compat\n",
        "_InceptionOutputs = InceptionOutputs\n",
        "\n",
        "\n",
        "def inception_v3(pretrained=False, progress=True, **kwargs):\n",
        "    r\"\"\"Inception v3 model architecture from\n",
        "    `\"Rethinking the Inception Architecture for Computer Vision\" <http://arxiv.org/abs/1512.00567>`_.\n",
        "    .. note::\n",
        "        **Important**: In contrast to the other models the inception_v3 expects tensors with a size of\n",
        "        N x 3 x 299 x 299, so ensure your images are sized accordingly.\n",
        "    Args:\n",
        "        pretrained (bool): If True, returns a model pre-trained on ImageNet\n",
        "        progress (bool): If True, displays a progress bar of the download to stderr\n",
        "        aux_logits (bool): If True, add an auxiliary branch that can improve training.\n",
        "            Default: *True*\n",
        "        transform_input (bool): If True, preprocesses the input according to the method with which it\n",
        "            was trained on ImageNet. Default: *False*\n",
        "    \"\"\"\n",
        "    if pretrained:\n",
        "        if 'transform_input' not in kwargs:\n",
        "            kwargs['transform_input'] = True\n",
        "        if 'aux_logits' in kwargs:\n",
        "            original_aux_logits = kwargs['aux_logits']\n",
        "            kwargs['aux_logits'] = True\n",
        "        else:\n",
        "            original_aux_logits = True\n",
        "        model = Inception3(**kwargs)\n",
        "        state_dict = load_state_dict_from_url(model_urls['inception_v3_google'],\n",
        "                                              progress=progress)\n",
        "        model.load_state_dict(state_dict)\n",
        "        if not original_aux_logits:\n",
        "            model.aux_logits = False\n",
        "            del model.AuxLogits\n",
        "        return model\n",
        "\n",
        "def create_model(num_classes=1001, dropout_prob=0.2, weights=None, include_top=False):\n",
        "    return inception_v3(num_classes, dropout_prob, weights, include_top)\n",
        "\n",
        "\n",
        "class Inception3(nn.Module):\n",
        "\n",
        "    def __init__(self, num_classes=1000, aux_logits=True, transform_input=False,\n",
        "                 inception_blocks=None, init_weights=True):\n",
        "        super(Inception3, self).__init__()\n",
        "        if inception_blocks is None:\n",
        "            inception_blocks = [\n",
        "                BasicConv2d, InceptionA, InceptionB, InceptionC,\n",
        "                InceptionD, InceptionE, InceptionAux\n",
        "            ]\n",
        "        assert len(inception_blocks) == 7\n",
        "        conv_block = inception_blocks[0]\n",
        "        inception_a = inception_blocks[1]\n",
        "        inception_b = inception_blocks[2]\n",
        "        inception_c = inception_blocks[3]\n",
        "        inception_d = inception_blocks[4]\n",
        "        inception_e = inception_blocks[5]\n",
        "        inception_aux = inception_blocks[6]\n",
        "\n",
        "        self.aux_logits = aux_logits\n",
        "        self.transform_input = transform_input\n",
        "        self.Conv2d_1a_3x3 = conv_block(3, 32, kernel_size=3, stride=2)\n",
        "        self.Conv2d_2a_3x3 = conv_block(32, 32, kernel_size=3)\n",
        "        self.Conv2d_2b_3x3 = conv_block(32, 64, kernel_size=3, padding=1)\n",
        "        self.Conv2d_3b_1x1 = conv_block(64, 80, kernel_size=1)\n",
        "        self.Conv2d_4a_3x3 = conv_block(80, 192, kernel_size=3)\n",
        "        self.Mixed_5b = inception_a(192, pool_features=32)\n",
        "        self.Mixed_5c = inception_a(256, pool_features=64)\n",
        "        self.Mixed_5d = inception_a(288, pool_features=64)\n",
        "        self.Mixed_6a = inception_b(288)\n",
        "        self.Mixed_6b = inception_c(768, channels_7x7=128)\n",
        "        self.Mixed_6c = inception_c(768, channels_7x7=160)\n",
        "        self.Mixed_6d = inception_c(768, channels_7x7=160)\n",
        "        self.Mixed_6e = inception_c(768, channels_7x7=192)\n",
        "        if aux_logits:\n",
        "            self.AuxLogits = inception_aux(768, num_classes)\n",
        "        self.Mixed_7a = inception_d(768)\n",
        "        self.Mixed_7b = inception_e(1280)\n",
        "        self.Mixed_7c = inception_e(2048)\n",
        "        self.fc = nn.Linear(2048, num_classes)\n",
        "        if init_weights:\n",
        "            for m in self.modules():\n",
        "                if isinstance(m, nn.Conv2d) or isinstance(m, nn.Linear):\n",
        "                    import scipy.stats as stats\n",
        "                    stddev = m.stddev if hasattr(m, 'stddev') else 0.1\n",
        "                    X = stats.truncnorm(-2, 2, scale=stddev)\n",
        "                    values = torch.as_tensor(X.rvs(m.weight.numel()), dtype=m.weight.dtype)\n",
        "                    values = values.view(m.weight.size())\n",
        "                    with torch.no_grad():\n",
        "                        m.weight.copy_(values)\n",
        "                elif isinstance(m, nn.BatchNorm2d):\n",
        "                    nn.init.constant_(m.weight, 1)\n",
        "                    nn.init.constant_(m.bias, 0)\n",
        "\n",
        "    def _transform_input(self, x):\n",
        "        if self.transform_input:\n",
        "            x_ch0 = torch.unsqueeze(x[:, 0], 1) * (0.229 / 0.5) + (0.485 - 0.5) / 0.5\n",
        "            x_ch1 = torch.unsqueeze(x[:, 1], 1) * (0.224 / 0.5) + (0.456 - 0.5) / 0.5\n",
        "            x_ch2 = torch.unsqueeze(x[:, 2], 1) * (0.225 / 0.5) + (0.406 - 0.5) / 0.5\n",
        "            x = torch.cat((x_ch0, x_ch1, x_ch2), 1)\n",
        "        return x\n",
        "\n",
        "    def _forward(self, x):\n",
        "        # N x 3 x 299 x 299\n",
        "        x = self.Conv2d_1a_3x3(x)\n",
        "        # N x 32 x 149 x 149\n",
        "        x = self.Conv2d_2a_3x3(x)\n",
        "        # N x 32 x 147 x 147\n",
        "        x = self.Conv2d_2b_3x3(x)\n",
        "        # N x 64 x 147 x 147\n",
        "        x = F.max_pool2d(x, kernel_size=3, stride=2)\n",
        "        # N x 64 x 73 x 73\n",
        "        x = self.Conv2d_3b_1x1(x)\n",
        "        # N x 80 x 73 x 73\n",
        "        x = self.Conv2d_4a_3x3(x)\n",
        "        # N x 192 x 71 x 71\n",
        "        x = F.max_pool2d(x, kernel_size=3, stride=2)\n",
        "        # N x 192 x 35 x 35\n",
        "        x = self.Mixed_5b(x)\n",
        "        # N x 256 x 35 x 35\n",
        "        x = self.Mixed_5c(x)\n",
        "        # N x 288 x 35 x 35\n",
        "        x = self.Mixed_5d(x)\n",
        "        # N x 288 x 35 x 35\n",
        "        x = self.Mixed_6a(x)\n",
        "        # N x 768 x 17 x 17\n",
        "        x = self.Mixed_6b(x)\n",
        "        # N x 768 x 17 x 17\n",
        "        x = self.Mixed_6c(x)\n",
        "        # N x 768 x 17 x 17\n",
        "        x = self.Mixed_6d(x)\n",
        "        # N x 768 x 17 x 17\n",
        "        x = self.Mixed_6e(x)\n",
        "        # N x 768 x 17 x 17\n",
        "        aux_defined = self.training and self.aux_logits\n",
        "        if aux_defined:\n",
        "            aux = self.AuxLogits(x)\n",
        "        else:\n",
        "            aux = None\n",
        "        # N x 768 x 17 x 17\n",
        "        x = self.Mixed_7a(x)\n",
        "        # N x 1280 x 8 x 8\n",
        "        x = self.Mixed_7b(x)\n",
        "        # N x 2048 x 8 x 8\n",
        "        x = self.Mixed_7c(x)\n",
        "        # N x 2048 x 8 x 8\n",
        "        # Adaptive average pooling\n",
        "        x = F.adaptive_avg_pool2d(x, (1, 1))\n",
        "        # N x 2048 x 1 x 1\n",
        "        x = F.dropout(x, training=self.training)\n",
        "        # N x 2048 x 1 x 1\n",
        "        x = torch.flatten(x, 1)\n",
        "        # N x 2048\n",
        "        x = self.fc(x)\n",
        "        # N x 1000 (num_classes)\n",
        "        return x, aux\n",
        "\n",
        "    @torch.jit.unused\n",
        "    def eager_outputs(self, x, aux):\n",
        "        # type: (Tensor, Optional[Tensor]) -> InceptionOutputs\n",
        "        if self.training and self.aux_logits:\n",
        "            return InceptionOutputs(x, aux)\n",
        "        else:\n",
        "            return x\n",
        "\n",
        "    def forward(self, x):\n",
        "        x = self._transform_input(x)\n",
        "        x, aux = self._forward(x)\n",
        "        aux_defined = self.training and self.aux_logits\n",
        "        if torch.jit.is_scripting():\n",
        "            if not aux_defined:\n",
        "                warnings.warn(\"Scripted Inception3 always returns Inception3 Tuple\")\n",
        "            return InceptionOutputs(x, aux)\n",
        "        else:\n",
        "            return self.eager_outputs(x, aux)\n",
        "\n",
        "\n",
        "class InceptionA(nn.Module):\n",
        "\n",
        "    def __init__(self, in_channels, pool_features, conv_block=None):\n",
        "        super(InceptionA, self).__init__()\n",
        "        if conv_block is None:\n",
        "            conv_block = BasicConv2d\n",
        "        self.branch1x1 = conv_block(in_channels, 64, kernel_size=1)\n",
        "\n",
        "        self.branch5x5_1 = conv_block(in_channels, 48, kernel_size=1)\n",
        "        self.branch5x5_2 = conv_block(48, 64, kernel_size=5, padding=2)\n",
        "\n",
        "        self.branch3x3dbl_1 = conv_block(in_channels, 64, kernel_size=1)\n",
        "        self.branch3x3dbl_2 = conv_block(64, 96, kernel_size=3, padding=1)\n",
        "        self.branch3x3dbl_3 = conv_block(96, 96, kernel_size=3, padding=1)\n",
        "\n",
        "        self.branch_pool = conv_block(in_channels, pool_features, kernel_size=1)\n",
        "\n",
        "    def _forward(self, x):\n",
        "        branch1x1 = self.branch1x1(x)\n",
        "\n",
        "        branch5x5 = self.branch5x5_1(x)\n",
        "        branch5x5 = self.branch5x5_2(branch5x5)\n",
        "\n",
        "        branch3x3dbl = self.branch3x3dbl_1(x)\n",
        "        branch3x3dbl = self.branch3x3dbl_2(branch3x3dbl)\n",
        "        branch3x3dbl = self.branch3x3dbl_3(branch3x3dbl)\n",
        "\n",
        "        branch_pool = F.avg_pool2d(x, kernel_size=3, stride=1, padding=1)\n",
        "        branch_pool = self.branch_pool(branch_pool)\n",
        "\n",
        "        outputs = [branch1x1, branch5x5, branch3x3dbl, branch_pool]\n",
        "        return outputs\n",
        "\n",
        "    def forward(self, x):\n",
        "        outputs = self._forward(x)\n",
        "        return torch.cat(outputs, 1)\n",
        "\n",
        "\n",
        "class InceptionB(nn.Module):\n",
        "\n",
        "    def __init__(self, in_channels, conv_block=None):\n",
        "        super(InceptionB, self).__init__()\n",
        "        if conv_block is None:\n",
        "            conv_block = BasicConv2d\n",
        "        self.branch3x3 = conv_block(in_channels, 384, kernel_size=3, stride=2)\n",
        "\n",
        "        self.branch3x3dbl_1 = conv_block(in_channels, 64, kernel_size=1)\n",
        "        self.branch3x3dbl_2 = conv_block(64, 96, kernel_size=3, padding=1)\n",
        "        self.branch3x3dbl_3 = conv_block(96, 96, kernel_size=3, stride=2)\n",
        "\n",
        "    def _forward(self, x):\n",
        "        branch3x3 = self.branch3x3(x)\n",
        "\n",
        "        branch3x3dbl = self.branch3x3dbl_1(x)\n",
        "        branch3x3dbl = self.branch3x3dbl_2(branch3x3dbl)\n",
        "        branch3x3dbl = self.branch3x3dbl_3(branch3x3dbl)\n",
        "\n",
        "        branch_pool = F.max_pool2d(x, kernel_size=3, stride=2)\n",
        "\n",
        "        outputs = [branch3x3, branch3x3dbl, branch_pool]\n",
        "        return outputs\n",
        "\n",
        "    def forward(self, x):\n",
        "        outputs = self._forward(x)\n",
        "        return torch.cat(outputs, 1)\n",
        "\n",
        "\n",
        "class InceptionC(nn.Module):\n",
        "\n",
        "    def __init__(self, in_channels, channels_7x7, conv_block=None):\n",
        "        super(InceptionC, self).__init__()\n",
        "        if conv_block is None:\n",
        "            conv_block = BasicConv2d\n",
        "        self.branch1x1 = conv_block(in_channels, 192, kernel_size=1)\n",
        "\n",
        "        c7 = channels_7x7\n",
        "        self.branch7x7_1 = conv_block(in_channels, c7, kernel_size=1)\n",
        "        self.branch7x7_2 = conv_block(c7, c7, kernel_size=(1, 7), padding=(0, 3))\n",
        "        self.branch7x7_3 = conv_block(c7, 192, kernel_size=(7, 1), padding=(3, 0))\n",
        "\n",
        "        self.branch7x7dbl_1 = conv_block(in_channels, c7, kernel_size=1)\n",
        "        self.branch7x7dbl_2 = conv_block(c7, c7, kernel_size=(7, 1), padding=(3, 0))\n",
        "        self.branch7x7dbl_3 = conv_block(c7, c7, kernel_size=(1, 7), padding=(0, 3))\n",
        "        self.branch7x7dbl_4 = conv_block(c7, c7, kernel_size=(7, 1), padding=(3, 0))\n",
        "        self.branch7x7dbl_5 = conv_block(c7, 192, kernel_size=(1, 7), padding=(0, 3))\n",
        "\n",
        "        self.branch_pool = conv_block(in_channels, 192, kernel_size=1)\n",
        "\n",
        "    def _forward(self, x):\n",
        "        branch1x1 = self.branch1x1(x)\n",
        "\n",
        "        branch7x7 = self.branch7x7_1(x)\n",
        "        branch7x7 = self.branch7x7_2(branch7x7)\n",
        "        branch7x7 = self.branch7x7_3(branch7x7)\n",
        "\n",
        "        branch7x7dbl = self.branch7x7dbl_1(x)\n",
        "        branch7x7dbl = self.branch7x7dbl_2(branch7x7dbl)\n",
        "        branch7x7dbl = self.branch7x7dbl_3(branch7x7dbl)\n",
        "        branch7x7dbl = self.branch7x7dbl_4(branch7x7dbl)\n",
        "        branch7x7dbl = self.branch7x7dbl_5(branch7x7dbl)\n",
        "\n",
        "        branch_pool = F.avg_pool2d(x, kernel_size=3, stride=1, padding=1)\n",
        "        branch_pool = self.branch_pool(branch_pool)\n",
        "\n",
        "        outputs = [branch1x1, branch7x7, branch7x7dbl, branch_pool]\n",
        "        return outputs\n",
        "\n",
        "    def forward(self, x):\n",
        "        outputs = self._forward(x)\n",
        "        return torch.cat(outputs, 1)\n",
        "\n",
        "\n",
        "class InceptionD(nn.Module):\n",
        "\n",
        "    def __init__(self, in_channels, conv_block=None):\n",
        "        super(InceptionD, self).__init__()\n",
        "        if conv_block is None:\n",
        "            conv_block = BasicConv2d\n",
        "        self.branch3x3_1 = conv_block(in_channels, 192, kernel_size=1)\n",
        "        self.branch3x3_2 = conv_block(192, 320, kernel_size=3, stride=2)\n",
        "\n",
        "        self.branch7x7x3_1 = conv_block(in_channels, 192, kernel_size=1)\n",
        "        self.branch7x7x3_2 = conv_block(192, 192, kernel_size=(1, 7), padding=(0, 3))\n",
        "        self.branch7x7x3_3 = conv_block(192, 192, kernel_size=(7, 1), padding=(3, 0))\n",
        "        self.branch7x7x3_4 = conv_block(192, 192, kernel_size=3, stride=2)\n",
        "\n",
        "    def _forward(self, x):\n",
        "        branch3x3 = self.branch3x3_1(x)\n",
        "        branch3x3 = self.branch3x3_2(branch3x3)\n",
        "\n",
        "        branch7x7x3 = self.branch7x7x3_1(x)\n",
        "        branch7x7x3 = self.branch7x7x3_2(branch7x7x3)\n",
        "        branch7x7x3 = self.branch7x7x3_3(branch7x7x3)\n",
        "        branch7x7x3 = self.branch7x7x3_4(branch7x7x3)\n",
        "\n",
        "        branch_pool = F.max_pool2d(x, kernel_size=3, stride=2)\n",
        "        outputs = [branch3x3, branch7x7x3, branch_pool]\n",
        "        return outputs\n",
        "\n",
        "    def forward(self, x):\n",
        "        outputs = self._forward(x)\n",
        "        return torch.cat(outputs, 1)\n",
        "\n",
        "\n",
        "class InceptionE(nn.Module):\n",
        "\n",
        "    def __init__(self, in_channels, conv_block=None):\n",
        "        super(InceptionE, self).__init__()\n",
        "        if conv_block is None:\n",
        "            conv_block = BasicConv2d\n",
        "        self.branch1x1 = conv_block(in_channels, 320, kernel_size=1)\n",
        "\n",
        "        self.branch3x3_1 = conv_block(in_channels, 384, kernel_size=1)\n",
        "        self.branch3x3_2a = conv_block(384, 384, kernel_size=(1, 3), padding=(0, 1))\n",
        "        self.branch3x3_2b = conv_block(384, 384, kernel_size=(3, 1), padding=(1, 0))\n",
        "\n",
        "        self.branch3x3dbl_1 = conv_block(in_channels, 448, kernel_size=1)\n",
        "        self.branch3x3dbl_2 = conv_block(448, 384, kernel_size=3, padding=1)\n",
        "        self.branch3x3dbl_3a = conv_block(384, 384, kernel_size=(1, 3), padding=(0, 1))\n",
        "        self.branch3x3dbl_3b = conv_block(384, 384, kernel_size=(3, 1), padding=(1, 0))\n",
        "\n",
        "        self.branch_pool = conv_block(in_channels, 192, kernel_size=1)\n",
        "\n",
        "    def _forward(self, x):\n",
        "        branch1x1 = self.branch1x1(x)\n",
        "\n",
        "        branch3x3 = self.branch3x3_1(x)\n",
        "        branch3x3 = [\n",
        "            self.branch3x3_2a(branch3x3),\n",
        "            self.branch3x3_2b(branch3x3),\n",
        "        ]\n",
        "        branch3x3 = torch.cat(branch3x3, 1)\n",
        "\n",
        "        branch3x3dbl = self.branch3x3dbl_1(x)\n",
        "        branch3x3dbl = self.branch3x3dbl_2(branch3x3dbl)\n",
        "        branch3x3dbl = [\n",
        "            self.branch3x3dbl_3a(branch3x3dbl),\n",
        "            self.branch3x3dbl_3b(branch3x3dbl),\n",
        "        ]\n",
        "        branch3x3dbl = torch.cat(branch3x3dbl, 1)\n",
        "\n",
        "        branch_pool = F.avg_pool2d(x, kernel_size=3, stride=1, padding=1)\n",
        "        branch_pool = self.branch_pool(branch_pool)\n",
        "\n",
        "        outputs = [branch1x1, branch3x3, branch3x3dbl, branch_pool]\n",
        "        return outputs\n",
        "\n",
        "    def forward(self, x):\n",
        "        outputs = self._forward(x)\n",
        "        return torch.cat(outputs, 1)\n",
        "\n",
        "\n",
        "class InceptionAux(nn.Module):\n",
        "\n",
        "    def __init__(self, in_channels, num_classes, conv_block=None):\n",
        "        super(InceptionAux, self).__init__()\n",
        "        if conv_block is None:\n",
        "            conv_block = BasicConv2d\n",
        "        self.conv0 = conv_block(in_channels, 128, kernel_size=1)\n",
        "        self.conv1 = conv_block(128, 768, kernel_size=5)\n",
        "        self.conv1.stddev = 0.01\n",
        "        self.fc = nn.Linear(768, num_classes)\n",
        "        self.fc.stddev = 0.001\n",
        "\n",
        "    def forward(self, x):\n",
        "        # N x 768 x 17 x 17\n",
        "        x = F.avg_pool2d(x, kernel_size=5, stride=3)\n",
        "        # N x 768 x 5 x 5\n",
        "        x = self.conv0(x)\n",
        "        # N x 128 x 5 x 5\n",
        "        x = self.conv1(x)\n",
        "        # N x 768 x 1 x 1\n",
        "        # Adaptive average pooling\n",
        "        x = F.adaptive_avg_pool2d(x, (1, 1))\n",
        "        # N x 768 x 1 x 1\n",
        "        x = torch.flatten(x, 1)\n",
        "        # N x 768\n",
        "        x = self.fc(x)\n",
        "        # N x 1000\n",
        "        return x\n",
        "\n",
        "\n",
        "class BasicConv2d(nn.Module):\n",
        "\n",
        "    def __init__(self, in_channels, out_channels, **kwargs):\n",
        "        super(BasicConv2d, self).__init__()\n",
        "        self.conv = nn.Conv2d(in_channels, out_channels, bias=False, **kwargs)\n",
        "        self.bn = nn.BatchNorm2d(out_channels, eps=0.001)\n",
        "\n",
        "    def forward(self, x):\n",
        "        x = self.conv(x)\n",
        "        x = self.bn(x)\n",
        "        return F.relu(x, inplace=True)\n"
      ],
      "execution_count": 0,
      "outputs": []
    },
    {
      "cell_type": "code",
      "metadata": {
        "id": "Qi0V2hfN8L1H",
        "colab_type": "code",
        "colab": {
          "base_uri": "https://localhost:8080/",
          "height": 162
        },
        "outputId": "bcc61a4f-0838-482c-cbc8-64e658090bc0"
      },
      "source": [
        "base_model = InceptionV3(weights=None, include_top=False, input_tensor=Input(shape = (width, height, depth)))\n",
        "\n",
        "x = base_model.output\n",
        "output = BatchNormalization()(x)\n",
        "x = GlobalAveragePooling2D()(x)\n",
        "x = Dense(1024, activation='relu')(x)\n",
        "predictions = Dense(n_classes, activation='softmax')(x)\n",
        "\n",
        "model = Model(inputs=base_model.input, outputs=predictions)"
      ],
      "execution_count": 20,
      "outputs": [
        {
          "output_type": "stream",
          "text": [
            "WARNING:tensorflow:From /tensorflow-1.15.2/python3.6/tensorflow_core/python/ops/resource_variable_ops.py:1630: calling BaseResourceVariable.__init__ (from tensorflow.python.ops.resource_variable_ops) with constraint is deprecated and will be removed in a future version.\n",
            "Instructions for updating:\n",
            "If using Keras pass *_constraint arguments to layers.\n",
            "WARNING:tensorflow:From /usr/local/lib/python3.6/dist-packages/keras/backend/tensorflow_backend.py:4070: The name tf.nn.max_pool is deprecated. Please use tf.nn.max_pool2d instead.\n",
            "\n",
            "WARNING:tensorflow:From /usr/local/lib/python3.6/dist-packages/keras/backend/tensorflow_backend.py:4074: The name tf.nn.avg_pool is deprecated. Please use tf.nn.avg_pool2d instead.\n",
            "\n"
          ],
          "name": "stdout"
        }
      ]
    },
    {
      "cell_type": "code",
      "metadata": {
        "id": "3uw1IBIu8m90",
        "colab_type": "code",
        "colab": {
          "base_uri": "https://localhost:8080/",
          "height": 34
        },
        "outputId": "6bdad577-b007-45f5-aa03-098848e5668b"
      },
      "source": [
        "opt = Adam(lr=INIT_LR, decay=INIT_LR / EPOCHS)\n",
        "# distribution\n",
        "model.compile(loss=\"binary_crossentropy\", optimizer=opt,metrics=[\"accuracy\"])\n",
        "# train the network\n",
        "print(\"[INFO] training network...\")"
      ],
      "execution_count": 22,
      "outputs": [
        {
          "output_type": "stream",
          "text": [
            "[INFO] training network...\n"
          ],
          "name": "stdout"
        }
      ]
    },
    {
      "cell_type": "code",
      "metadata": {
        "id": "L8czjT1d8wGi",
        "colab_type": "code",
        "colab": {
          "base_uri": "https://localhost:8080/",
          "height": 1000
        },
        "outputId": "51466e2c-7ca8-4f91-b6cc-231cb4c1cc82"
      },
      "source": [
        "#Training Model\n",
        "history = model.fit_generator(\n",
        "    aug.flow(x_train, y_train, batch_size=BS),\n",
        "    validation_data=(x_test, y_test),\n",
        "    steps_per_epoch=len(x_train) // BS,\n",
        "    epochs=EPOCHS, verbose=1\n",
        "    )"
      ],
      "execution_count": 23,
      "outputs": [
        {
          "output_type": "stream",
          "text": [
            "WARNING:tensorflow:From /tensorflow-1.15.2/python3.6/tensorflow_core/python/ops/math_grad.py:1424: where (from tensorflow.python.ops.array_ops) is deprecated and will be removed in a future version.\n",
            "Instructions for updating:\n",
            "Use tf.where in 2.0, which has the same broadcast rule as np.where\n",
            "WARNING:tensorflow:From /usr/local/lib/python3.6/dist-packages/keras/backend/tensorflow_backend.py:422: The name tf.global_variables is deprecated. Please use tf.compat.v1.global_variables instead.\n",
            "\n",
            "Epoch 1/50\n",
            "30/30 [==============================] - 46s 2s/step - loss: 0.5940 - accuracy: 0.8283 - val_loss: 4.1538 - val_accuracy: 0.7292\n",
            "Epoch 2/50\n",
            "30/30 [==============================] - 24s 784ms/step - loss: 0.5438 - accuracy: 0.8432 - val_loss: 4.2816 - val_accuracy: 0.7208\n",
            "Epoch 3/50\n",
            "30/30 [==============================] - 25s 822ms/step - loss: 0.4708 - accuracy: 0.8370 - val_loss: 3.9147 - val_accuracy: 0.7167\n",
            "Epoch 4/50\n",
            "30/30 [==============================] - 25s 834ms/step - loss: 0.3900 - accuracy: 0.8431 - val_loss: 4.1477 - val_accuracy: 0.7292\n",
            "Epoch 5/50\n",
            "30/30 [==============================] - 25s 830ms/step - loss: 0.3409 - accuracy: 0.8566 - val_loss: 4.2816 - val_accuracy: 0.7208\n",
            "Epoch 6/50\n",
            "30/30 [==============================] - 24s 816ms/step - loss: 0.3021 - accuracy: 0.8722 - val_loss: 3.8561 - val_accuracy: 0.7208\n",
            "Epoch 7/50\n",
            "30/30 [==============================] - 25s 825ms/step - loss: 0.2813 - accuracy: 0.8804 - val_loss: 1.9077 - val_accuracy: 0.7167\n",
            "Epoch 8/50\n",
            "30/30 [==============================] - 25s 841ms/step - loss: 0.2914 - accuracy: 0.8762 - val_loss: 1.0395 - val_accuracy: 0.7535\n",
            "Epoch 9/50\n",
            "30/30 [==============================] - 25s 836ms/step - loss: 0.2765 - accuracy: 0.8830 - val_loss: 1.4518 - val_accuracy: 0.7368\n",
            "Epoch 10/50\n",
            "30/30 [==============================] - 25s 837ms/step - loss: 0.2693 - accuracy: 0.8903 - val_loss: 1.7603 - val_accuracy: 0.7215\n",
            "Epoch 11/50\n",
            "30/30 [==============================] - 25s 835ms/step - loss: 0.2397 - accuracy: 0.8974 - val_loss: 1.0243 - val_accuracy: 0.7368\n",
            "Epoch 12/50\n",
            "30/30 [==============================] - 25s 832ms/step - loss: 0.2309 - accuracy: 0.9069 - val_loss: 0.9550 - val_accuracy: 0.7556\n",
            "Epoch 13/50\n",
            "30/30 [==============================] - 25s 830ms/step - loss: 0.2001 - accuracy: 0.9156 - val_loss: 1.1283 - val_accuracy: 0.7660\n",
            "Epoch 14/50\n",
            "30/30 [==============================] - 25s 826ms/step - loss: 0.1866 - accuracy: 0.9264 - val_loss: 1.3321 - val_accuracy: 0.7611\n",
            "Epoch 15/50\n",
            "30/30 [==============================] - 25s 831ms/step - loss: 0.2087 - accuracy: 0.9127 - val_loss: 0.6118 - val_accuracy: 0.8125\n",
            "Epoch 16/50\n",
            "30/30 [==============================] - 25s 822ms/step - loss: 0.2060 - accuracy: 0.9167 - val_loss: 0.5341 - val_accuracy: 0.8250\n",
            "Epoch 17/50\n",
            "30/30 [==============================] - 25s 824ms/step - loss: 0.1937 - accuracy: 0.9257 - val_loss: 0.5205 - val_accuracy: 0.8500\n",
            "Epoch 18/50\n",
            "30/30 [==============================] - 25s 822ms/step - loss: 0.1705 - accuracy: 0.9299 - val_loss: 0.9787 - val_accuracy: 0.7750\n",
            "Epoch 19/50\n",
            "30/30 [==============================] - 25s 826ms/step - loss: 0.1600 - accuracy: 0.9384 - val_loss: 0.7589 - val_accuracy: 0.8340\n",
            "Epoch 20/50\n",
            "30/30 [==============================] - 24s 814ms/step - loss: 0.1590 - accuracy: 0.9359 - val_loss: 0.8690 - val_accuracy: 0.7986\n",
            "Epoch 21/50\n",
            "30/30 [==============================] - 25s 824ms/step - loss: 0.1624 - accuracy: 0.9368 - val_loss: 0.3272 - val_accuracy: 0.8917\n",
            "Epoch 22/50\n",
            "30/30 [==============================] - 25s 825ms/step - loss: 0.1475 - accuracy: 0.9396 - val_loss: 0.3282 - val_accuracy: 0.9007\n",
            "Epoch 23/50\n",
            "30/30 [==============================] - 25s 839ms/step - loss: 0.1718 - accuracy: 0.9283 - val_loss: 0.5235 - val_accuracy: 0.8646\n",
            "Epoch 24/50\n",
            "30/30 [==============================] - 26s 856ms/step - loss: 0.1381 - accuracy: 0.9457 - val_loss: 0.4420 - val_accuracy: 0.8833\n",
            "Epoch 25/50\n",
            "30/30 [==============================] - 25s 841ms/step - loss: 0.1586 - accuracy: 0.9396 - val_loss: 0.4847 - val_accuracy: 0.8861\n",
            "Epoch 26/50\n",
            "30/30 [==============================] - 25s 832ms/step - loss: 0.1450 - accuracy: 0.9422 - val_loss: 0.2374 - val_accuracy: 0.9007\n",
            "Epoch 27/50\n",
            "30/30 [==============================] - 25s 827ms/step - loss: 0.1335 - accuracy: 0.9479 - val_loss: 0.2237 - val_accuracy: 0.9139\n",
            "Epoch 28/50\n",
            "30/30 [==============================] - 25s 822ms/step - loss: 0.1346 - accuracy: 0.9439 - val_loss: 0.6382 - val_accuracy: 0.8639\n",
            "Epoch 29/50\n",
            "30/30 [==============================] - 24s 816ms/step - loss: 0.1360 - accuracy: 0.9469 - val_loss: 0.3708 - val_accuracy: 0.8813\n",
            "Epoch 30/50\n",
            "30/30 [==============================] - 24s 813ms/step - loss: 0.1285 - accuracy: 0.9503 - val_loss: 0.4583 - val_accuracy: 0.8451\n",
            "Epoch 31/50\n",
            "30/30 [==============================] - 25s 831ms/step - loss: 0.1351 - accuracy: 0.9444 - val_loss: 0.4605 - val_accuracy: 0.8514\n",
            "Epoch 32/50\n",
            "30/30 [==============================] - 25s 818ms/step - loss: 0.1174 - accuracy: 0.9557 - val_loss: 0.3270 - val_accuracy: 0.8993\n",
            "Epoch 33/50\n",
            "30/30 [==============================] - 25s 820ms/step - loss: 0.1263 - accuracy: 0.9540 - val_loss: 0.5461 - val_accuracy: 0.8375\n",
            "Epoch 34/50\n",
            "30/30 [==============================] - 25s 828ms/step - loss: 0.1198 - accuracy: 0.9536 - val_loss: 0.2566 - val_accuracy: 0.9090\n",
            "Epoch 35/50\n",
            "30/30 [==============================] - 25s 818ms/step - loss: 0.1221 - accuracy: 0.9549 - val_loss: 0.3619 - val_accuracy: 0.8806\n",
            "Epoch 36/50\n",
            "30/30 [==============================] - 25s 822ms/step - loss: 0.1076 - accuracy: 0.9585 - val_loss: 0.1414 - val_accuracy: 0.9465\n",
            "Epoch 37/50\n",
            "30/30 [==============================] - 25s 817ms/step - loss: 0.1005 - accuracy: 0.9656 - val_loss: 0.3776 - val_accuracy: 0.8993\n",
            "Epoch 38/50\n",
            "30/30 [==============================] - 25s 819ms/step - loss: 0.1157 - accuracy: 0.9563 - val_loss: 0.3706 - val_accuracy: 0.8757\n",
            "Epoch 39/50\n",
            "30/30 [==============================] - 24s 817ms/step - loss: 0.0943 - accuracy: 0.9661 - val_loss: 0.4273 - val_accuracy: 0.8917\n",
            "Epoch 40/50\n",
            "30/30 [==============================] - 25s 825ms/step - loss: 0.0888 - accuracy: 0.9656 - val_loss: 0.5095 - val_accuracy: 0.8778\n",
            "Epoch 41/50\n",
            "30/30 [==============================] - 25s 824ms/step - loss: 0.0930 - accuracy: 0.9672 - val_loss: 0.2368 - val_accuracy: 0.9146\n",
            "Epoch 42/50\n",
            "30/30 [==============================] - 24s 814ms/step - loss: 0.1094 - accuracy: 0.9595 - val_loss: 0.3087 - val_accuracy: 0.8896\n",
            "Epoch 43/50\n",
            "30/30 [==============================] - 25s 823ms/step - loss: 0.0949 - accuracy: 0.9632 - val_loss: 0.2511 - val_accuracy: 0.9313\n",
            "Epoch 44/50\n",
            "30/30 [==============================] - 25s 820ms/step - loss: 0.1062 - accuracy: 0.9580 - val_loss: 0.3206 - val_accuracy: 0.8944\n",
            "Epoch 45/50\n",
            "30/30 [==============================] - 25s 818ms/step - loss: 0.1103 - accuracy: 0.9578 - val_loss: 0.2441 - val_accuracy: 0.9076\n",
            "Epoch 46/50\n",
            "30/30 [==============================] - 24s 816ms/step - loss: 0.0900 - accuracy: 0.9665 - val_loss: 0.5351 - val_accuracy: 0.8625\n",
            "Epoch 47/50\n",
            "30/30 [==============================] - 25s 822ms/step - loss: 0.0910 - accuracy: 0.9670 - val_loss: 0.5319 - val_accuracy: 0.8813\n",
            "Epoch 48/50\n",
            "30/30 [==============================] - 25s 822ms/step - loss: 0.0927 - accuracy: 0.9672 - val_loss: 0.2309 - val_accuracy: 0.9090\n",
            "Epoch 49/50\n",
            "30/30 [==============================] - 25s 821ms/step - loss: 0.0759 - accuracy: 0.9720 - val_loss: 0.1947 - val_accuracy: 0.9451\n",
            "Epoch 50/50\n",
            "30/30 [==============================] - 24s 815ms/step - loss: 0.0750 - accuracy: 0.9733 - val_loss: 0.2277 - val_accuracy: 0.9208\n"
          ],
          "name": "stdout"
        }
      ]
    },
    {
      "cell_type": "code",
      "metadata": {
        "id": "w4JnKtPvBuwI",
        "colab_type": "code",
        "colab": {
          "base_uri": "https://localhost:8080/",
          "height": 544
        },
        "outputId": "b923b47b-c74a-4577-b686-5f7abef90443"
      },
      "source": [
        "acc = history.history['accuracy']\n",
        "val_acc = history.history['val_accuracy']\n",
        "loss = history.history['loss']\n",
        "val_loss = history.history['val_loss']\n",
        "epochs = range(1, len(acc) + 1)\n",
        "#Train and validation accuracy\n",
        "plt.plot(epochs, acc, 'b', label='Training accurarcy')\n",
        "plt.plot(epochs, val_acc, 'r', label='Validation accurarcy')\n",
        "plt.title('Training and Validation accurarcy')\n",
        "plt.legend()\n",
        "\n",
        "plt.figure()\n",
        "#Train and validation loss\n",
        "plt.plot(epochs, loss, 'b', label='Training loss')\n",
        "plt.plot(epochs, val_loss, 'r', label='Validation loss')\n",
        "plt.title('Training and Validation loss')\n",
        "plt.legend()\n",
        "plt.show()"
      ],
      "execution_count": 24,
      "outputs": [
        {
          "output_type": "display_data",
          "data": {
            "image/png": "[encoded data removed]",
            "text/plain": [
              "<Figure size 432x288 with 1 Axes>"
            ]
          },
          "metadata": {
            "tags": [],
            "needs_background": "light"
          }
        },
        {
          "output_type": "display_data",
          "data": {
            "image/png": "[encoded data removed]",
            "text/plain": [
              "<Figure size 432x288 with 1 Axes>"
            ]
          },
          "metadata": {
            "tags": [],
            "needs_background": "light"
          }
        }
      ]
    },
    {
      "cell_type": "code",
      "metadata": {
        "id": "M9Of4YQqB3m7",
        "colab_type": "code",
        "colab": {
          "base_uri": "https://localhost:8080/",
          "height": 52
        },
        "outputId": "78477c16-ba5f-45a5-da1f-cfc72a657f95"
      },
      "source": [
        "scores = model.evaluate(x_test, y_test)\n",
        "print(f\"Test Accuracy: {scores[1]*100}\")"
      ],
      "execution_count": 25,
      "outputs": [
        {
          "output_type": "stream",
          "text": [
            "240/240 [==============================] - 2s 7ms/step\n",
            "Test Accuracy: 92.08333492279053\n"
          ],
          "name": "stdout"
        }
      ]
    }
  ]
}