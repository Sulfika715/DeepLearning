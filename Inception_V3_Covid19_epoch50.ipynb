{
  "nbformat": 4,
  "nbformat_minor": 0,
  "metadata": {
    "colab": {
      "name": "Inception_V3_Covid19_epoch50.ipynb",
      "provenance": [],
      "authorship_tag": "ABX9TyPwc0GZiohQn4MbVtE1K8mc",
      "include_colab_link": true
    },
    "kernelspec": {
      "name": "python3",
      "display_name": "Python 3"
    },
    "accelerator": "GPU"
  },
  "cells": [
    {
      "cell_type": "markdown",
      "metadata": {
        "id": "view-in-github",
        "colab_type": "text"
      },
      "source": [
        "<a href=\"https://colab.research.google.com/github/Sulfika715/DeepLearning/blob/master/Inception_V3_Covid19_epoch50.ipynb\" target=\"_parent\"><img src=\"https://colab.research.google.com/assets/colab-badge.svg\" alt=\"Open In Colab\"/></a>"
      ]
    },
    {
      "cell_type": "code",
      "metadata": {
        "id": "9pOw0vCAaj32",
        "colab_type": "code",
        "colab": {
          "base_uri": "https://localhost:8080/",
          "height": 50
        },
        "outputId": "8488c07a-a557-4f98-fdcf-c75cc281f0ea"
      },
      "source": [
        "%tensorflow_version 1.x\n",
        "import numpy as np\n",
        "import pickle\n",
        "import cv2\n",
        "import keras\n",
        "\n",
        "from keras.applications.inception_v3 import InceptionV3\n",
        "from keras.preprocessing import image\n",
        "from keras.layers import Conv2D, MaxPooling2D, GlobalAveragePooling2D\n",
        "from keras.layers import Flatten, Dense\n",
        "from keras.models import Model\n",
        "from keras.layers import BatchNormalization\n",
        "\n",
        "from os import listdir\n",
        "from keras import backend as K\n",
        "from keras.layers import Input\n",
        "from keras.optimizers import Adam\n",
        "from keras.preprocessing.image import ImageDataGenerator\n",
        "from keras.preprocessing import image\n",
        "from keras.preprocessing.image import img_to_array\n",
        "from sklearn.preprocessing import MultiLabelBinarizer\n",
        "from sklearn.preprocessing import LabelBinarizer\n",
        "from sklearn.model_selection import train_test_split\n",
        "\n",
        "import matplotlib.pyplot as plt"
      ],
      "execution_count": 1,
      "outputs": [
        {
          "output_type": "stream",
          "text": [
            "TensorFlow 1.x selected.\n"
          ],
          "name": "stdout"
        },
        {
          "output_type": "stream",
          "text": [
            "Using TensorFlow backend.\n"
          ],
          "name": "stderr"
        }
      ]
    },
    {
      "cell_type": "code",
      "metadata": {
        "id": "qKH9tv3LoDZt",
        "colab_type": "code",
        "colab": {
          "base_uri": "https://localhost:8080/",
          "height": 118
        },
        "outputId": "3a3b6610-e3ad-48f0-91a3-92767e9b839f"
      },
      "source": [
        "from google.colab import drive\n",
        "drive.mount('/content/drive')"
      ],
      "execution_count": 2,
      "outputs": [
        {
          "output_type": "stream",
          "text": [
            "Go to this URL in a browser: https://accounts.google.com/o/oauth2/auth?client_id=947318989803-6bn6qk8qdgf4n4g3pfee6491hc0brc4i.apps.googleusercontent.com&redirect_uri=urn%3aietf%3awg%3aoauth%3a2.0%3aoob&response_type=code&scope=email%20https%3a%2f%2fwww.googleapis.com%2fauth%2fdocs.test%20https%3a%2f%2fwww.googleapis.com%2fauth%2fdrive%20https%3a%2f%2fwww.googleapis.com%2fauth%2fdrive.photos.readonly%20https%3a%2f%2fwww.googleapis.com%2fauth%2fpeopleapi.readonly\n",
            "\n",
            "Enter your authorization code:\n",
            "··········\n",
            "Mounted at /content/drive\n"
          ],
          "name": "stdout"
        }
      ]
    },
    {
      "cell_type": "code",
      "metadata": {
        "id": "SL3Si6B_o0uG",
        "colab_type": "code",
        "colab": {
          "base_uri": "https://localhost:8080/",
          "height": 33
        },
        "outputId": "467f2c38-38f0-4732-81ba-a0a7512c16b2"
      },
      "source": [
        "%cd drive/'My Drive'"
      ],
      "execution_count": 3,
      "outputs": [
        {
          "output_type": "stream",
          "text": [
            "/content/drive/My Drive\n"
          ],
          "name": "stdout"
        }
      ]
    },
    {
      "cell_type": "code",
      "metadata": {
        "id": "-IXsn_mio32K",
        "colab_type": "code",
        "colab": {}
      },
      "source": [
        "EPOCHS = 50\n",
        "INIT_LR = 1e-3\n",
        "BS = 8\n",
        "default_image_size = tuple((299, 299))\n",
        "image_size = 67\n",
        "directory_root = './two/'\n",
        "width=299\n",
        "height=299\n",
        "depth=3"
      ],
      "execution_count": 0,
      "outputs": []
    },
    {
      "cell_type": "code",
      "metadata": {
        "id": "5DAeENlVo-P1",
        "colab_type": "code",
        "colab": {}
      },
      "source": [
        "def convert_image_to_array(image_dir):\n",
        "    try:\n",
        "        image = cv2.imread(image_dir)\n",
        "        if image is not None :\n",
        "            image = cv2.resize(image, default_image_size)   \n",
        "            return img_to_array(image)\n",
        "        else :\n",
        "            return np.array([])\n",
        "    except Exception as e:\n",
        "        print(f\"Error : {e}\")\n",
        "        return None"
      ],
      "execution_count": 0,
      "outputs": []
    },
    {
      "cell_type": "code",
      "metadata": {
        "id": "LgUEIMadpC2d",
        "colab_type": "code",
        "colab": {
          "base_uri": "https://localhost:8080/",
          "height": 147
        },
        "outputId": "35b280a9-71c0-4ad0-d143-51a8650d3954"
      },
      "source": [
        "image_list, label_list = [], []\n",
        "try:\n",
        "    print(\"[INFO] Loading images ...\")\n",
        "    root_dir = listdir(directory_root)\n",
        "    for directory in root_dir :\n",
        "        # remove .DS_Store from list\n",
        "        if directory == \".DS_Store\" :\n",
        "            root_dir.remove(directory)\n",
        "\n",
        "    for plant_folder in root_dir :\n",
        "        plant_disease_folder_list = listdir(f\"{directory_root}/{plant_folder}\")\n",
        "        \n",
        "        for disease_folder in plant_disease_folder_list :\n",
        "            # remove .DS_Store from list\n",
        "            if disease_folder == \".DS_Store\" :\n",
        "                plant_disease_folder_list.remove(disease_folder)\n",
        "\n",
        "        for plant_disease_folder in plant_disease_folder_list:\n",
        "            print(f\"[INFO] Processing {plant_disease_folder} ...\")\n",
        "            plant_disease_image_list = listdir(f\"{directory_root}/{plant_folder}/{plant_disease_folder}/\")\n",
        "                \n",
        "            for single_plant_disease_image in plant_disease_image_list :\n",
        "                if single_plant_disease_image == \".DS_Store\" :\n",
        "                    plant_disease_image_list.remove(single_plant_disease_image)\n",
        "\n",
        "            for image in plant_disease_image_list[:200]:\n",
        "                image_directory = f\"{directory_root}/{plant_folder}/{plant_disease_folder}/{image}\"\n",
        "                if image_directory.endswith(\".jpg\") == True or image_directory.endswith(\".JPG\")  == True or image_directory.endswith(\".jpeg\") == True or image_directory.endswith(\".png\") :\n",
        "                    image_list.append(convert_image_to_array(image_directory))\n",
        "                    label_list.append(plant_disease_folder)\n",
        "    %time print(\"[INFO] Image loading completed\")  \n",
        "except Exception as e:\n",
        "    print(f\"Error : {e}\")"
      ],
      "execution_count": 7,
      "outputs": [
        {
          "output_type": "stream",
          "text": [
            "[INFO] Loading images ...\n",
            "[INFO] Processing normal ...\n",
            "[INFO] Processing covid ...\n",
            "[INFO] Processing covid ...\n",
            "[INFO] Processing normal ...\n",
            "[INFO] Image loading completed\n",
            "CPU times: user 91 µs, sys: 13 µs, total: 104 µs\n",
            "Wall time: 109 µs\n"
          ],
          "name": "stdout"
        }
      ]
    },
    {
      "cell_type": "code",
      "metadata": {
        "id": "U0G2srwqsc0c",
        "colab_type": "code",
        "colab": {
          "base_uri": "https://localhost:8080/",
          "height": 33
        },
        "outputId": "57b7f4e0-3fad-4f03-dea9-77bd0ac751ee"
      },
      "source": [
        "image_size = len(image_list)\n",
        "image_size"
      ],
      "execution_count": 8,
      "outputs": [
        {
          "output_type": "execute_result",
          "data": {
            "text/plain": [
              "148"
            ]
          },
          "metadata": {
            "tags": []
          },
          "execution_count": 8
        }
      ]
    },
    {
      "cell_type": "code",
      "metadata": {
        "id": "xDM1ZgFuslU0",
        "colab_type": "code",
        "colab": {}
      },
      "source": [
        "image_size = len(image_list)\n",
        "label_binarizer = LabelBinarizer()\n",
        "image_labels = label_binarizer.fit_transform(label_list)\n",
        "pickle.dump(label_binarizer,open('label_transform.pkl', 'wb'))\n",
        "n_classes = len(label_binarizer.classes_)"
      ],
      "execution_count": 0,
      "outputs": []
    },
    {
      "cell_type": "code",
      "metadata": {
        "id": "BWu4xAv1spOm",
        "colab_type": "code",
        "colab": {
          "base_uri": "https://localhost:8080/",
          "height": 33
        },
        "outputId": "77af84f8-64a9-4daf-85f0-1c7a357032f8"
      },
      "source": [
        "print(label_binarizer.classes_)"
      ],
      "execution_count": 10,
      "outputs": [
        {
          "output_type": "stream",
          "text": [
            "['covid' 'normal']\n"
          ],
          "name": "stdout"
        }
      ]
    },
    {
      "cell_type": "code",
      "metadata": {
        "id": "CNRg627FstBO",
        "colab_type": "code",
        "colab": {}
      },
      "source": [
        "np_image_list = np.array(image_list, dtype=np.float16) / 225.0"
      ],
      "execution_count": 0,
      "outputs": []
    },
    {
      "cell_type": "code",
      "metadata": {
        "id": "aRf1xxTXs5kf",
        "colab_type": "code",
        "colab": {}
      },
      "source": [
        "x_train, x_test, y_train, y_test = train_test_split(np_image_list, image_labels, test_size=0.2, random_state = 42)"
      ],
      "execution_count": 0,
      "outputs": []
    },
    {
      "cell_type": "code",
      "metadata": {
        "id": "-uOWGcSYs9j_",
        "colab_type": "code",
        "colab": {}
      },
      "source": [
        "aug = ImageDataGenerator(\n",
        "    rotation_range=25, width_shift_range=0.1,\n",
        "    height_shift_range=0.1, shear_range=0.2, \n",
        "    zoom_range=0.2,horizontal_flip=True, \n",
        "    fill_mode=\"nearest\")"
      ],
      "execution_count": 0,
      "outputs": []
    },
    {
      "cell_type": "code",
      "metadata": {
        "id": "gfw5G1iYtC_H",
        "colab_type": "code",
        "colab": {
          "base_uri": "https://localhost:8080/",
          "height": 151
        },
        "outputId": "6f24f361-d7f2-4def-9a1e-0ac1d7547b58"
      },
      "source": [
        "base_model = InceptionV3(weights=None, include_top=False, input_tensor=Input(shape = (width, height, depth)))\n",
        "\n",
        "x = base_model.output\n",
        "output = BatchNormalization()(x)\n",
        "x = GlobalAveragePooling2D()(x)\n",
        "x = Dense(1024, activation='relu')(x)\n",
        "predictions = Dense(1, activation='softmax')(x)\n",
        "\n",
        "model = Model(inputs=base_model.input, outputs=predictions)"
      ],
      "execution_count": 14,
      "outputs": [
        {
          "output_type": "stream",
          "text": [
            "WARNING:tensorflow:From /tensorflow-1.15.2/python3.6/tensorflow_core/python/ops/resource_variable_ops.py:1630: calling BaseResourceVariable.__init__ (from tensorflow.python.ops.resource_variable_ops) with constraint is deprecated and will be removed in a future version.\n",
            "Instructions for updating:\n",
            "If using Keras pass *_constraint arguments to layers.\n",
            "WARNING:tensorflow:From /usr/local/lib/python3.6/dist-packages/keras/backend/tensorflow_backend.py:4070: The name tf.nn.max_pool is deprecated. Please use tf.nn.max_pool2d instead.\n",
            "\n",
            "WARNING:tensorflow:From /usr/local/lib/python3.6/dist-packages/keras/backend/tensorflow_backend.py:4074: The name tf.nn.avg_pool is deprecated. Please use tf.nn.avg_pool2d instead.\n",
            "\n"
          ],
          "name": "stdout"
        }
      ]
    },
    {
      "cell_type": "code",
      "metadata": {
        "id": "oAwoYyIztTlf",
        "colab_type": "code",
        "colab": {
          "base_uri": "https://localhost:8080/",
          "height": 33
        },
        "outputId": "552a52b0-4194-4bd5-cf22-ce513a79fd20"
      },
      "source": [
        "opt = Adam(lr=INIT_LR, decay=INIT_LR / EPOCHS)\n",
        "# distribution\n",
        "model.compile(loss=\"binary_crossentropy\", optimizer=opt,metrics=[\"accuracy\"])\n",
        "# train the network\n",
        "print(\"[INFO] training network...\")"
      ],
      "execution_count": 15,
      "outputs": [
        {
          "output_type": "stream",
          "text": [
            "[INFO] training network...\n"
          ],
          "name": "stdout"
        }
      ]
    },
    {
      "cell_type": "code",
      "metadata": {
        "id": "vT3LHOJJtXSX",
        "colab_type": "code",
        "colab": {
          "base_uri": "https://localhost:8080/",
          "height": 1000
        },
        "outputId": "3c401792-e5a3-4dbb-dcc2-657c782ead55"
      },
      "source": [
        "#Training Model\n",
        "history = model.fit_generator(\n",
        "    aug.flow(x_train, y_train, batch_size=BS),\n",
        "    validation_data=(x_test, y_test),\n",
        "    steps_per_epoch=len(x_train) // BS,\n",
        "    epochs=EPOCHS, verbose=1\n",
        "    )"
      ],
      "execution_count": 16,
      "outputs": [
        {
          "output_type": "stream",
          "text": [
            "WARNING:tensorflow:From /tensorflow-1.15.2/python3.6/tensorflow_core/python/ops/math_grad.py:1424: where (from tensorflow.python.ops.array_ops) is deprecated and will be removed in a future version.\n",
            "Instructions for updating:\n",
            "Use tf.where in 2.0, which has the same broadcast rule as np.where\n",
            "WARNING:tensorflow:From /usr/local/lib/python3.6/dist-packages/keras/backend/tensorflow_backend.py:422: The name tf.global_variables is deprecated. Please use tf.compat.v1.global_variables instead.\n",
            "\n",
            "Epoch 1/50\n",
            "14/14 [==============================] - 26s 2s/step - loss: 7.2980 - accuracy: 0.5273 - val_loss: 5.5914 - val_accuracy: 0.6333\n",
            "Epoch 2/50\n",
            "14/14 [==============================] - 3s 214ms/step - loss: 8.1204 - accuracy: 0.4727 - val_loss: 5.5914 - val_accuracy: 0.6333\n",
            "Epoch 3/50\n",
            "14/14 [==============================] - 3s 210ms/step - loss: 7.3406 - accuracy: 0.5273 - val_loss: 5.5914 - val_accuracy: 0.6333\n",
            "Epoch 4/50\n",
            "14/14 [==============================] - 3s 211ms/step - loss: 7.3928 - accuracy: 0.5179 - val_loss: 5.5914 - val_accuracy: 0.6333\n",
            "Epoch 5/50\n",
            "14/14 [==============================] - 3s 200ms/step - loss: 8.0263 - accuracy: 0.4815 - val_loss: 5.5914 - val_accuracy: 0.6333\n",
            "Epoch 6/50\n",
            "14/14 [==============================] - 3s 208ms/step - loss: 7.6666 - accuracy: 0.5000 - val_loss: 5.5914 - val_accuracy: 0.6333\n",
            "Epoch 7/50\n",
            "14/14 [==============================] - 3s 207ms/step - loss: 7.2554 - accuracy: 0.5273 - val_loss: 5.5914 - val_accuracy: 0.6333\n",
            "Epoch 8/50\n",
            "14/14 [==============================] - 3s 200ms/step - loss: 7.0325 - accuracy: 0.5370 - val_loss: 5.5914 - val_accuracy: 0.6333\n",
            "Epoch 9/50\n",
            "14/14 [==============================] - 3s 207ms/step - loss: 7.6666 - accuracy: 0.5000 - val_loss: 5.5914 - val_accuracy: 0.6333\n",
            "Epoch 10/50\n",
            "14/14 [==============================] - 3s 205ms/step - loss: 7.5720 - accuracy: 0.5093 - val_loss: 5.5914 - val_accuracy: 0.6333\n",
            "Epoch 11/50\n",
            "14/14 [==============================] - 3s 210ms/step - loss: 8.0773 - accuracy: 0.4732 - val_loss: 5.5914 - val_accuracy: 0.6333\n",
            "Epoch 12/50\n",
            "14/14 [==============================] - 3s 206ms/step - loss: 7.0757 - accuracy: 0.5364 - val_loss: 5.5914 - val_accuracy: 0.6333\n",
            "Epoch 13/50\n",
            "14/14 [==============================] - 3s 202ms/step - loss: 7.4868 - accuracy: 0.5093 - val_loss: 5.5914 - val_accuracy: 0.6333\n",
            "Epoch 14/50\n",
            "14/14 [==============================] - 3s 209ms/step - loss: 7.8035 - accuracy: 0.4911 - val_loss: 5.5914 - val_accuracy: 0.6333\n",
            "Epoch 15/50\n",
            "14/14 [==============================] - 3s 207ms/step - loss: 7.3925 - accuracy: 0.5182 - val_loss: 5.5914 - val_accuracy: 0.6333\n",
            "Epoch 16/50\n",
            "14/14 [==============================] - 3s 206ms/step - loss: 7.8463 - accuracy: 0.4909 - val_loss: 5.5914 - val_accuracy: 0.6333\n",
            "Epoch 17/50\n",
            "14/14 [==============================] - 3s 211ms/step - loss: 7.0332 - accuracy: 0.5364 - val_loss: 5.5914 - val_accuracy: 0.6333\n",
            "Epoch 18/50\n",
            "14/14 [==============================] - 3s 207ms/step - loss: 7.8037 - accuracy: 0.4909 - val_loss: 5.5914 - val_accuracy: 0.6333\n",
            "Epoch 19/50\n",
            "14/14 [==============================] - 3s 211ms/step - loss: 7.5297 - accuracy: 0.5089 - val_loss: 5.5914 - val_accuracy: 0.6333\n",
            "Epoch 20/50\n",
            "14/14 [==============================] - 3s 204ms/step - loss: 7.2549 - accuracy: 0.5278 - val_loss: 5.5914 - val_accuracy: 0.6333\n",
            "Epoch 21/50\n",
            "14/14 [==============================] - 3s 213ms/step - loss: 8.0773 - accuracy: 0.4732 - val_loss: 5.5914 - val_accuracy: 0.6333\n",
            "Epoch 22/50\n",
            "14/14 [==============================] - 3s 203ms/step - loss: 7.7092 - accuracy: 0.5000 - val_loss: 5.5914 - val_accuracy: 0.6333\n",
            "Epoch 23/50\n",
            "14/14 [==============================] - 3s 207ms/step - loss: 6.9813 - accuracy: 0.5455 - val_loss: 5.5914 - val_accuracy: 0.6333\n",
            "Epoch 24/50\n",
            "14/14 [==============================] - 3s 207ms/step - loss: 8.0783 - accuracy: 0.4722 - val_loss: 5.5914 - val_accuracy: 0.6333\n",
            "Epoch 25/50\n",
            "14/14 [==============================] - 3s 209ms/step - loss: 7.6666 - accuracy: 0.5000 - val_loss: 5.5914 - val_accuracy: 0.6333\n",
            "Epoch 26/50\n",
            "14/14 [==============================] - 3s 209ms/step - loss: 6.9821 - accuracy: 0.5446 - val_loss: 5.5914 - val_accuracy: 0.6333\n",
            "Epoch 27/50\n",
            "14/14 [==============================] - 3s 208ms/step - loss: 7.5721 - accuracy: 0.5091 - val_loss: 5.5914 - val_accuracy: 0.6333\n",
            "Epoch 28/50\n",
            "14/14 [==============================] - 3s 204ms/step - loss: 7.6666 - accuracy: 0.5000 - val_loss: 5.5914 - val_accuracy: 0.6333\n",
            "Epoch 29/50\n",
            "14/14 [==============================] - 3s 203ms/step - loss: 7.5295 - accuracy: 0.5091 - val_loss: 5.5914 - val_accuracy: 0.6333\n",
            "Epoch 30/50\n",
            "14/14 [==============================] - 3s 202ms/step - loss: 7.3499 - accuracy: 0.5182 - val_loss: 5.5914 - val_accuracy: 0.6333\n",
            "Epoch 31/50\n",
            "14/14 [==============================] - 3s 211ms/step - loss: 7.2980 - accuracy: 0.5273 - val_loss: 5.5914 - val_accuracy: 0.6333\n",
            "Epoch 32/50\n",
            "14/14 [==============================] - 3s 223ms/step - loss: 7.9404 - accuracy: 0.4821 - val_loss: 5.5914 - val_accuracy: 0.6333\n",
            "Epoch 33/50\n",
            "14/14 [==============================] - 3s 215ms/step - loss: 7.2123 - accuracy: 0.5278 - val_loss: 5.5914 - val_accuracy: 0.6333\n",
            "Epoch 34/50\n",
            "14/14 [==============================] - 3s 215ms/step - loss: 7.4351 - accuracy: 0.5182 - val_loss: 5.5914 - val_accuracy: 0.6333\n",
            "Epoch 35/50\n",
            "14/14 [==============================] - 3s 212ms/step - loss: 8.1723 - accuracy: 0.4636 - val_loss: 5.5914 - val_accuracy: 0.6333\n",
            "Epoch 36/50\n",
            "14/14 [==============================] - 3s 207ms/step - loss: 7.2128 - accuracy: 0.5273 - val_loss: 5.5914 - val_accuracy: 0.6333\n",
            "Epoch 37/50\n",
            "14/14 [==============================] - 3s 211ms/step - loss: 7.6666 - accuracy: 0.5000 - val_loss: 5.5914 - val_accuracy: 0.6333\n",
            "Epoch 38/50\n",
            "14/14 [==============================] - 3s 203ms/step - loss: 7.4870 - accuracy: 0.5091 - val_loss: 5.5914 - val_accuracy: 0.6333\n",
            "Epoch 39/50\n",
            "14/14 [==============================] - 3s 211ms/step - loss: 6.8442 - accuracy: 0.5545 - val_loss: 5.5914 - val_accuracy: 0.6333\n",
            "Epoch 40/50\n",
            "14/14 [==============================] - 3s 210ms/step - loss: 8.3520 - accuracy: 0.4545 - val_loss: 5.5914 - val_accuracy: 0.6333\n",
            "Epoch 41/50\n",
            "14/14 [==============================] - 3s 208ms/step - loss: 7.0751 - accuracy: 0.5370 - val_loss: 5.5914 - val_accuracy: 0.6333\n",
            "Epoch 42/50\n",
            "14/14 [==============================] - 3s 204ms/step - loss: 7.3499 - accuracy: 0.5182 - val_loss: 5.5914 - val_accuracy: 0.6333\n",
            "Epoch 43/50\n",
            "14/14 [==============================] - 3s 211ms/step - loss: 7.8035 - accuracy: 0.4911 - val_loss: 5.5914 - val_accuracy: 0.6333\n",
            "Epoch 44/50\n",
            "14/14 [==============================] - 3s 207ms/step - loss: 7.5295 - accuracy: 0.5091 - val_loss: 5.5914 - val_accuracy: 0.6333\n",
            "Epoch 45/50\n",
            "14/14 [==============================] - 3s 205ms/step - loss: 7.4870 - accuracy: 0.5091 - val_loss: 5.5914 - val_accuracy: 0.6333\n",
            "Epoch 46/50\n",
            "14/14 [==============================] - 3s 206ms/step - loss: 7.6666 - accuracy: 0.5000 - val_loss: 5.5914 - val_accuracy: 0.6333\n",
            "Epoch 47/50\n",
            "14/14 [==============================] - 3s 211ms/step - loss: 7.5814 - accuracy: 0.5000 - val_loss: 5.5914 - val_accuracy: 0.6333\n",
            "Epoch 48/50\n",
            "14/14 [==============================] - 3s 212ms/step - loss: 7.3928 - accuracy: 0.5179 - val_loss: 5.5914 - val_accuracy: 0.6333\n",
            "Epoch 49/50\n",
            "14/14 [==============================] - 3s 208ms/step - loss: 7.8039 - accuracy: 0.4907 - val_loss: 5.5914 - val_accuracy: 0.6333\n",
            "Epoch 50/50\n",
            "14/14 [==============================] - 3s 210ms/step - loss: 6.8442 - accuracy: 0.5545 - val_loss: 5.5914 - val_accuracy: 0.6333\n"
          ],
          "name": "stdout"
        }
      ]
    },
    {
      "cell_type": "code",
      "metadata": {
        "id": "5n9TH2NZuvjE",
        "colab_type": "code",
        "colab": {
          "base_uri": "https://localhost:8080/",
          "height": 545
        },
        "outputId": "e9da932d-6160-4559-d229-59d8284b35c4"
      },
      "source": [
        "acc = history.history['accuracy']\n",
        "val_acc = history.history['val_accuracy']\n",
        "loss = history.history['loss']\n",
        "val_loss = history.history['val_loss']\n",
        "epochs = range(1, len(acc) + 1)\n",
        "#Train and validation accuracy\n",
        "plt.plot(epochs, acc, 'b', label='Training accurarcy')\n",
        "plt.plot(epochs, val_acc, 'r', label='Validation accurarcy')\n",
        "plt.title('Training and Validation accurarcy')\n",
        "plt.legend()\n",
        "\n",
        "plt.figure()\n",
        "#Train and validation loss\n",
        "plt.plot(epochs, loss, 'b', label='Training loss')\n",
        "plt.plot(epochs, val_loss, 'r', label='Validation loss')\n",
        "plt.title('Training and Validation loss')\n",
        "plt.legend()\n",
        "plt.show()"
      ],
      "execution_count": 17,
      "outputs": [
        {
          "output_type": "display_data",
          "data": {
            "image/png": "[encoded data removed]",
            "text/plain": [
              "<Figure size 432x288 with 1 Axes>"
            ]
          },
          "metadata": {
            "tags": [],
            "needs_background": "light"
          }
        },
        {
          "output_type": "display_data",
          "data": {
            "image/png": "[encoded data removed]",
            "text/plain": [
              "<Figure size 432x288 with 1 Axes>"
            ]
          },
          "metadata": {
            "tags": [],
            "needs_background": "light"
          }
        }
      ]
    },
    {
      "cell_type": "code",
      "metadata": {
        "id": "GE1eeRp3u1Tx",
        "colab_type": "code",
        "colab": {
          "base_uri": "https://localhost:8080/",
          "height": 50
        },
        "outputId": "ebd77a2e-b2ca-4ded-d607-5ce596caaf0b"
      },
      "source": [
        "scores = model.evaluate(x_test, y_test)\n",
        "print(f\"Test Accuracy: {scores[1]*100}\")"
      ],
      "execution_count": 18,
      "outputs": [
        {
          "output_type": "stream",
          "text": [
            "\r30/30 [==============================] - 2s 73ms/step\n",
            "Test Accuracy: 63.333332538604736\n"
          ],
          "name": "stdout"
        }
      ]
    }
  ]
}