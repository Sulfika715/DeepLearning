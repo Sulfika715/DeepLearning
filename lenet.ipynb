{
  "nbformat": 4,
  "nbformat_minor": 0,
  "metadata": {
    "colab": {
      "name": "lenet.ipynb",
      "provenance": [],
      "collapsed_sections": [],
      "authorship_tag": "ABX9TyOkR4if8dkkg9liPGOndom7",
      "include_colab_link": true
    },
    "kernelspec": {
      "name": "python3",
      "display_name": "Python 3"
    }
  },
  "cells": [
    {
      "cell_type": "markdown",
      "metadata": {
        "id": "view-in-github",
        "colab_type": "text"
      },
      "source": [
        "<a href=\"https://colab.research.google.com/github/Sulfika715/DeepLearning/blob/master/lenet.ipynb\" target=\"_parent\"><img src=\"https://colab.research.google.com/assets/colab-badge.svg\" alt=\"Open In Colab\"/></a>"
      ]
    },
    {
      "cell_type": "code",
      "metadata": {
        "id": "qJuTLaAsEIlB",
        "colab_type": "code",
        "colab": {}
      },
      "source": [
        "from keras.models import Sequential\n",
        "from keras.layers import Conv2D, MaxPooling2D, Flatten, Dropout, Dense, Activation\n",
        "from keras.datasets import mnist\n",
        "from keras import backend as k\n",
        "from keras.utils import np_utils\n",
        "import numpy as np````````````````````````````````````````````````````````````````````````````````````````````````````````````````````````````````````````````````````````````````````````````````````````````````````````````````````````````````````````````````````````````````````````````````````````````````````````````````````````````````````````````````````````````````````````````````````````````````````````````````````````````````````````````````````````````````````````````````````````````````````````````````````````````````````````````````````````````````````````````````````````````````````````````````````````````````````````````````` `````````````````````````````````````````````````````````````           `````````````````````````````````````````````````````````````````````````````````````````````````````````````````````````````````````````````````````````````````````````````````````````````````````````````````````````````````````````````````````````````````````````````````````````````````````````````````````````````````````````````````````````````````````````````````````````````````````````````````````````````````````````"
      ],
      "execution_count": 0,
      "outputs": []
    },
    {
      "cell_type": "code",
      "metadata": {
        "id": "DCm83hpTFRg-",
        "colab_type": "code",
        "colab": {}
      },
      "source": [
        "class LeNet:\n",
        "    @staticmethod\n",
        "    def build(input_shape, classes):\n",
        "        # Menentukan model yang akan digunakan\n",
        "        model = Sequential()\n",
        "        # Menambahkan Layers\n",
        "        model.add(Conv2D(20, kernel_size=5, activation='relu', padding='same', input_shape=input_shape))\n",
        "        model.add(MaxPooling2D(pool_size=(2,2), strides=(2,2)))\n",
        "        model.add(Conv2D(50, kernel_size=5, border_mode='same', activation='relu'))\n",
        "        model.add(MaxPooling2D(pool_size=(2,2), strides=(2,2)))\n",
        "        model.add(Flatten())\n",
        "        model.add(Dense(500, activation='relu'))\n",
        "        model.add(Dense(classes, activation='softmax'))\n",
        "        return model"
      ],
      "execution_count": 0,
      "outputs": []
    },
    {
      "cell_type": "code",
      "metadata": {
        "id": "i-tTL2DMFkXA",
        "colab_type": "code",
        "colab": {}
      },
      "source": [
        "# Hyperparameter\n",
        "BATCH_SIZE=128\n",
        "EPOCHS = 50\n",
        "IP_SHAPE = (1, 28, 28)\n",
        "k.common.image_dim_ordering()\n",
        "k.common.set_image_dim_ordering('th')"
      ],
      "execution_count": 0,
      "outputs": []
    },
    {
      "cell_type": "code",
      "metadata": {
        "id": "FCHzZWRyFq7a",
        "colab_type": "code",
        "colab": {
          "base_uri": "https://localhost:8080/",
          "height": 52
        },
        "outputId": "318debdd-529f-4a45-992c-0a2e93c730fd"
      },
      "source": [
        "# Loading dan preprocessing dataset\n",
        "(X_train, y_train), (X_test, y_test) = mnist.load_data()\n",
        "X_train = X_train.astype('float32')\n",
        "X_test = X_test.astype('float32')\n",
        "X_train /= 255\n",
        "X_test /= 255\n",
        "X_train = X_train[:, np.newaxis, :, :]\n",
        "X_test = X_test[:, np.newaxis, :, :]\n",
        "y_train = np_utils.to_categorical(y_train, 10)\n",
        "y_test = np_utils.to_categorical(y_test, 10)\n"
      ],
      "execution_count": 13,
      "outputs": [
        {
          "output_type": "stream",
          "text": [
            "Downloading data from https://s3.amazonaws.com/img-datasets/mnist.npz\n",
            "11493376/11490434 [==============================] - 0s 0us/step\n"
          ],
          "name": "stdout"
        }
      ]
    },
    {
      "cell_type": "code",
      "metadata": {
        "id": "pUKyj2B3FyZt",
        "colab_type": "code",
        "colab": {
          "base_uri": "https://localhost:8080/",
          "height": 1000
        },
        "outputId": "41d708ce-88d7-42e8-ebda-f00cf17cd0be"
      },
      "source": [
        "# Membuat Model\n",
        "model = LeNet.build(input_shape=IP_SHAPE, classes=10)\n",
        "model.compile(loss='categorical_crossentropy', optimizer='adam', metrics=['accuracy'])\n",
        "history=model.fit(X_train, y_train, batch_size=BATCH_SIZE, epochs=EPOCHS, verbose=True, validation_split=0.25)\n",
        "score=model.evaluate(X_test, y_test, verbose=True)\n",
        "print(\"Test Score : \", score[0])\n",
        "print(\"Test Accuracy : \", score[1])\n",
        "print(history.history.keys())\n"
      ],
      "execution_count": 14,
      "outputs": [
        {
          "output_type": "stream",
          "text": [
            "WARNING:tensorflow:From /usr/local/lib/python3.6/dist-packages/keras/backend/tensorflow_backend.py:66: The name tf.get_default_graph is deprecated. Please use tf.compat.v1.get_default_graph instead.\n",
            "\n",
            "WARNING:tensorflow:From /usr/local/lib/python3.6/dist-packages/keras/backend/tensorflow_backend.py:541: The name tf.placeholder is deprecated. Please use tf.compat.v1.placeholder instead.\n",
            "\n",
            "WARNING:tensorflow:From /usr/local/lib/python3.6/dist-packages/keras/backend/tensorflow_backend.py:4432: The name tf.random_uniform is deprecated. Please use tf.random.uniform instead.\n",
            "\n",
            "WARNING:tensorflow:From /usr/local/lib/python3.6/dist-packages/keras/backend/tensorflow_backend.py:190: The name tf.get_default_session is deprecated. Please use tf.compat.v1.get_default_session instead.\n",
            "\n",
            "WARNING:tensorflow:From /usr/local/lib/python3.6/dist-packages/keras/backend/tensorflow_backend.py:197: The name tf.ConfigProto is deprecated. Please use tf.compat.v1.ConfigProto instead.\n",
            "\n",
            "WARNING:tensorflow:From /usr/local/lib/python3.6/dist-packages/keras/backend/tensorflow_backend.py:203: The name tf.Session is deprecated. Please use tf.compat.v1.Session instead.\n",
            "\n",
            "WARNING:tensorflow:From /usr/local/lib/python3.6/dist-packages/keras/backend/tensorflow_backend.py:207: The name tf.global_variables is deprecated. Please use tf.compat.v1.global_variables instead.\n",
            "\n",
            "WARNING:tensorflow:From /usr/local/lib/python3.6/dist-packages/keras/backend/tensorflow_backend.py:216: The name tf.is_variable_initialized is deprecated. Please use tf.compat.v1.is_variable_initialized instead.\n",
            "\n",
            "WARNING:tensorflow:From /usr/local/lib/python3.6/dist-packages/keras/backend/tensorflow_backend.py:223: The name tf.variables_initializer is deprecated. Please use tf.compat.v1.variables_initializer instead.\n",
            "\n",
            "WARNING:tensorflow:From /usr/local/lib/python3.6/dist-packages/keras/backend/tensorflow_backend.py:4267: The name tf.nn.max_pool is deprecated. Please use tf.nn.max_pool2d instead.\n",
            "\n",
            "WARNING:tensorflow:From /usr/local/lib/python3.6/dist-packages/keras/optimizers.py:793: The name tf.train.Optimizer is deprecated. Please use tf.compat.v1.train.Optimizer instead.\n",
            "\n",
            "WARNING:tensorflow:From /usr/local/lib/python3.6/dist-packages/keras/backend/tensorflow_backend.py:3576: The name tf.log is deprecated. Please use tf.math.log instead.\n",
            "\n",
            "WARNING:tensorflow:From /usr/local/lib/python3.6/dist-packages/tensorflow_core/python/ops/math_grad.py:1424: where (from tensorflow.python.ops.array_ops) is deprecated and will be removed in a future version.\n",
            "Instructions for updating:\n",
            "Use tf.where in 2.0, which has the same broadcast rule as np.where\n"
          ],
          "name": "stdout"
        },
        {
          "output_type": "stream",
          "text": [
            "/usr/local/lib/python3.6/dist-packages/ipykernel_launcher.py:9: UserWarning: Update your `Conv2D` call to the Keras 2 API: `Conv2D(50, kernel_size=5, activation=\"relu\", padding=\"same\")`\n",
            "  if __name__ == '__main__':\n"
          ],
          "name": "stderr"
        },
        {
          "output_type": "stream",
          "text": [
            "WARNING:tensorflow:From /usr/local/lib/python3.6/dist-packages/keras/backend/tensorflow_backend.py:1033: The name tf.assign_add is deprecated. Please use tf.compat.v1.assign_add instead.\n",
            "\n",
            "WARNING:tensorflow:From /usr/local/lib/python3.6/dist-packages/keras/backend/tensorflow_backend.py:1020: The name tf.assign is deprecated. Please use tf.compat.v1.assign instead.\n",
            "\n",
            "Train on 45000 samples, validate on 15000 samples\n",
            "Epoch 1/50\n",
            "45000/45000 [==============================] - 100s 2ms/step - loss: 0.1897 - acc: 0.9426 - val_loss: 0.0655 - val_acc: 0.9801\n",
            "Epoch 2/50\n",
            "45000/45000 [==============================] - 100s 2ms/step - loss: 0.0485 - acc: 0.9853 - val_loss: 0.0521 - val_acc: 0.9839\n",
            "Epoch 3/50\n",
            "45000/45000 [==============================] - 99s 2ms/step - loss: 0.0329 - acc: 0.9897 - val_loss: 0.0416 - val_acc: 0.9879\n",
            "Epoch 4/50\n",
            "45000/45000 [==============================] - 100s 2ms/step - loss: 0.0238 - acc: 0.9923 - val_loss: 0.0408 - val_acc: 0.9884\n",
            "Epoch 5/50\n",
            "45000/45000 [==============================] - 100s 2ms/step - loss: 0.0176 - acc: 0.9948 - val_loss: 0.0364 - val_acc: 0.9894\n",
            "Epoch 6/50\n",
            "45000/45000 [==============================] - 99s 2ms/step - loss: 0.0135 - acc: 0.9956 - val_loss: 0.0409 - val_acc: 0.9883\n",
            "Epoch 7/50\n",
            "45000/45000 [==============================] - 100s 2ms/step - loss: 0.0111 - acc: 0.9965 - val_loss: 0.0430 - val_acc: 0.9879\n",
            "Epoch 8/50\n",
            "45000/45000 [==============================] - 99s 2ms/step - loss: 0.0100 - acc: 0.9966 - val_loss: 0.0491 - val_acc: 0.9868\n",
            "Epoch 9/50\n",
            "45000/45000 [==============================] - 99s 2ms/step - loss: 0.0094 - acc: 0.9970 - val_loss: 0.0382 - val_acc: 0.9895\n",
            "Epoch 10/50\n",
            "45000/45000 [==============================] - 100s 2ms/step - loss: 0.0066 - acc: 0.9977 - val_loss: 0.0385 - val_acc: 0.9906\n",
            "Epoch 11/50\n",
            "45000/45000 [==============================] - 100s 2ms/step - loss: 0.0040 - acc: 0.9988 - val_loss: 0.0461 - val_acc: 0.9888\n",
            "Epoch 12/50\n",
            "45000/45000 [==============================] - 99s 2ms/step - loss: 0.0078 - acc: 0.9976 - val_loss: 0.0531 - val_acc: 0.9863\n",
            "Epoch 13/50\n",
            "45000/45000 [==============================] - 99s 2ms/step - loss: 0.0055 - acc: 0.9980 - val_loss: 0.0760 - val_acc: 0.9835\n",
            "Epoch 14/50\n",
            "45000/45000 [==============================] - 99s 2ms/step - loss: 0.0072 - acc: 0.9974 - val_loss: 0.0471 - val_acc: 0.9890\n",
            "Epoch 15/50\n",
            "45000/45000 [==============================] - 99s 2ms/step - loss: 0.0031 - acc: 0.9991 - val_loss: 0.0483 - val_acc: 0.9893\n",
            "Epoch 16/50\n",
            "45000/45000 [==============================] - 99s 2ms/step - loss: 0.0038 - acc: 0.9987 - val_loss: 0.0455 - val_acc: 0.9899\n",
            "Epoch 17/50\n",
            "45000/45000 [==============================] - 99s 2ms/step - loss: 0.0025 - acc: 0.9993 - val_loss: 0.0484 - val_acc: 0.9901\n",
            "Epoch 18/50\n",
            "45000/45000 [==============================] - 100s 2ms/step - loss: 0.0053 - acc: 0.9984 - val_loss: 0.0501 - val_acc: 0.9893\n",
            "Epoch 19/50\n",
            "45000/45000 [==============================] - 100s 2ms/step - loss: 0.0056 - acc: 0.9983 - val_loss: 0.0599 - val_acc: 0.9879\n",
            "Epoch 20/50\n",
            "45000/45000 [==============================] - 100s 2ms/step - loss: 0.0036 - acc: 0.9988 - val_loss: 0.0464 - val_acc: 0.9901\n",
            "Epoch 21/50\n",
            "45000/45000 [==============================] - 99s 2ms/step - loss: 0.0049 - acc: 0.9985 - val_loss: 0.0697 - val_acc: 0.9855\n",
            "Epoch 22/50\n",
            "45000/45000 [==============================] - 99s 2ms/step - loss: 0.0035 - acc: 0.9991 - val_loss: 0.0455 - val_acc: 0.9903\n",
            "Epoch 23/50\n",
            "45000/45000 [==============================] - 98s 2ms/step - loss: 4.6321e-04 - acc: 0.9999 - val_loss: 0.0481 - val_acc: 0.9912\n",
            "Epoch 24/50\n",
            "45000/45000 [==============================] - 95s 2ms/step - loss: 1.2282e-04 - acc: 1.0000 - val_loss: 0.0483 - val_acc: 0.9914\n",
            "Epoch 25/50\n",
            "45000/45000 [==============================] - 94s 2ms/step - loss: 1.5539e-05 - acc: 1.0000 - val_loss: 0.0489 - val_acc: 0.9913\n",
            "Epoch 26/50\n",
            "45000/45000 [==============================] - 95s 2ms/step - loss: 9.7810e-06 - acc: 1.0000 - val_loss: 0.0493 - val_acc: 0.9915\n",
            "Epoch 27/50\n",
            "45000/45000 [==============================] - 95s 2ms/step - loss: 7.1228e-06 - acc: 1.0000 - val_loss: 0.0499 - val_acc: 0.9916\n",
            "Epoch 28/50\n",
            "45000/45000 [==============================] - 96s 2ms/step - loss: 5.6375e-06 - acc: 1.0000 - val_loss: 0.0507 - val_acc: 0.9916\n",
            "Epoch 29/50\n",
            "45000/45000 [==============================] - 98s 2ms/step - loss: 4.3902e-06 - acc: 1.0000 - val_loss: 0.0514 - val_acc: 0.9917\n",
            "Epoch 30/50\n",
            "45000/45000 [==============================] - 98s 2ms/step - loss: 3.5124e-06 - acc: 1.0000 - val_loss: 0.0520 - val_acc: 0.9917\n",
            "Epoch 31/50\n",
            "45000/45000 [==============================] - 97s 2ms/step - loss: 2.8554e-06 - acc: 1.0000 - val_loss: 0.0529 - val_acc: 0.9918\n",
            "Epoch 32/50\n",
            "45000/45000 [==============================] - 96s 2ms/step - loss: 2.3145e-06 - acc: 1.0000 - val_loss: 0.0534 - val_acc: 0.9917\n",
            "Epoch 33/50\n",
            "45000/45000 [==============================] - 96s 2ms/step - loss: 1.9153e-06 - acc: 1.0000 - val_loss: 0.0541 - val_acc: 0.9917\n",
            "Epoch 34/50\n",
            "45000/45000 [==============================] - 96s 2ms/step - loss: 1.5916e-06 - acc: 1.0000 - val_loss: 0.0547 - val_acc: 0.9917\n",
            "Epoch 35/50\n",
            "45000/45000 [==============================] - 95s 2ms/step - loss: 1.3333e-06 - acc: 1.0000 - val_loss: 0.0553 - val_acc: 0.9918\n",
            "Epoch 36/50\n",
            "45000/45000 [==============================] - 95s 2ms/step - loss: 1.1247e-06 - acc: 1.0000 - val_loss: 0.0560 - val_acc: 0.9918\n",
            "Epoch 37/50\n",
            "45000/45000 [==============================] - 95s 2ms/step - loss: 9.5269e-07 - acc: 1.0000 - val_loss: 0.0564 - val_acc: 0.9918\n",
            "Epoch 38/50\n",
            "45000/45000 [==============================] - 96s 2ms/step - loss: 8.0269e-07 - acc: 1.0000 - val_loss: 0.0571 - val_acc: 0.9919\n",
            "Epoch 39/50\n",
            "45000/45000 [==============================] - 99s 2ms/step - loss: 6.9041e-07 - acc: 1.0000 - val_loss: 0.0576 - val_acc: 0.9919\n",
            "Epoch 40/50\n",
            "45000/45000 [==============================] - 98s 2ms/step - loss: 5.9555e-07 - acc: 1.0000 - val_loss: 0.0582 - val_acc: 0.9920\n",
            "Epoch 41/50\n",
            "45000/45000 [==============================] - 99s 2ms/step - loss: 5.1567e-07 - acc: 1.0000 - val_loss: 0.0588 - val_acc: 0.9919\n",
            "Epoch 42/50\n",
            "45000/45000 [==============================] - 99s 2ms/step - loss: 4.5272e-07 - acc: 1.0000 - val_loss: 0.0592 - val_acc: 0.9920\n",
            "Epoch 43/50\n",
            "45000/45000 [==============================] - 99s 2ms/step - loss: 3.9721e-07 - acc: 1.0000 - val_loss: 0.0599 - val_acc: 0.9919\n",
            "Epoch 44/50\n",
            "45000/45000 [==============================] - 100s 2ms/step - loss: 3.5389e-07 - acc: 1.0000 - val_loss: 0.0604 - val_acc: 0.9919\n",
            "Epoch 45/50\n",
            "45000/45000 [==============================] - 99s 2ms/step - loss: 3.1286e-07 - acc: 1.0000 - val_loss: 0.0610 - val_acc: 0.9919\n",
            "Epoch 46/50\n",
            "45000/45000 [==============================] - 99s 2ms/step - loss: 2.7702e-07 - acc: 1.0000 - val_loss: 0.0612 - val_acc: 0.9918\n",
            "Epoch 47/50\n",
            "45000/45000 [==============================] - 98s 2ms/step - loss: 2.5702e-07 - acc: 1.0000 - val_loss: 0.0618 - val_acc: 0.9920\n",
            "Epoch 48/50\n",
            "45000/45000 [==============================] - 95s 2ms/step - loss: 2.3361e-07 - acc: 1.0000 - val_loss: 0.0625 - val_acc: 0.9919\n",
            "Epoch 49/50\n",
            "45000/45000 [==============================] - 98s 2ms/step - loss: 2.1367e-07 - acc: 1.0000 - val_loss: 0.0629 - val_acc: 0.9919\n",
            "Epoch 50/50\n",
            "45000/45000 [==============================] - 96s 2ms/step - loss: 1.9872e-07 - acc: 1.0000 - val_loss: 0.0635 - val_acc: 0.9919\n",
            "10000/10000 [==============================] - 7s 690us/step\n",
            "Test Score :  0.037895281676223115\n",
            "Test Accuracy :  0.9944\n",
            "dict_keys(['val_loss', 'val_acc', 'loss', 'acc'])\n"
          ],
          "name": "stdout"
        }
      ]
    },
    {
      "cell_type": "code",
      "metadata": {
        "id": "nPC46xXhY5Fc",
        "colab_type": "code",
        "colab": {
          "base_uri": "https://localhost:8080/",
          "height": 294
        },
        "outputId": "ed7465a6-8331-4d65-c66f-35f147b2238c"
      },
      "source": [
        "# Visualisasi Akurasi\n",
        "plt.plot(history.history['acc'])\n",
        "plt.plot(history.history['val_acc'])\n",
        "plt.title(\"LeNet Model Accuracy\")\n",
        "plt.ylabel('Accuracy')\n",
        "plt.xlabel('Number of Epochs')\n",
        "plt.legend(['train', 'test'], loc='upper left')\n",
        "plt.show()"
      ],
      "execution_count": 15,
      "outputs": [
        {
          "output_type": "display_data",
          "data": {
            "image/png": "[encoded data removed]",
            "text/plain": [
              "<Figure size 432x288 with 1 Axes>"
            ]
          },
          "metadata": {
            "tags": []
          }
        }
      ]
    }
  ]
}