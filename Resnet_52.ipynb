{
  "nbformat": 4,
  "nbformat_minor": 0,
  "metadata": {
    "colab": {
      "name": "Resnet_52.ipynb",
      "provenance": [],
      "authorship_tag": "ABX9TyM9WdA9hWb1zePeefT8Yt60",
      "include_colab_link": true
    },
    "kernelspec": {
      "name": "python3",
      "display_name": "Python 3"
    },
    "accelerator": "GPU"
  },
  "cells": [
    {
      "cell_type": "markdown",
      "metadata": {
        "id": "view-in-github",
        "colab_type": "text"
      },
      "source": [
        "<a href=\"https://colab.research.google.com/github/Sulfika715/DeepLearning/blob/master/Resnet_52.ipynb\" target=\"_parent\"><img src=\"https://colab.research.google.com/assets/colab-badge.svg\" alt=\"Open In Colab\"/></a>"
      ]
    },
    {
      "cell_type": "code",
      "metadata": {
        "id": "pcvlaGjZGi78",
        "colab_type": "code",
        "colab": {
          "base_uri": "https://localhost:8080/",
          "height": 34
        },
        "outputId": "168f167a-63c4-4a65-8315-c7af022f7b1b"
      },
      "source": [
        "from google.colab import drive\n",
        "drive.mount('/content/drive')"
      ],
      "execution_count": 1,
      "outputs": [
        {
          "output_type": "stream",
          "text": [
            "Drive already mounted at /content/drive; to attempt to forcibly remount, call drive.mount(\"/content/drive\", force_remount=True).\n"
          ],
          "name": "stdout"
        }
      ]
    },
    {
      "cell_type": "code",
      "metadata": {
        "id": "SeiNAY7AHGHV",
        "colab_type": "code",
        "colab": {
          "base_uri": "https://localhost:8080/",
          "height": 34
        },
        "outputId": "212c9f04-f69e-4163-d1e7-1da3fd8d0757"
      },
      "source": [
        "%cd drive/'My Drive'"
      ],
      "execution_count": 2,
      "outputs": [
        {
          "output_type": "stream",
          "text": [
            "/content/drive/My Drive\n"
          ],
          "name": "stdout"
        }
      ]
    },
    {
      "cell_type": "code",
      "metadata": {
        "id": "P6yDxzciHhCt",
        "colab_type": "code",
        "colab": {
          "base_uri": "https://localhost:8080/",
          "height": 81
        },
        "outputId": "c0661ae6-822a-464d-d3dd-b23c693336d6"
      },
      "source": [
        "import numpy as np\n",
        "import pickle\n",
        "import cv2\n",
        "import keras\n",
        "from os import listdir\n",
        "from sklearn.preprocessing import LabelBinarizer\n",
        "from keras.models import Sequential\n",
        "from keras.layers.normalization import BatchNormalization\n",
        "from keras.layers.convolutional import Conv2D\n",
        "from keras.layers.convolutional import MaxPooling2D\n",
        "from keras.layers.core import Activation, Flatten, Dropout, Dense\n",
        "from keras import backend as K\n",
        "from keras.preprocessing.image import ImageDataGenerator\n",
        "from keras.optimizers import Adam\n",
        "from keras.models import Model\n",
        "from keras.preprocessing import image\n",
        "from keras.preprocessing.image import img_to_array\n",
        "from sklearn.preprocessing import MultiLabelBinarizer\n",
        "from sklearn.model_selection import train_test_split\n",
        "import matplotlib.pyplot as plt\n",
        "\n",
        "\n",
        "from keras.applications.resnet import ResNet152"
      ],
      "execution_count": 3,
      "outputs": [
        {
          "output_type": "stream",
          "text": [
            "Using TensorFlow backend.\n"
          ],
          "name": "stderr"
        },
        {
          "output_type": "display_data",
          "data": {
            "text/html": [
              "<p style=\"color: red;\">\n",
              "The default version of TensorFlow in Colab will soon switch to TensorFlow 2.x.<br>\n",
              "We recommend you <a href=\"https://www.tensorflow.org/guide/migrate\" target=\"_blank\">upgrade</a> now \n",
              "or ensure your notebook will continue to use TensorFlow 1.x via the <code>%tensorflow_version 1.x</code> magic:\n",
              "<a href=\"https://colab.research.google.com/notebooks/tensorflow_version.ipynb\" target=\"_blank\">more info</a>.</p>\n"
            ],
            "text/plain": [
              "<IPython.core.display.HTML object>"
            ]
          },
          "metadata": {
            "tags": []
          }
        }
      ]
    },
    {
      "cell_type": "code",
      "metadata": {
        "id": "kLZ6rmywVTYy",
        "colab_type": "code",
        "colab": {}
      },
      "source": [
        ""
      ],
      "execution_count": 0,
      "outputs": []
    },
    {
      "cell_type": "code",
      "metadata": {
        "id": "YY5qOVksHoQR",
        "colab_type": "code",
        "colab": {}
      },
      "source": [
        "EPOCHS = 50\n",
        "INIT_LR = 1e-3\n",
        "BS = 32\n",
        "default_image_size = tuple((224, 224))\n",
        "image_size = 0\n",
        "directory_root = './dataset/'\n",
        "width=224\n",
        "height=224\n",
        "depth=3"
      ],
      "execution_count": 0,
      "outputs": []
    },
    {
      "cell_type": "code",
      "metadata": {
        "id": "qLNjbN-QHvNW",
        "colab_type": "code",
        "colab": {}
      },
      "source": [
        "def convert_image_to_array(image_dir):\n",
        "    try:\n",
        "        image = cv2.imread(image_dir)\n",
        "        if image is not None :\n",
        "            image = cv2.resize(image, default_image_size)   \n",
        "            return img_to_array(image)\n",
        "        else :\n",
        "            return np.array([])\n",
        "    except Exception as e:\n",
        "        print(f\"Error : {e}\")\n",
        "        return None"
      ],
      "execution_count": 0,
      "outputs": []
    },
    {
      "cell_type": "code",
      "metadata": {
        "id": "4HloPujrIFxu",
        "colab_type": "code",
        "colab": {
          "base_uri": "https://localhost:8080/",
          "height": 156
        },
        "outputId": "53c1a86b-e92a-421f-b87c-4781388a93f2"
      },
      "source": [
        "image_list, label_list = [], []\n",
        "try:\n",
        "    print(\"[INFO] Loading images ...\")\n",
        "    root_dir = listdir(directory_root)\n",
        "    for directory in root_dir :\n",
        "        # remove .DS_Store from list\n",
        "        if directory == \".DS_Store\" :\n",
        "            root_dir.remove(directory)\n",
        "\n",
        "    for plant_folder in root_dir :\n",
        "        plant_disease_folder_list = listdir(f\"{directory_root}/{plant_folder}\")\n",
        "        \n",
        "        for disease_folder in plant_disease_folder_list :\n",
        "            # remove .DS_Store from list\n",
        "            if disease_folder == \".DS_Store\" :\n",
        "                plant_disease_folder_list.remove(disease_folder)\n",
        "\n",
        "        for plant_disease_folder in plant_disease_folder_list:\n",
        "            print(f\"[INFO] Processing {plant_disease_folder} ...\")\n",
        "            plant_disease_image_list = listdir(f\"{directory_root}/{plant_folder}/{plant_disease_folder}/\")\n",
        "                \n",
        "            for single_plant_disease_image in plant_disease_image_list :\n",
        "                if single_plant_disease_image == \".DS_Store\" :\n",
        "                    plant_disease_image_list.remove(single_plant_disease_image)\n",
        "\n",
        "            for image in plant_disease_image_list[:200]:\n",
        "                image_directory = f\"{directory_root}/{plant_folder}/{plant_disease_folder}/{image}\"\n",
        "                if image_directory.endswith(\".jpg\") == True or image_directory.endswith(\".JPG\") == True:\n",
        "                    image_list.append(convert_image_to_array(image_directory))\n",
        "                    label_list.append(plant_disease_folder)\n",
        "    print(\"[INFO] Image loading completed\")  \n",
        "except Exception as e:\n",
        "    print(f\"Error : {e}\")"
      ],
      "execution_count": 6,
      "outputs": [
        {
          "output_type": "stream",
          "text": [
            "[INFO] Loading images ...\n",
            "[INFO] Processing Tomato___Bacterial_spot ...\n",
            "[INFO] Processing Tomato___Early_blight ...\n",
            "[INFO] Processing Tomato___Late_blight ...\n",
            "[INFO] Processing Tomato___Leaf_Mold ...\n",
            "[INFO] Processing Tomato___Septoria_leaf_spot ...\n",
            "[INFO] Processing Tomato___Tomato_Yellow_Leaf_Curl_Virus ...\n",
            "[INFO] Image loading completed\n"
          ],
          "name": "stdout"
        }
      ]
    },
    {
      "cell_type": "code",
      "metadata": {
        "id": "kxiRbwfYLrUM",
        "colab_type": "code",
        "colab": {}
      },
      "source": [
        "image_size = len(image_list)"
      ],
      "execution_count": 0,
      "outputs": []
    },
    {
      "cell_type": "code",
      "metadata": {
        "id": "9T8VMW-GL0jv",
        "colab_type": "code",
        "colab": {
          "base_uri": "https://localhost:8080/",
          "height": 34
        },
        "outputId": "522687e1-7958-4518-df73-2eb5d7ff259a"
      },
      "source": [
        "print(image_size)"
      ],
      "execution_count": 8,
      "outputs": [
        {
          "output_type": "stream",
          "text": [
            "1200\n"
          ],
          "name": "stdout"
        }
      ]
    },
    {
      "cell_type": "code",
      "metadata": {
        "id": "P8HkooyAL5Mj",
        "colab_type": "code",
        "colab": {}
      },
      "source": [
        "label_binarizer = LabelBinarizer()\n",
        "image_labels = label_binarizer.fit_transform(label_list)\n",
        "pickle.dump(label_binarizer,open('label_transform.pkl', 'wb'))\n",
        "n_classes = len(label_binarizer.classes_)"
      ],
      "execution_count": 0,
      "outputs": []
    },
    {
      "cell_type": "code",
      "metadata": {
        "id": "2LSqA6TXL-Mj",
        "colab_type": "code",
        "colab": {
          "base_uri": "https://localhost:8080/",
          "height": 69
        },
        "outputId": "04b85a8f-8663-4fef-cf85-5f255b5d9b95"
      },
      "source": [
        "print(label_binarizer.classes_)"
      ],
      "execution_count": 10,
      "outputs": [
        {
          "output_type": "stream",
          "text": [
            "['Tomato___Bacterial_spot' 'Tomato___Early_blight' 'Tomato___Late_blight'\n",
            " 'Tomato___Leaf_Mold' 'Tomato___Septoria_leaf_spot'\n",
            " 'Tomato___Tomato_Yellow_Leaf_Curl_Virus']\n"
          ],
          "name": "stdout"
        }
      ]
    },
    {
      "cell_type": "code",
      "metadata": {
        "id": "cuMCxdM9MD7x",
        "colab_type": "code",
        "colab": {}
      },
      "source": [
        "np_image_list = np.array(image_list, dtype=np.float16) / 225.0"
      ],
      "execution_count": 0,
      "outputs": []
    },
    {
      "cell_type": "code",
      "metadata": {
        "id": "AwT_hJotMJQt",
        "colab_type": "code",
        "colab": {
          "base_uri": "https://localhost:8080/",
          "height": 34
        },
        "outputId": "f0ac5577-d98f-45a9-ad13-19ae6ef52e31"
      },
      "source": [
        "print(\"[INFO] Spliting data to train, test\")\n",
        "x_train, x_test, y_train, y_test = train_test_split(np_image_list, image_labels, test_size=0.2, random_state = 42) "
      ],
      "execution_count": 12,
      "outputs": [
        {
          "output_type": "stream",
          "text": [
            "[INFO] Spliting data to train, test\n"
          ],
          "name": "stdout"
        }
      ]
    },
    {
      "cell_type": "code",
      "metadata": {
        "id": "rZCEMz9mMMAd",
        "colab_type": "code",
        "colab": {}
      },
      "source": [
        "aug = ImageDataGenerator(\n",
        "    rotation_range=25, width_shift_range=0.1,\n",
        "    height_shift_range=0.1, shear_range=0.2, \n",
        "    zoom_range=0.2,horizontal_flip=True, \n",
        "    fill_mode=\"nearest\")"
      ],
      "execution_count": 0,
      "outputs": []
    },
    {
      "cell_type": "code",
      "metadata": {
        "id": "I0vBb_cnMSvw",
        "colab_type": "code",
        "colab": {
          "base_uri": "https://localhost:8080/",
          "height": 52
        },
        "outputId": "5d02146f-77a9-466e-aa44-7b89b938858f"
      },
      "source": [
        "input_shape = (height, width, depth)\n",
        "\n",
        "restnet = ResNet152(include_top=False, weights='imagenet', input_shape=(height,width,3))\n",
        "output = restnet.layers[-1].output\n",
        "output = keras.layers.Flatten()(output)\n",
        "restnet = Model(restnet.input, output=output)\n",
        "\n",
        "for layer in restnet.layers:\n",
        "    layer.trainable = False\n",
        "  \n",
        "model = Sequential()\n",
        "model.add(restnet)\n",
        "model.add(Dense(512, activation='relu', input_dim=input_shape))\n",
        "model.add(Dropout(0.3))\n",
        "model.add(Dense(512, activation='relu'))\n",
        "model.add(Dropout(0.3))\n",
        "model.add(Dense(6, activation='softmax'))"
      ],
      "execution_count": 18,
      "outputs": [
        {
          "output_type": "stream",
          "text": [
            "/usr/local/lib/python3.6/dist-packages/ipykernel_launcher.py:6: UserWarning: Update your `Model` call to the Keras 2 API: `Model(Tensor(\"in..., outputs=Tensor(\"fl...)`\n",
            "  \n"
          ],
          "name": "stderr"
        }
      ]
    },
    {
      "cell_type": "code",
      "metadata": {
        "id": "ANroS4qQVhgA",
        "colab_type": "code",
        "colab": {
          "base_uri": "https://localhost:8080/",
          "height": 381
        },
        "outputId": "c547fe6e-33a3-4664-a4c4-5ee5c00819f4"
      },
      "source": [
        "print(model.summary())"
      ],
      "execution_count": 19,
      "outputs": [
        {
          "output_type": "stream",
          "text": [
            "Model: \"sequential_2\"\n",
            "_________________________________________________________________\n",
            "Layer (type)                 Output Shape              Param #   \n",
            "=================================================================\n",
            "model_2 (Model)              (None, 100352)            58370944  \n",
            "_________________________________________________________________\n",
            "dense_4 (Dense)              (None, 512)               51380736  \n",
            "_________________________________________________________________\n",
            "dropout_3 (Dropout)          (None, 512)               0         \n",
            "_________________________________________________________________\n",
            "dense_5 (Dense)              (None, 512)               262656    \n",
            "_________________________________________________________________\n",
            "dropout_4 (Dropout)          (None, 512)               0         \n",
            "_________________________________________________________________\n",
            "dense_6 (Dense)              (None, 6)                 3078      \n",
            "=================================================================\n",
            "Total params: 110,017,414\n",
            "Trainable params: 51,646,470\n",
            "Non-trainable params: 58,370,944\n",
            "_________________________________________________________________\n",
            "None\n"
          ],
          "name": "stdout"
        }
      ]
    },
    {
      "cell_type": "code",
      "metadata": {
        "id": "R12J_gNcVj3R",
        "colab_type": "code",
        "colab": {
          "base_uri": "https://localhost:8080/",
          "height": 34
        },
        "outputId": "5b855f19-ff73-4556-8f80-801ca66f076b"
      },
      "source": [
        "opt = Adam(lr=INIT_LR, decay=INIT_LR / EPOCHS)\n",
        "# distribution\n",
        "model.compile(loss=\"binary_crossentropy\", optimizer=opt,metrics=[\"accuracy\"])\n",
        "# train the network\n",
        "print(\"[INFO] training network...\")"
      ],
      "execution_count": 20,
      "outputs": [
        {
          "output_type": "stream",
          "text": [
            "[INFO] training network...\n"
          ],
          "name": "stdout"
        }
      ]
    },
    {
      "cell_type": "code",
      "metadata": {
        "id": "QQDNLK5rVp02",
        "colab_type": "code",
        "colab": {
          "base_uri": "https://localhost:8080/",
          "height": 1000
        },
        "outputId": "233eab73-b743-49cd-bb79-68b3ab6652ec"
      },
      "source": [
        "history = model.fit_generator(\n",
        "    aug.flow(x_train, y_train, batch_size=BS),\n",
        "    validation_data=(x_test, y_test),\n",
        "    steps_per_epoch=len(x_train) // BS,\n",
        "    epochs=EPOCHS, verbose=1\n",
        "    )"
      ],
      "execution_count": 21,
      "outputs": [
        {
          "output_type": "stream",
          "text": [
            "Epoch 1/50\n",
            "30/30 [==============================] - 53s 2s/step - loss: 3.7281 - acc: 0.7441 - val_loss: 4.5642 - val_acc: 0.7153\n",
            "Epoch 2/50\n",
            "30/30 [==============================] - 25s 831ms/step - loss: 4.4194 - acc: 0.7243 - val_loss: 4.5642 - val_acc: 0.7153\n",
            "Epoch 3/50\n",
            "30/30 [==============================] - 25s 832ms/step - loss: 4.4250 - acc: 0.7240 - val_loss: 4.5642 - val_acc: 0.7153\n",
            "Epoch 4/50\n",
            "30/30 [==============================] - 25s 830ms/step - loss: 4.4250 - acc: 0.7240 - val_loss: 4.5642 - val_acc: 0.7153\n",
            "Epoch 5/50\n",
            "30/30 [==============================] - 25s 830ms/step - loss: 4.4250 - acc: 0.7240 - val_loss: 4.5642 - val_acc: 0.7153\n",
            "Epoch 6/50\n",
            "30/30 [==============================] - 25s 829ms/step - loss: 4.4250 - acc: 0.7240 - val_loss: 4.5642 - val_acc: 0.7153\n",
            "Epoch 7/50\n",
            "30/30 [==============================] - 25s 830ms/step - loss: 4.4250 - acc: 0.7240 - val_loss: 4.5642 - val_acc: 0.7153\n",
            "Epoch 8/50\n",
            "30/30 [==============================] - 25s 831ms/step - loss: 4.4250 - acc: 0.7240 - val_loss: 4.5642 - val_acc: 0.7153\n",
            "Epoch 9/50\n",
            "30/30 [==============================] - 25s 831ms/step - loss: 4.4250 - acc: 0.7240 - val_loss: 4.5642 - val_acc: 0.7153\n",
            "Epoch 10/50\n",
            "30/30 [==============================] - 25s 829ms/step - loss: 4.4250 - acc: 0.7240 - val_loss: 4.5642 - val_acc: 0.7153\n",
            "Epoch 11/50\n",
            "30/30 [==============================] - 25s 831ms/step - loss: 4.4250 - acc: 0.7240 - val_loss: 4.5642 - val_acc: 0.7153\n",
            "Epoch 12/50\n",
            "30/30 [==============================] - 25s 830ms/step - loss: 4.4250 - acc: 0.7240 - val_loss: 4.5642 - val_acc: 0.7153\n",
            "Epoch 13/50\n",
            "30/30 [==============================] - 25s 829ms/step - loss: 4.4250 - acc: 0.7240 - val_loss: 4.5642 - val_acc: 0.7153\n",
            "Epoch 14/50\n",
            "30/30 [==============================] - 25s 831ms/step - loss: 4.4250 - acc: 0.7240 - val_loss: 4.5642 - val_acc: 0.7153\n",
            "Epoch 15/50\n",
            "30/30 [==============================] - 25s 830ms/step - loss: 4.4250 - acc: 0.7240 - val_loss: 4.5642 - val_acc: 0.7153\n",
            "Epoch 16/50\n",
            "30/30 [==============================] - 25s 830ms/step - loss: 4.4250 - acc: 0.7240 - val_loss: 4.5642 - val_acc: 0.7153\n",
            "Epoch 17/50\n",
            "30/30 [==============================] - 25s 829ms/step - loss: 4.4250 - acc: 0.7240 - val_loss: 4.5642 - val_acc: 0.7153\n",
            "Epoch 18/50\n",
            "30/30 [==============================] - 25s 829ms/step - loss: 4.4250 - acc: 0.7240 - val_loss: 4.5642 - val_acc: 0.7153\n",
            "Epoch 19/50\n",
            "30/30 [==============================] - 25s 829ms/step - loss: 4.4250 - acc: 0.7240 - val_loss: 4.5642 - val_acc: 0.7153\n",
            "Epoch 20/50\n",
            "30/30 [==============================] - 25s 830ms/step - loss: 4.4250 - acc: 0.7240 - val_loss: 4.5642 - val_acc: 0.7153\n",
            "Epoch 21/50\n",
            "30/30 [==============================] - 25s 831ms/step - loss: 4.4250 - acc: 0.7240 - val_loss: 4.5642 - val_acc: 0.7153\n",
            "Epoch 22/50\n",
            "30/30 [==============================] - 25s 829ms/step - loss: 4.4250 - acc: 0.7240 - val_loss: 4.5642 - val_acc: 0.7153\n",
            "Epoch 23/50\n",
            "30/30 [==============================] - 25s 830ms/step - loss: 4.4250 - acc: 0.7240 - val_loss: 4.5642 - val_acc: 0.7153\n",
            "Epoch 24/50\n",
            "30/30 [==============================] - 25s 830ms/step - loss: 4.4250 - acc: 0.7240 - val_loss: 4.5642 - val_acc: 0.7153\n",
            "Epoch 25/50\n",
            "30/30 [==============================] - 25s 829ms/step - loss: 4.4250 - acc: 0.7240 - val_loss: 4.5642 - val_acc: 0.7153\n",
            "Epoch 26/50\n",
            "30/30 [==============================] - 25s 830ms/step - loss: 4.4250 - acc: 0.7240 - val_loss: 4.5642 - val_acc: 0.7153\n",
            "Epoch 27/50\n",
            "30/30 [==============================] - 25s 831ms/step - loss: 4.4250 - acc: 0.7240 - val_loss: 4.5642 - val_acc: 0.7153\n",
            "Epoch 28/50\n",
            "30/30 [==============================] - 25s 830ms/step - loss: 4.4250 - acc: 0.7240 - val_loss: 4.5642 - val_acc: 0.7153\n",
            "Epoch 29/50\n",
            "30/30 [==============================] - 25s 831ms/step - loss: 4.4250 - acc: 0.7240 - val_loss: 4.5642 - val_acc: 0.7153\n",
            "Epoch 30/50\n",
            "30/30 [==============================] - 25s 831ms/step - loss: 4.4250 - acc: 0.7240 - val_loss: 4.5642 - val_acc: 0.7153\n",
            "Epoch 31/50\n",
            "30/30 [==============================] - 25s 830ms/step - loss: 4.4250 - acc: 0.7240 - val_loss: 4.5642 - val_acc: 0.7153\n",
            "Epoch 32/50\n",
            "30/30 [==============================] - 25s 829ms/step - loss: 4.4194 - acc: 0.7243 - val_loss: 4.5642 - val_acc: 0.7153\n",
            "Epoch 33/50\n",
            "30/30 [==============================] - 25s 831ms/step - loss: 4.4250 - acc: 0.7240 - val_loss: 4.5642 - val_acc: 0.7153\n",
            "Epoch 34/50\n",
            "30/30 [==============================] - 25s 830ms/step - loss: 4.4250 - acc: 0.7240 - val_loss: 4.5642 - val_acc: 0.7153\n",
            "Epoch 35/50\n",
            "30/30 [==============================] - 25s 832ms/step - loss: 4.4250 - acc: 0.7240 - val_loss: 4.5642 - val_acc: 0.7153\n",
            "Epoch 36/50\n",
            "30/30 [==============================] - 25s 833ms/step - loss: 4.4250 - acc: 0.7240 - val_loss: 4.5642 - val_acc: 0.7153\n",
            "Epoch 37/50\n",
            "30/30 [==============================] - 25s 832ms/step - loss: 4.4250 - acc: 0.7240 - val_loss: 4.5642 - val_acc: 0.7153\n",
            "Epoch 38/50\n",
            "30/30 [==============================] - 25s 829ms/step - loss: 4.4250 - acc: 0.7240 - val_loss: 4.5642 - val_acc: 0.7153\n",
            "Epoch 39/50\n",
            "30/30 [==============================] - 25s 829ms/step - loss: 4.4250 - acc: 0.7240 - val_loss: 4.5642 - val_acc: 0.7153\n",
            "Epoch 40/50\n",
            "30/30 [==============================] - 25s 830ms/step - loss: 4.4250 - acc: 0.7240 - val_loss: 4.5642 - val_acc: 0.7153\n",
            "Epoch 41/50\n",
            "30/30 [==============================] - 25s 829ms/step - loss: 4.4250 - acc: 0.7240 - val_loss: 4.5642 - val_acc: 0.7153\n",
            "Epoch 42/50\n",
            "30/30 [==============================] - 25s 831ms/step - loss: 4.3671 - acc: 0.7271 - val_loss: 4.5642 - val_acc: 0.7153\n",
            "Epoch 43/50\n",
            "30/30 [==============================] - 25s 830ms/step - loss: 4.4250 - acc: 0.7240 - val_loss: 4.5642 - val_acc: 0.7153\n",
            "Epoch 44/50\n",
            "30/30 [==============================] - 25s 829ms/step - loss: 4.4250 - acc: 0.7240 - val_loss: 4.5642 - val_acc: 0.7153\n",
            "Epoch 45/50\n",
            "30/30 [==============================] - 25s 830ms/step - loss: 4.4250 - acc: 0.7240 - val_loss: 4.5642 - val_acc: 0.7153\n",
            "Epoch 46/50\n",
            "30/30 [==============================] - 25s 829ms/step - loss: 4.4250 - acc: 0.7240 - val_loss: 4.5642 - val_acc: 0.7153\n",
            "Epoch 47/50\n",
            "30/30 [==============================] - 25s 829ms/step - loss: 4.4250 - acc: 0.7240 - val_loss: 4.5642 - val_acc: 0.7153\n",
            "Epoch 48/50\n",
            "30/30 [==============================] - 25s 832ms/step - loss: 4.4250 - acc: 0.7240 - val_loss: 4.5642 - val_acc: 0.7153\n",
            "Epoch 49/50\n",
            "30/30 [==============================] - 25s 831ms/step - loss: 4.4250 - acc: 0.7240 - val_loss: 4.5642 - val_acc: 0.7153\n",
            "Epoch 50/50\n",
            "30/30 [==============================] - 25s 830ms/step - loss: 4.4250 - acc: 0.7240 - val_loss: 4.5642 - val_acc: 0.7153\n"
          ],
          "name": "stdout"
        }
      ]
    },
    {
      "cell_type": "code",
      "metadata": {
        "id": "Tn_Os_aNbPoG",
        "colab_type": "code",
        "colab": {
          "base_uri": "https://localhost:8080/",
          "height": 545
        },
        "outputId": "8c89837f-f504-4757-abf9-aee268a4849e"
      },
      "source": [
        "acc = history.history['acc']\n",
        "val_acc = history.history['val_acc']\n",
        "loss = history.history['loss']\n",
        "val_loss = history.history['val_loss']\n",
        "epochs = range(1, len(acc) + 1)\n",
        "#Train and validation accuracy\n",
        "plt.plot(epochs, acc, 'b', label='Training accurarcy')\n",
        "plt.plot(epochs, val_acc, 'r', label='Validation accurarcy')\n",
        "plt.title('Training and Validation accurarcy')\n",
        "plt.legend()\n",
        "\n",
        "plt.figure()\n",
        "#Train and validation loss\n",
        "plt.plot(epochs, loss, 'b', label='Training loss')\n",
        "plt.plot(epochs, val_loss, 'r', label='Validation loss')\n",
        "plt.title('Training and Validation loss')\n",
        "plt.legend()\n",
        "plt.show()"
      ],
      "execution_count": 22,
      "outputs": [
        {
          "output_type": "display_data",
          "data": {
            "image/png": "[encoded data removed]",
            "text/plain": [
              "<Figure size 432x288 with 1 Axes>"
            ]
          },
          "metadata": {
            "tags": []
          }
        },
        {
          "output_type": "display_data",
          "data": {
            "image/png": "[encoded data removed]",
            "text/plain": [
              "<Figure size 432x288 with 1 Axes>"
            ]
          },
          "metadata": {
            "tags": []
          }
        }
      ]
    }
  ]
}