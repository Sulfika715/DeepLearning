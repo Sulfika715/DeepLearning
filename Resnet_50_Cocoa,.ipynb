{
  "nbformat": 4,
  "nbformat_minor": 0,
  "metadata": {
    "colab": {
      "name": "Resnet_50_Cocoa,.ipynb",
      "provenance": [],
      "authorship_tag": "ABX9TyMMRW8nzlybPJpwlawSOf8r",
      "include_colab_link": true
    },
    "kernelspec": {
      "name": "python3",
      "display_name": "Python 3"
    },
    "accelerator": "GPU"
  },
  "cells": [
    {
      "cell_type": "markdown",
      "metadata": {
        "id": "view-in-github",
        "colab_type": "text"
      },
      "source": [
        "<a href=\"https://colab.research.google.com/github/Sulfika715/DeepLearning/blob/master/Resnet_50_Cocoa%2C.ipynb\" target=\"_parent\"><img src=\"https://colab.research.google.com/assets/colab-badge.svg\" alt=\"Open In Colab\"/></a>"
      ]
    },
    {
      "cell_type": "code",
      "metadata": {
        "id": "oiOXYJzyxKbc",
        "colab": {
          "base_uri": "https://localhost:8080/",
          "height": 124
        },
        "outputId": "d1fdfa42-e19f-4d2e-cf40-aae47c8945fe"
      },
      "source": [
        "from google.colab import drive\n",
        "drive.mount('/content/drive')"
      ],
      "execution_count": null,
      "outputs": [
        {
          "output_type": "stream",
          "text": [
            "Go to this URL in a browser: https://accounts.google.com/o/oauth2/auth?client_id=947318989803-6bn6qk8qdgf4n4g3pfee6491hc0brc4i.apps.googleusercontent.com&redirect_uri=urn%3aietf%3awg%3aoauth%3a2.0%3aoob&response_type=code&scope=email%20https%3a%2f%2fwww.googleapis.com%2fauth%2fdocs.test%20https%3a%2f%2fwww.googleapis.com%2fauth%2fdrive%20https%3a%2f%2fwww.googleapis.com%2fauth%2fdrive.photos.readonly%20https%3a%2f%2fwww.googleapis.com%2fauth%2fpeopleapi.readonly\n",
            "\n",
            "Enter your authorization code:\n",
            "··········\n",
            "Mounted at /content/drive\n"
          ],
          "name": "stdout"
        }
      ]
    },
    {
      "cell_type": "code",
      "metadata": {
        "id": "Rl96I4l_xhmF",
        "colab": {
          "base_uri": "https://localhost:8080/",
          "height": 34
        },
        "outputId": "5cc776a1-fb3f-4010-f904-38fba8370501"
      },
      "source": [
        "%cd drive/'My Drive'"
      ],
      "execution_count": null,
      "outputs": [
        {
          "output_type": "stream",
          "text": [
            "/content/drive/My Drive\n"
          ],
          "name": "stdout"
        }
      ]
    },
    {
      "cell_type": "code",
      "metadata": {
        "id": "1ZMQQt9wxk1l",
        "colab": {
          "base_uri": "https://localhost:8080/",
          "height": 81
        },
        "outputId": "89726483-3684-4cfe-e620-874ea8a324f2"
      },
      "source": [
        "import numpy as np\n",
        "import pickle\n",
        "import cv2\n",
        "import keras\n",
        "from os import listdir\n",
        "from sklearn.preprocessing import LabelBinarizer\n",
        "from keras.models import Sequential\n",
        "from keras.layers.normalization import BatchNormalization\n",
        "from keras.layers.convolutional import Conv2D\n",
        "from keras.layers.convolutional import MaxPooling2D\n",
        "from keras.layers.core import Activation, Flatten, Dropout, Dense\n",
        "from keras import backend as K\n",
        "from keras.preprocessing.image import ImageDataGenerator\n",
        "from keras.optimizers import Adam\n",
        "from keras.models import Model\n",
        "from keras.preprocessing import image\n",
        "from keras.preprocessing.image import img_to_array\n",
        "from sklearn.preprocessing import MultiLabelBinarizer\n",
        "from sklearn.model_selection import train_test_split\n",
        "import matplotlib.pyplot as plt\n",
        "\n",
        "\n",
        "from keras.applications.resnet import ResNet152"
      ],
      "execution_count": null,
      "outputs": [
        {
          "output_type": "stream",
          "text": [
            "Using TensorFlow backend.\n"
          ],
          "name": "stderr"
        },
        {
          "output_type": "display_data",
          "data": {
            "text/html": [
              "<p style=\"color: red;\">\n",
              "The default version of TensorFlow in Colab will soon switch to TensorFlow 2.x.<br>\n",
              "We recommend you <a href=\"https://www.tensorflow.org/guide/migrate\" target=\"_blank\">upgrade</a> now \n",
              "or ensure your notebook will continue to use TensorFlow 1.x via the <code>%tensorflow_version 1.x</code> magic:\n",
              "<a href=\"https://colab.research.google.com/notebooks/tensorflow_version.ipynb\" target=\"_blank\">more info</a>.</p>\n"
            ],
            "text/plain": [
              "<IPython.core.display.HTML object>"
            ]
          },
          "metadata": {
            "tags": []
          }
        }
      ]
    },
    {
      "cell_type": "code",
      "metadata": {
        "id": "at1DToOFxo67"
      },
      "source": [
        "EPOCHS = 100\n",
        "INIT_LR = 1e-3\n",
        "BS = 32\n",
        "default_image_size = tuple((224, 224))\n",
        "image_size = 0\n",
        "directory_root = './Dataset/'\n",
        "width=224\n",
        "height=224\n",
        "depth=3"
      ],
      "execution_count": null,
      "outputs": []
    },
    {
      "cell_type": "code",
      "metadata": {
        "id": "1jWvwGArxsW9"
      },
      "source": [
        "def convert_image_to_array(image_dir):\n",
        "    try:\n",
        "        image = cv2.imread(image_dir)\n",
        "        if image is not None :\n",
        "            image = cv2.resize(image, default_image_size)   \n",
        "            return img_to_array(image)\n",
        "        else :\n",
        "            return np.array([])\n",
        "    except Exception as e:\n",
        "        print(f\"Error : {e}\")\n",
        "        return None"
      ],
      "execution_count": null,
      "outputs": []
    },
    {
      "cell_type": "code",
      "metadata": {
        "id": "famJM3cMxvGG",
        "colab": {
          "base_uri": "https://localhost:8080/",
          "height": 156
        },
        "outputId": "4eeff99f-9145-42e8-97bc-66f87a63aa20"
      },
      "source": [
        "image_list, label_list = [], []\n",
        "try:\n",
        "    print(\"[INFO] Loading images ...\")\n",
        "    root_dir = listdir(directory_root)\n",
        "    for directory in root_dir :\n",
        "        # remove .DS_Store from list\n",
        "        if directory == \".DS_Store\" :\n",
        "            root_dir.remove(directory)\n",
        "\n",
        "    for plant_folder in root_dir :\n",
        "        plant_disease_folder_list = listdir(f\"{directory_root}/{plant_folder}\")\n",
        "        \n",
        "        for disease_folder in plant_disease_folder_list :\n",
        "            # remove .DS_Store from list\n",
        "            if disease_folder == \".DS_Store\" :\n",
        "                plant_disease_folder_list.remove(disease_folder)\n",
        "\n",
        "        for plant_disease_folder in plant_disease_folder_list:\n",
        "            print(f\"[INFO] Processing {plant_disease_folder} ...\")\n",
        "            plant_disease_image_list = listdir(f\"{directory_root}/{plant_folder}/{plant_disease_folder}/\")\n",
        "                \n",
        "            for single_plant_disease_image in plant_disease_image_list :\n",
        "                if single_plant_disease_image == \".DS_Store\" :\n",
        "                    plant_disease_image_list.remove(single_plant_disease_image)\n",
        "\n",
        "            for image in plant_disease_image_list[:200]:\n",
        "                image_directory = f\"{directory_root}/{plant_folder}/{plant_disease_folder}/{image}\"\n",
        "                if image_directory.endswith(\".jpg\") == True or image_directory.endswith(\".JPG\") == True:\n",
        "                    image_list.append(convert_image_to_array(image_directory))\n",
        "                    label_list.append(plant_disease_folder)\n",
        "    print(\"[INFO] Image loading completed\")  \n",
        "except Exception as e:\n",
        "    print(f\"Error : {e}\")"
      ],
      "execution_count": null,
      "outputs": [
        {
          "output_type": "stream",
          "text": [
            "[INFO] Loading images ...\n",
            "[INFO] Processing Moldy_Cocoa ...\n",
            "[INFO] Processing Broken_Beans_Cocoa ...\n",
            "[INFO] Processing Fermented_Cocoa ...\n",
            "[INFO] Processing Unfermented_Cocoa ...\n",
            "[INFO] Processing Bean_Fraction_Cocoa ...\n",
            "[INFO] Processing Whole_Beans_Cocoa ...\n",
            "[INFO] Image loading completed\n"
          ],
          "name": "stdout"
        }
      ]
    },
    {
      "cell_type": "code",
      "metadata": {
        "id": "LbMK6dSmymBU",
        "colab": {
          "base_uri": "https://localhost:8080/",
          "height": 34
        },
        "outputId": "8e5f9a8d-d3e5-48ec-bbe2-95f41661b4b4"
      },
      "source": [
        "image_size = len(image_list)\n",
        "print(image_size)"
      ],
      "execution_count": null,
      "outputs": [
        {
          "output_type": "stream",
          "text": [
            "614\n"
          ],
          "name": "stdout"
        }
      ]
    },
    {
      "cell_type": "code",
      "metadata": {
        "id": "qFQd3Mj1yr_g",
        "colab": {
          "base_uri": "https://localhost:8080/",
          "height": 52
        },
        "outputId": "5743478d-8d42-4895-bb43-d02e630674a7"
      },
      "source": [
        "label_binarizer = LabelBinarizer()\n",
        "image_labels = label_binarizer.fit_transform(label_list)\n",
        "pickle.dump(label_binarizer,open('label_transform.pkl', 'wb'))\n",
        "n_classes = len(label_binarizer.classes_)\n",
        "print(label_binarizer.classes_)"
      ],
      "execution_count": null,
      "outputs": [
        {
          "output_type": "stream",
          "text": [
            "['Bean_Fraction_Cocoa' 'Broken_Beans_Cocoa' 'Fermented_Cocoa'\n",
            " 'Moldy_Cocoa' 'Unfermented_Cocoa' 'Whole_Beans_Cocoa']\n"
          ],
          "name": "stdout"
        }
      ]
    },
    {
      "cell_type": "code",
      "metadata": {
        "id": "vL0oxUJhy1Em"
      },
      "source": [
        "np_image_list = np.array(image_list, dtype=np.float16) / 225.0"
      ],
      "execution_count": null,
      "outputs": []
    },
    {
      "cell_type": "code",
      "metadata": {
        "id": "NIyBHY5sy4zL",
        "colab": {
          "base_uri": "https://localhost:8080/",
          "height": 34
        },
        "outputId": "17433c91-76fb-4906-a723-dc352ff6fc83"
      },
      "source": [
        "print(\"[INFO] Spliting data to train, test\")\n",
        "x_train, x_test, y_train, y_test = train_test_split(np_image_list, image_labels, test_size=0.2, random_state = 42) "
      ],
      "execution_count": null,
      "outputs": [
        {
          "output_type": "stream",
          "text": [
            "[INFO] Spliting data to train, test\n"
          ],
          "name": "stdout"
        }
      ]
    },
    {
      "cell_type": "code",
      "metadata": {
        "id": "uHwnc4tzy7ws"
      },
      "source": [
        "aug = ImageDataGenerator(\n",
        "    rotation_range=25, width_shift_range=0.1,\n",
        "    height_shift_range=0.1, shear_range=0.2, \n",
        "    zoom_range=0.2,horizontal_flip=True, \n",
        "    fill_mode=\"nearest\")"
      ],
      "execution_count": null,
      "outputs": []
    },
    {
      "cell_type": "code",
      "metadata": {
        "id": "UbXP_K7Oy_Dg",
        "colab": {
          "base_uri": "https://localhost:8080/",
          "height": 574
        },
        "outputId": "1b19f7c4-96dd-4fc5-a5af-6b5c852bae4c"
      },
      "source": [
        "input_shape = (height, width, depth)\n",
        "\n",
        "restnet = ResNet152(include_top=False, weights='imagenet', input_shape=(height,width,3))\n",
        "output = restnet.layers[-1].output\n",
        "output = keras.layers.Flatten()(output)\n",
        "restnet = Model(restnet.input, output=output)\n",
        "\n",
        "for layer in restnet.layers:\n",
        "    layer.trainable = False\n",
        "  \n",
        "model = Sequential()\n",
        "model.add(restnet)\n",
        "model.add(Dense(512, activation='relu', input_dim=input_shape))\n",
        "model.add(Dropout(0.3))\n",
        "model.add(Dense(512, activation='relu'))\n",
        "model.add(Dropout(0.3))\n",
        "model.add(Dense(6, activation='softmax'))"
      ],
      "execution_count": null,
      "outputs": [
        {
          "output_type": "stream",
          "text": [
            "WARNING:tensorflow:From /usr/local/lib/python3.6/dist-packages/keras/backend/tensorflow_backend.py:66: The name tf.get_default_graph is deprecated. Please use tf.compat.v1.get_default_graph instead.\n",
            "\n",
            "WARNING:tensorflow:From /usr/local/lib/python3.6/dist-packages/keras/backend/tensorflow_backend.py:541: The name tf.placeholder is deprecated. Please use tf.compat.v1.placeholder instead.\n",
            "\n",
            "WARNING:tensorflow:From /usr/local/lib/python3.6/dist-packages/keras/backend/tensorflow_backend.py:4432: The name tf.random_uniform is deprecated. Please use tf.random.uniform instead.\n",
            "\n",
            "WARNING:tensorflow:From /usr/local/lib/python3.6/dist-packages/keras/backend/tensorflow_backend.py:190: The name tf.get_default_session is deprecated. Please use tf.compat.v1.get_default_session instead.\n",
            "\n",
            "WARNING:tensorflow:From /usr/local/lib/python3.6/dist-packages/keras/backend/tensorflow_backend.py:197: The name tf.ConfigProto is deprecated. Please use tf.compat.v1.ConfigProto instead.\n",
            "\n",
            "WARNING:tensorflow:From /usr/local/lib/python3.6/dist-packages/keras/backend/tensorflow_backend.py:203: The name tf.Session is deprecated. Please use tf.compat.v1.Session instead.\n",
            "\n",
            "WARNING:tensorflow:From /usr/local/lib/python3.6/dist-packages/keras/backend/tensorflow_backend.py:207: The name tf.global_variables is deprecated. Please use tf.compat.v1.global_variables instead.\n",
            "\n",
            "WARNING:tensorflow:From /usr/local/lib/python3.6/dist-packages/keras/backend/tensorflow_backend.py:216: The name tf.is_variable_initialized is deprecated. Please use tf.compat.v1.is_variable_initialized instead.\n",
            "\n",
            "WARNING:tensorflow:From /usr/local/lib/python3.6/dist-packages/keras/backend/tensorflow_backend.py:223: The name tf.variables_initializer is deprecated. Please use tf.compat.v1.variables_initializer instead.\n",
            "\n",
            "WARNING:tensorflow:From /usr/local/lib/python3.6/dist-packages/keras/backend/tensorflow_backend.py:2041: The name tf.nn.fused_batch_norm is deprecated. Please use tf.compat.v1.nn.fused_batch_norm instead.\n",
            "\n",
            "WARNING:tensorflow:From /usr/local/lib/python3.6/dist-packages/keras/backend/tensorflow_backend.py:148: The name tf.placeholder_with_default is deprecated. Please use tf.compat.v1.placeholder_with_default instead.\n",
            "\n",
            "WARNING:tensorflow:From /usr/local/lib/python3.6/dist-packages/keras/backend/tensorflow_backend.py:4267: The name tf.nn.max_pool is deprecated. Please use tf.nn.max_pool2d instead.\n",
            "\n",
            "Downloading data from https://github.com/keras-team/keras-applications/releases/download/resnet/resnet152_weights_tf_dim_ordering_tf_kernels_notop.h5\n",
            "234700800/234698864 [==============================] - 8s 0us/step\n"
          ],
          "name": "stdout"
        },
        {
          "output_type": "stream",
          "text": [
            "/usr/local/lib/python3.6/dist-packages/ipykernel_launcher.py:6: UserWarning: Update your `Model` call to the Keras 2 API: `Model(Tensor(\"in..., outputs=Tensor(\"fl...)`\n",
            "  \n"
          ],
          "name": "stderr"
        },
        {
          "output_type": "stream",
          "text": [
            "WARNING:tensorflow:From /usr/local/lib/python3.6/dist-packages/keras/backend/tensorflow_backend.py:3733: calling dropout (from tensorflow.python.ops.nn_ops) with keep_prob is deprecated and will be removed in a future version.\n",
            "Instructions for updating:\n",
            "Please use `rate` instead of `keep_prob`. Rate should be set to `rate = 1 - keep_prob`.\n"
          ],
          "name": "stdout"
        }
      ]
    },
    {
      "cell_type": "code",
      "metadata": {
        "id": "avX_xbtfzR2T",
        "colab": {
          "base_uri": "https://localhost:8080/",
          "height": 156
        },
        "outputId": "eeda0133-eb4c-48b4-e909-c1df719faa2a"
      },
      "source": [
        "opt = Adam(lr=INIT_LR, decay=INIT_LR / EPOCHS)\n",
        "# distribution\n",
        "model.compile(loss=\"binary_crossentropy\", optimizer=opt,metrics=[\"accuracy\"])\n",
        "# train the network\n",
        "print(\"[INFO] training network...\")"
      ],
      "execution_count": null,
      "outputs": [
        {
          "output_type": "stream",
          "text": [
            "WARNING:tensorflow:From /usr/local/lib/python3.6/dist-packages/keras/optimizers.py:793: The name tf.train.Optimizer is deprecated. Please use tf.compat.v1.train.Optimizer instead.\n",
            "\n",
            "WARNING:tensorflow:From /usr/local/lib/python3.6/dist-packages/keras/backend/tensorflow_backend.py:3657: The name tf.log is deprecated. Please use tf.math.log instead.\n",
            "\n",
            "WARNING:tensorflow:From /tensorflow-1.15.0/python3.6/tensorflow_core/python/ops/nn_impl.py:183: where (from tensorflow.python.ops.array_ops) is deprecated and will be removed in a future version.\n",
            "Instructions for updating:\n",
            "Use tf.where in 2.0, which has the same broadcast rule as np.where\n",
            "[INFO] training network...\n"
          ],
          "name": "stdout"
        }
      ]
    },
    {
      "cell_type": "code",
      "metadata": {
        "id": "l9CNDRUszZmH",
        "colab": {
          "base_uri": "https://localhost:8080/",
          "height": 1000
        },
        "outputId": "f2a1e731-d3b1-4e99-99a1-3ed708296088"
      },
      "source": [
        "#Training Model\n",
        "history = model.fit_generator(\n",
        "    aug.flow(x_train, y_train, batch_size=BS),\n",
        "    validation_data=(x_test, y_test),\n",
        "    steps_per_epoch=len(x_train) // BS,\n",
        "    epochs=EPOCHS, verbose=1\n",
        "    )"
      ],
      "execution_count": null,
      "outputs": [
        {
          "output_type": "stream",
          "text": [
            "WARNING:tensorflow:From /usr/local/lib/python3.6/dist-packages/keras/backend/tensorflow_backend.py:1033: The name tf.assign_add is deprecated. Please use tf.compat.v1.assign_add instead.\n",
            "\n",
            "WARNING:tensorflow:From /usr/local/lib/python3.6/dist-packages/keras/backend/tensorflow_backend.py:1020: The name tf.assign is deprecated. Please use tf.compat.v1.assign instead.\n",
            "\n",
            "Epoch 1/100\n",
            "15/15 [==============================] - 23s 2s/step - loss: 3.9088 - acc: 0.7308 - val_loss: 4.4746 - val_acc: 0.7209\n",
            "Epoch 2/100\n",
            "15/15 [==============================] - 6s 375ms/step - loss: 4.3483 - acc: 0.7287 - val_loss: 4.4746 - val_acc: 0.7209\n",
            "Epoch 3/100\n",
            "15/15 [==============================] - 6s 383ms/step - loss: 4.4974 - acc: 0.7194 - val_loss: 4.4746 - val_acc: 0.7209\n",
            "Epoch 4/100\n",
            "15/15 [==============================] - 5s 366ms/step - loss: 4.3036 - acc: 0.7315 - val_loss: 4.4746 - val_acc: 0.7209\n",
            "Epoch 5/100\n",
            "15/15 [==============================] - 5s 339ms/step - loss: 4.4623 - acc: 0.7216 - val_loss: 4.4746 - val_acc: 0.7209\n",
            "Epoch 6/100\n",
            "15/15 [==============================] - 6s 369ms/step - loss: 4.3972 - acc: 0.7257 - val_loss: 4.4746 - val_acc: 0.7209\n",
            "Epoch 7/100\n",
            "15/15 [==============================] - 5s 361ms/step - loss: 4.3036 - acc: 0.7315 - val_loss: 4.4746 - val_acc: 0.7209\n",
            "Epoch 8/100\n",
            "15/15 [==============================] - 5s 365ms/step - loss: 4.5308 - acc: 0.7174 - val_loss: 4.4746 - val_acc: 0.7209\n",
            "Epoch 9/100\n",
            "15/15 [==============================] - 5s 363ms/step - loss: 4.4974 - acc: 0.7194 - val_loss: 4.4746 - val_acc: 0.7209\n",
            "Epoch 10/100\n",
            "15/15 [==============================] - 5s 365ms/step - loss: 4.4056 - acc: 0.7252 - val_loss: 4.4746 - val_acc: 0.7209\n",
            "Epoch 11/100\n",
            "15/15 [==============================] - 5s 355ms/step - loss: 4.3929 - acc: 0.7260 - val_loss: 4.4746 - val_acc: 0.7209\n",
            "Epoch 12/100\n",
            "15/15 [==============================] - 5s 337ms/step - loss: 4.3754 - acc: 0.7271 - val_loss: 4.4746 - val_acc: 0.7209\n",
            "Epoch 13/100\n",
            "15/15 [==============================] - 6s 372ms/step - loss: 4.3682 - acc: 0.7275 - val_loss: 4.4746 - val_acc: 0.7209\n",
            "Epoch 14/100\n",
            "15/15 [==============================] - 5s 357ms/step - loss: 4.4129 - acc: 0.7247 - val_loss: 4.4746 - val_acc: 0.7209\n",
            "Epoch 15/100\n",
            "15/15 [==============================] - 5s 338ms/step - loss: 4.4056 - acc: 0.7252 - val_loss: 4.4746 - val_acc: 0.7209\n",
            "Epoch 16/100\n",
            "15/15 [==============================] - 5s 353ms/step - loss: 4.4974 - acc: 0.7194 - val_loss: 4.4746 - val_acc: 0.7209\n",
            "Epoch 17/100\n",
            "15/15 [==============================] - 5s 331ms/step - loss: 4.4216 - acc: 0.7242 - val_loss: 4.4746 - val_acc: 0.7209\n",
            "Epoch 18/100\n",
            "15/15 [==============================] - 6s 381ms/step - loss: 4.4415 - acc: 0.7229 - val_loss: 4.4746 - val_acc: 0.7209\n",
            "Epoch 19/100\n",
            "15/15 [==============================] - 5s 344ms/step - loss: 4.4304 - acc: 0.7236 - val_loss: 4.4746 - val_acc: 0.7209\n",
            "Epoch 20/100\n",
            "15/15 [==============================] - 5s 341ms/step - loss: 4.4417 - acc: 0.7229 - val_loss: 4.4746 - val_acc: 0.7209\n",
            "Epoch 21/100\n",
            "15/15 [==============================] - 5s 316ms/step - loss: 4.4101 - acc: 0.7249 - val_loss: 4.4746 - val_acc: 0.7209\n",
            "Epoch 22/100\n",
            "15/15 [==============================] - 5s 335ms/step - loss: 4.5308 - acc: 0.7174 - val_loss: 4.4746 - val_acc: 0.7209\n",
            "Epoch 23/100\n",
            "15/15 [==============================] - 5s 347ms/step - loss: 4.3507 - acc: 0.7286 - val_loss: 4.4746 - val_acc: 0.7209\n",
            "Epoch 24/100\n",
            "15/15 [==============================] - 5s 348ms/step - loss: 4.4104 - acc: 0.7249 - val_loss: 4.4746 - val_acc: 0.7209\n",
            "Epoch 25/100\n",
            "15/15 [==============================] - 5s 342ms/step - loss: 4.4663 - acc: 0.7214 - val_loss: 4.4746 - val_acc: 0.7209\n",
            "Epoch 26/100\n",
            "15/15 [==============================] - 5s 351ms/step - loss: 4.3969 - acc: 0.7257 - val_loss: 4.4746 - val_acc: 0.7209\n",
            "Epoch 27/100\n",
            "15/15 [==============================] - 5s 339ms/step - loss: 4.3682 - acc: 0.7275 - val_loss: 4.4746 - val_acc: 0.7209\n",
            "Epoch 28/100\n",
            "15/15 [==============================] - 5s 354ms/step - loss: 4.4998 - acc: 0.7193 - val_loss: 4.4746 - val_acc: 0.7209\n",
            "Epoch 29/100\n",
            "15/15 [==============================] - 5s 362ms/step - loss: 4.3454 - acc: 0.7289 - val_loss: 4.4746 - val_acc: 0.7209\n",
            "Epoch 30/100\n",
            "15/15 [==============================] - 5s 344ms/step - loss: 4.4528 - acc: 0.7222 - val_loss: 4.4746 - val_acc: 0.7209\n",
            "Epoch 31/100\n",
            "15/15 [==============================] - 5s 355ms/step - loss: 4.4304 - acc: 0.7236 - val_loss: 4.4746 - val_acc: 0.7209\n",
            "Epoch 32/100\n",
            "15/15 [==============================] - 5s 335ms/step - loss: 4.4153 - acc: 0.7246 - val_loss: 4.4746 - val_acc: 0.7209\n",
            "Epoch 33/100\n",
            "15/15 [==============================] - 5s 359ms/step - loss: 4.4726 - acc: 0.7210 - val_loss: 4.4746 - val_acc: 0.7209\n",
            "Epoch 34/100\n",
            "15/15 [==============================] - 6s 377ms/step - loss: 4.4104 - acc: 0.7249 - val_loss: 4.4746 - val_acc: 0.7209\n",
            "Epoch 35/100\n",
            "15/15 [==============================] - 6s 367ms/step - loss: 4.4886 - acc: 0.7200 - val_loss: 4.4746 - val_acc: 0.7209\n",
            "Epoch 36/100\n",
            "15/15 [==============================] - 5s 352ms/step - loss: 4.3211 - acc: 0.7304 - val_loss: 4.4746 - val_acc: 0.7209\n",
            "Epoch 37/100\n",
            "15/15 [==============================] - 5s 350ms/step - loss: 4.5085 - acc: 0.7187 - val_loss: 4.4746 - val_acc: 0.7209\n",
            "Epoch 38/100\n",
            "15/15 [==============================] - 5s 363ms/step - loss: 4.4528 - acc: 0.7222 - val_loss: 4.4746 - val_acc: 0.7209\n",
            "Epoch 39/100\n",
            "15/15 [==============================] - 5s 324ms/step - loss: 4.3770 - acc: 0.7270 - val_loss: 4.4746 - val_acc: 0.7209\n",
            "Epoch 40/100\n",
            "15/15 [==============================] - 5s 340ms/step - loss: 4.3658 - acc: 0.7277 - val_loss: 4.4746 - val_acc: 0.7209\n",
            "Epoch 41/100\n",
            "15/15 [==============================] - 5s 327ms/step - loss: 4.5644 - acc: 0.7153 - val_loss: 4.4746 - val_acc: 0.7209\n",
            "Epoch 42/100\n",
            "15/15 [==============================] - 5s 324ms/step - loss: 4.4192 - acc: 0.7243 - val_loss: 4.4746 - val_acc: 0.7209\n",
            "Epoch 43/100\n",
            "15/15 [==============================] - 5s 355ms/step - loss: 4.4528 - acc: 0.7222 - val_loss: 4.4746 - val_acc: 0.7209\n",
            "Epoch 44/100\n",
            "15/15 [==============================] - 5s 318ms/step - loss: 4.3927 - acc: 0.7260 - val_loss: 4.4746 - val_acc: 0.7209\n",
            "Epoch 45/100\n",
            "15/15 [==============================] - 5s 352ms/step - loss: 4.4417 - acc: 0.7229 - val_loss: 4.4746 - val_acc: 0.7209\n",
            "Epoch 46/100\n",
            "15/15 [==============================] - 5s 337ms/step - loss: 4.4972 - acc: 0.7195 - val_loss: 4.4746 - val_acc: 0.7209\n",
            "Epoch 47/100\n",
            "15/15 [==============================] - 5s 350ms/step - loss: 4.4417 - acc: 0.7229 - val_loss: 4.4746 - val_acc: 0.7209\n",
            "Epoch 48/100\n",
            "15/15 [==============================] - 6s 373ms/step - loss: 4.4056 - acc: 0.7252 - val_loss: 4.4746 - val_acc: 0.7209\n",
            "Epoch 49/100\n",
            "15/15 [==============================] - 5s 344ms/step - loss: 4.4240 - acc: 0.7240 - val_loss: 4.4746 - val_acc: 0.7209\n",
            "Epoch 50/100\n",
            "15/15 [==============================] - 5s 363ms/step - loss: 4.3969 - acc: 0.7257 - val_loss: 4.4746 - val_acc: 0.7209\n",
            "Epoch 51/100\n",
            "15/15 [==============================] - 5s 366ms/step - loss: 4.5173 - acc: 0.7182 - val_loss: 4.4746 - val_acc: 0.7209\n",
            "Epoch 52/100\n",
            "15/15 [==============================] - 5s 336ms/step - loss: 4.4168 - acc: 0.7245 - val_loss: 4.4746 - val_acc: 0.7209\n",
            "Epoch 53/100\n",
            "15/15 [==============================] - 5s 359ms/step - loss: 4.5419 - acc: 0.7167 - val_loss: 4.4746 - val_acc: 0.7209\n",
            "Epoch 54/100\n",
            "15/15 [==============================] - 5s 356ms/step - loss: 4.3124 - acc: 0.7310 - val_loss: 4.4746 - val_acc: 0.7209\n",
            "Epoch 55/100\n",
            "15/15 [==============================] - 5s 353ms/step - loss: 4.4014 - acc: 0.7254 - val_loss: 4.4746 - val_acc: 0.7209\n",
            "Epoch 56/100\n",
            "15/15 [==============================] - 5s 349ms/step - loss: 4.4017 - acc: 0.7254 - val_loss: 4.4746 - val_acc: 0.7209\n",
            "Epoch 57/100\n",
            "15/15 [==============================] - 5s 359ms/step - loss: 4.4306 - acc: 0.7236 - val_loss: 4.4746 - val_acc: 0.7209\n",
            "Epoch 58/100\n",
            "15/15 [==============================] - 5s 316ms/step - loss: 4.4126 - acc: 0.7247 - val_loss: 4.4746 - val_acc: 0.7209\n",
            "Epoch 59/100\n",
            "15/15 [==============================] - 5s 360ms/step - loss: 4.4974 - acc: 0.7194 - val_loss: 4.4746 - val_acc: 0.7209\n",
            "Epoch 60/100\n",
            "15/15 [==============================] - 5s 341ms/step - loss: 4.4726 - acc: 0.7210 - val_loss: 4.4746 - val_acc: 0.7209\n",
            "Epoch 61/100\n",
            "15/15 [==============================] - 5s 345ms/step - loss: 4.3658 - acc: 0.7277 - val_loss: 4.4746 - val_acc: 0.7209\n",
            "Epoch 62/100\n",
            "15/15 [==============================] - 5s 330ms/step - loss: 4.4325 - acc: 0.7235 - val_loss: 4.4746 - val_acc: 0.7209\n",
            "Epoch 63/100\n",
            "15/15 [==============================] - 5s 330ms/step - loss: 4.5196 - acc: 0.7181 - val_loss: 4.4746 - val_acc: 0.7209\n",
            "Epoch 64/100\n",
            "15/15 [==============================] - 5s 333ms/step - loss: 4.3881 - acc: 0.7263 - val_loss: 4.4746 - val_acc: 0.7209\n",
            "Epoch 65/100\n",
            "15/15 [==============================] - 5s 341ms/step - loss: 4.3905 - acc: 0.7261 - val_loss: 4.4746 - val_acc: 0.7209\n",
            "Epoch 66/100\n",
            "15/15 [==============================] - 6s 371ms/step - loss: 4.4041 - acc: 0.7253 - val_loss: 4.4746 - val_acc: 0.7209\n",
            "Epoch 67/100\n",
            "15/15 [==============================] - 5s 340ms/step - loss: 4.3993 - acc: 0.7256 - val_loss: 4.4746 - val_acc: 0.7209\n",
            "Epoch 68/100\n",
            "15/15 [==============================] - 5s 343ms/step - loss: 4.4328 - acc: 0.7235 - val_loss: 4.4746 - val_acc: 0.7209\n",
            "Epoch 69/100\n",
            "15/15 [==============================] - 5s 360ms/step - loss: 4.4862 - acc: 0.7201 - val_loss: 4.4746 - val_acc: 0.7209\n",
            "Epoch 70/100\n",
            "15/15 [==============================] - 5s 330ms/step - loss: 4.4080 - acc: 0.7250 - val_loss: 4.4746 - val_acc: 0.7209\n",
            "Epoch 71/100\n",
            "15/15 [==============================] - 5s 356ms/step - loss: 4.4192 - acc: 0.7243 - val_loss: 4.4746 - val_acc: 0.7209\n",
            "Epoch 72/100\n",
            "15/15 [==============================] - 6s 400ms/step - loss: 4.4885 - acc: 0.7200 - val_loss: 4.4746 - val_acc: 0.7209\n",
            "Epoch 73/100\n",
            "15/15 [==============================] - 6s 397ms/step - loss: 4.3124 - acc: 0.7310 - val_loss: 4.4746 - val_acc: 0.7209\n",
            "Epoch 74/100\n",
            "15/15 [==============================] - 6s 381ms/step - loss: 4.4862 - acc: 0.7201 - val_loss: 4.4746 - val_acc: 0.7209\n",
            "Epoch 75/100\n",
            "15/15 [==============================] - 6s 371ms/step - loss: 4.4240 - acc: 0.7240 - val_loss: 4.4746 - val_acc: 0.7209\n",
            "Epoch 76/100\n",
            "15/15 [==============================] - 5s 342ms/step - loss: 4.4687 - acc: 0.7212 - val_loss: 4.4746 - val_acc: 0.7209\n",
            "Epoch 77/100\n",
            "15/15 [==============================] - 5s 339ms/step - loss: 4.3746 - acc: 0.7271 - val_loss: 4.4746 - val_acc: 0.7209\n",
            "Epoch 78/100\n",
            "15/15 [==============================] - 5s 358ms/step - loss: 4.4437 - acc: 0.7228 - val_loss: 4.4746 - val_acc: 0.7209\n",
            "Epoch 79/100\n",
            "15/15 [==============================] - 5s 358ms/step - loss: 4.4417 - acc: 0.7229 - val_loss: 4.4746 - val_acc: 0.7209\n",
            "Epoch 80/100\n",
            "15/15 [==============================] - 5s 334ms/step - loss: 4.3929 - acc: 0.7260 - val_loss: 4.4746 - val_acc: 0.7209\n",
            "Epoch 81/100\n",
            "15/15 [==============================] - 5s 361ms/step - loss: 4.4415 - acc: 0.7229 - val_loss: 4.4746 - val_acc: 0.7209\n",
            "Epoch 82/100\n",
            "15/15 [==============================] - 6s 375ms/step - loss: 4.4391 - acc: 0.7231 - val_loss: 4.4746 - val_acc: 0.7209\n",
            "Epoch 83/100\n",
            "15/15 [==============================] - 6s 367ms/step - loss: 4.4575 - acc: 0.7219 - val_loss: 4.4746 - val_acc: 0.7209\n",
            "Epoch 84/100\n",
            "15/15 [==============================] - 5s 359ms/step - loss: 4.4417 - acc: 0.7229 - val_loss: 4.4746 - val_acc: 0.7209\n",
            "Epoch 85/100\n",
            "15/15 [==============================] - 5s 337ms/step - loss: 4.3902 - acc: 0.7261 - val_loss: 4.4746 - val_acc: 0.7209\n",
            "Epoch 86/100\n",
            "15/15 [==============================] - 5s 336ms/step - loss: 4.4194 - acc: 0.7243 - val_loss: 4.4746 - val_acc: 0.7209\n",
            "Epoch 87/100\n",
            "15/15 [==============================] - 5s 309ms/step - loss: 4.3293 - acc: 0.7299 - val_loss: 4.4746 - val_acc: 0.7209\n",
            "Epoch 88/100\n",
            "15/15 [==============================] - 5s 352ms/step - loss: 4.5419 - acc: 0.7167 - val_loss: 4.4746 - val_acc: 0.7209\n",
            "Epoch 89/100\n",
            "15/15 [==============================] - 5s 340ms/step - loss: 4.5333 - acc: 0.7172 - val_loss: 4.4746 - val_acc: 0.7209\n",
            "Epoch 90/100\n",
            "15/15 [==============================] - 5s 354ms/step - loss: 4.2526 - acc: 0.7347 - val_loss: 4.4746 - val_acc: 0.7209\n",
            "Epoch 91/100\n",
            "15/15 [==============================] - 5s 312ms/step - loss: 4.4574 - acc: 0.7219 - val_loss: 4.4746 - val_acc: 0.7209\n",
            "Epoch 92/100\n",
            "15/15 [==============================] - 5s 348ms/step - loss: 4.3638 - acc: 0.7278 - val_loss: 4.4746 - val_acc: 0.7209\n",
            "Epoch 93/100\n",
            "15/15 [==============================] - 5s 314ms/step - loss: 4.5109 - acc: 0.7186 - val_loss: 4.4746 - val_acc: 0.7209\n",
            "Epoch 94/100\n",
            "15/15 [==============================] - 5s 344ms/step - loss: 4.4751 - acc: 0.7208 - val_loss: 4.4746 - val_acc: 0.7209\n",
            "Epoch 95/100\n",
            "15/15 [==============================] - 5s 338ms/step - loss: 4.4104 - acc: 0.7249 - val_loss: 4.4746 - val_acc: 0.7209\n",
            "Epoch 96/100\n",
            "15/15 [==============================] - 5s 340ms/step - loss: 4.4080 - acc: 0.7250 - val_loss: 4.4746 - val_acc: 0.7209\n",
            "Epoch 97/100\n",
            "15/15 [==============================] - 5s 336ms/step - loss: 4.3706 - acc: 0.7274 - val_loss: 4.4746 - val_acc: 0.7209\n",
            "Epoch 98/100\n",
            "15/15 [==============================] - 6s 375ms/step - loss: 4.4774 - acc: 0.7207 - val_loss: 4.4746 - val_acc: 0.7209\n",
            "Epoch 99/100\n",
            "15/15 [==============================] - 5s 348ms/step - loss: 4.3746 - acc: 0.7271 - val_loss: 4.4746 - val_acc: 0.7209\n",
            "Epoch 100/100\n",
            "15/15 [==============================] - 5s 357ms/step - loss: 4.5643 - acc: 0.7153 - val_loss: 4.4746 - val_acc: 0.7209\n"
          ],
          "name": "stdout"
        }
      ]
    },
    {
      "cell_type": "code",
      "metadata": {
        "id": "GwaFpywh1lIS",
        "colab": {
          "base_uri": "https://localhost:8080/",
          "height": 545
        },
        "outputId": "59a1cb16-4fdd-46cd-b6f8-ac90e7274c7f"
      },
      "source": [
        "acc = history.history['acc']\n",
        "val_acc = history.history['val_acc']\n",
        "loss = history.history['loss']\n",
        "val_loss = history.history['val_loss']\n",
        "epochs = range(1, len(acc) + 1)\n",
        "#Train and validation accuracy\n",
        "plt.plot(epochs, acc, 'b', label='Training accurarcy')\n",
        "plt.plot(epochs, val_acc, 'r', label='Validation accurarcy')\n",
        "plt.title('Training and Validation accurarcy')\n",
        "plt.legend()\n",
        "\n",
        "plt.figure()\n",
        "#Train and validation loss\n",
        "plt.plot(epochs, loss, 'b', label='Training loss')\n",
        "plt.plot(epochs, val_loss, 'r', label='Validation loss')\n",
        "plt.title('Training and Validation loss')\n",
        "plt.legend()\n",
        "plt.show()"
      ],
      "execution_count": null,
      "outputs": [
        {
          "output_type": "display_data",
          "data": {
            "image/png": "[encoded data removed]",
            "text/plain": [
              "<Figure size 432x288 with 1 Axes>"
            ]
          },
          "metadata": {
            "tags": []
          }
        },
        {
          "output_type": "display_data",
          "data": {
            "image/png": "[encoded data removed]",
            "text/plain": [
              "<Figure size 432x288 with 1 Axes>"
            ]
          },
          "metadata": {
            "tags": []
          }
        }
      ]
    },
    {
      "cell_type": "code",
      "metadata": {
        "id": "osocQXzh1pnr",
        "colab": {
          "base_uri": "https://localhost:8080/",
          "height": 69
        },
        "outputId": "2d89dfde-13da-4895-9683-39a6af0257c6"
      },
      "source": [
        "print(\"[INFO] Calculating model accuracy\")\n",
        "scores = model.evaluate(x_test, y_test)\n",
        "print(f\"Test Accuracy: {scores[1]*100}\")"
      ],
      "execution_count": null,
      "outputs": [
        {
          "output_type": "stream",
          "text": [
            "[INFO] Calculating model accuracy\n",
            "123/123 [==============================] - 1s 6ms/step\n",
            "Test Accuracy: 72.08672320939661\n"
          ],
          "name": "stdout"
        }
      ]
    }
  ]
}